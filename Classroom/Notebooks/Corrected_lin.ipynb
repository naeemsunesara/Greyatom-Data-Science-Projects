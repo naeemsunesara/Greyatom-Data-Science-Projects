{
 "cells": [
  {
   "cell_type": "code",
   "execution_count": 62,
   "metadata": {},
   "outputs": [],
   "source": [
    "import os\n",
    "os.chdir(\"/Users/Arunabh/Downloads/datasets-for-isrl/\")\n",
    "import matplotlib.pyplot as plt\n",
    "import seaborn as sns\n",
    "import pandas as pd\n",
    "import numpy as np\n",
    "from sklearn.linear_model import LinearRegression, Ridge, Lasso, ElasticNet\n",
    "import statsmodels.api as sm\n",
    "from sklearn.metrics import r2_score\n",
    "from sklearn.model_selection import train_test_split as tts\n",
    "from sklearn.model_selection import GridSearchCV, cross_val_score\n",
    "from sklearn.preprocessing import MinMaxScaler\n"
   ]
  },
  {
   "cell_type": "code",
   "execution_count": 16,
   "metadata": {},
   "outputs": [],
   "source": [
    "df = pd.read_csv(\"Credit.csv\")\n",
    "#Dropping Unnamed:0\n",
    "df = df.drop([\"Unnamed: 0\"],1)\n",
    "X = df.drop([\"Balance\"],1)\n",
    "y = df[\"Balance\"]"
   ]
  },
  {
   "cell_type": "code",
   "execution_count": 20,
   "metadata": {},
   "outputs": [],
   "source": [
    "scaler  = MinMaxScaler()"
   ]
  },
  {
   "cell_type": "code",
   "execution_count": 25,
   "metadata": {},
   "outputs": [
    {
     "data": {
      "text/html": [
       "<div>\n",
       "<style scoped>\n",
       "    .dataframe tbody tr th:only-of-type {\n",
       "        vertical-align: middle;\n",
       "    }\n",
       "\n",
       "    .dataframe tbody tr th {\n",
       "        vertical-align: top;\n",
       "    }\n",
       "\n",
       "    .dataframe thead th {\n",
       "        text-align: right;\n",
       "    }\n",
       "</style>\n",
       "<table border=\"1\" class=\"dataframe\">\n",
       "  <thead>\n",
       "    <tr style=\"text-align: right;\">\n",
       "      <th></th>\n",
       "      <th>Income</th>\n",
       "      <th>Limit</th>\n",
       "      <th>Rating</th>\n",
       "      <th>Cards</th>\n",
       "      <th>Age</th>\n",
       "      <th>Education</th>\n",
       "      <th>Gender_ Male</th>\n",
       "      <th>Gender_Female</th>\n",
       "      <th>Student_No</th>\n",
       "      <th>Student_Yes</th>\n",
       "      <th>Married_No</th>\n",
       "      <th>Married_Yes</th>\n",
       "      <th>Ethnicity_African American</th>\n",
       "      <th>Ethnicity_Asian</th>\n",
       "      <th>Ethnicity_Caucasian</th>\n",
       "    </tr>\n",
       "  </thead>\n",
       "  <tbody>\n",
       "    <tr>\n",
       "      <th>0</th>\n",
       "      <td>0.025737</td>\n",
       "      <td>0.210675</td>\n",
       "      <td>0.213723</td>\n",
       "      <td>0.125</td>\n",
       "      <td>0.146667</td>\n",
       "      <td>0.400000</td>\n",
       "      <td>1.0</td>\n",
       "      <td>0.0</td>\n",
       "      <td>1.0</td>\n",
       "      <td>0.0</td>\n",
       "      <td>0.0</td>\n",
       "      <td>1.0</td>\n",
       "      <td>0.0</td>\n",
       "      <td>0.0</td>\n",
       "      <td>1.0</td>\n",
       "    </tr>\n",
       "    <tr>\n",
       "      <th>1</th>\n",
       "      <td>0.542722</td>\n",
       "      <td>0.443406</td>\n",
       "      <td>0.438695</td>\n",
       "      <td>0.250</td>\n",
       "      <td>0.786667</td>\n",
       "      <td>0.666667</td>\n",
       "      <td>0.0</td>\n",
       "      <td>1.0</td>\n",
       "      <td>0.0</td>\n",
       "      <td>1.0</td>\n",
       "      <td>0.0</td>\n",
       "      <td>1.0</td>\n",
       "      <td>0.0</td>\n",
       "      <td>1.0</td>\n",
       "      <td>0.0</td>\n",
       "    </tr>\n",
       "    <tr>\n",
       "      <th>2</th>\n",
       "      <td>0.534598</td>\n",
       "      <td>0.476336</td>\n",
       "      <td>0.473566</td>\n",
       "      <td>0.375</td>\n",
       "      <td>0.640000</td>\n",
       "      <td>0.400000</td>\n",
       "      <td>1.0</td>\n",
       "      <td>0.0</td>\n",
       "      <td>1.0</td>\n",
       "      <td>0.0</td>\n",
       "      <td>1.0</td>\n",
       "      <td>0.0</td>\n",
       "      <td>0.0</td>\n",
       "      <td>1.0</td>\n",
       "      <td>0.0</td>\n",
       "    </tr>\n",
       "    <tr>\n",
       "      <th>3</th>\n",
       "      <td>0.786079</td>\n",
       "      <td>0.662353</td>\n",
       "      <td>0.661417</td>\n",
       "      <td>0.250</td>\n",
       "      <td>0.173333</td>\n",
       "      <td>0.400000</td>\n",
       "      <td>0.0</td>\n",
       "      <td>1.0</td>\n",
       "      <td>1.0</td>\n",
       "      <td>0.0</td>\n",
       "      <td>1.0</td>\n",
       "      <td>0.0</td>\n",
       "      <td>0.0</td>\n",
       "      <td>1.0</td>\n",
       "      <td>0.0</td>\n",
       "    </tr>\n",
       "    <tr>\n",
       "      <th>4</th>\n",
       "      <td>0.258271</td>\n",
       "      <td>0.309542</td>\n",
       "      <td>0.296963</td>\n",
       "      <td>0.125</td>\n",
       "      <td>0.600000</td>\n",
       "      <td>0.733333</td>\n",
       "      <td>1.0</td>\n",
       "      <td>0.0</td>\n",
       "      <td>1.0</td>\n",
       "      <td>0.0</td>\n",
       "      <td>0.0</td>\n",
       "      <td>1.0</td>\n",
       "      <td>0.0</td>\n",
       "      <td>0.0</td>\n",
       "      <td>1.0</td>\n",
       "    </tr>\n",
       "  </tbody>\n",
       "</table>\n",
       "</div>"
      ],
      "text/plain": [
       "     Income     Limit    Rating  Cards       Age  Education  Gender_ Male  \\\n",
       "0  0.025737  0.210675  0.213723  0.125  0.146667   0.400000           1.0   \n",
       "1  0.542722  0.443406  0.438695  0.250  0.786667   0.666667           0.0   \n",
       "2  0.534598  0.476336  0.473566  0.375  0.640000   0.400000           1.0   \n",
       "3  0.786079  0.662353  0.661417  0.250  0.173333   0.400000           0.0   \n",
       "4  0.258271  0.309542  0.296963  0.125  0.600000   0.733333           1.0   \n",
       "\n",
       "   Gender_Female  Student_No  Student_Yes  Married_No  Married_Yes  \\\n",
       "0            0.0         1.0          0.0         0.0          1.0   \n",
       "1            1.0         0.0          1.0         0.0          1.0   \n",
       "2            0.0         1.0          0.0         1.0          0.0   \n",
       "3            1.0         1.0          0.0         1.0          0.0   \n",
       "4            0.0         1.0          0.0         0.0          1.0   \n",
       "\n",
       "   Ethnicity_African American  Ethnicity_Asian  Ethnicity_Caucasian  \n",
       "0                         0.0              0.0                  1.0  \n",
       "1                         0.0              1.0                  0.0  \n",
       "2                         0.0              1.0                  0.0  \n",
       "3                         0.0              1.0                  0.0  \n",
       "4                         0.0              0.0                  1.0  "
      ]
     },
     "execution_count": 25,
     "metadata": {},
     "output_type": "execute_result"
    }
   ],
   "source": [
    "X = pd.get_dummies(X)\n",
    "cols = list(X)\n",
    "X = scaler.fit_transform(X)\n",
    "X = pd.DataFrame(X)\n",
    "X.columns = cols\n",
    "X.head()"
   ]
  },
  {
   "cell_type": "code",
   "execution_count": 36,
   "metadata": {},
   "outputs": [],
   "source": [
    "drop = ['Gender_ Male','Student_No','Married_No', 'Ethnicity_African American']"
   ]
  },
  {
   "cell_type": "code",
   "execution_count": 37,
   "metadata": {},
   "outputs": [],
   "source": [
    "X= X.drop(drop,1)"
   ]
  },
  {
   "cell_type": "code",
   "execution_count": 40,
   "metadata": {},
   "outputs": [
    {
     "data": {
      "text/plain": [
       "Income                 float64\n",
       "Limit                  float64\n",
       "Rating                 float64\n",
       "Cards                  float64\n",
       "Age                    float64\n",
       "Education              float64\n",
       "Gender_Female          float64\n",
       "Student_Yes            float64\n",
       "Married_Yes            float64\n",
       "Ethnicity_Asian        float64\n",
       "Ethnicity_Caucasian    float64\n",
       "dtype: object"
      ]
     },
     "execution_count": 40,
     "metadata": {},
     "output_type": "execute_result"
    }
   ],
   "source": [
    "X.dtypes"
   ]
  },
  {
   "cell_type": "code",
   "execution_count": 44,
   "metadata": {},
   "outputs": [],
   "source": [
    "categorical = list(X)[-5:]"
   ]
  },
  {
   "cell_type": "code",
   "execution_count": 45,
   "metadata": {},
   "outputs": [
    {
     "data": {
      "text/plain": [
       "['Gender_Female',\n",
       " 'Student_Yes',\n",
       " 'Married_Yes',\n",
       " 'Ethnicity_Asian',\n",
       " 'Ethnicity_Caucasian']"
      ]
     },
     "execution_count": 45,
     "metadata": {},
     "output_type": "execute_result"
    }
   ],
   "source": [
    "categorical"
   ]
  },
  {
   "cell_type": "code",
   "execution_count": 47,
   "metadata": {},
   "outputs": [],
   "source": [
    "for x in categorical:\n",
    "    X[x] = X[x].astype(\"category\")"
   ]
  },
  {
   "cell_type": "code",
   "execution_count": 48,
   "metadata": {},
   "outputs": [
    {
     "data": {
      "text/plain": [
       "Income                  float64\n",
       "Limit                   float64\n",
       "Rating                  float64\n",
       "Cards                   float64\n",
       "Age                     float64\n",
       "Education               float64\n",
       "Gender_Female          category\n",
       "Student_Yes            category\n",
       "Married_Yes            category\n",
       "Ethnicity_Asian        category\n",
       "Ethnicity_Caucasian    category\n",
       "dtype: object"
      ]
     },
     "execution_count": 48,
     "metadata": {},
     "output_type": "execute_result"
    }
   ],
   "source": [
    "X.dtypes"
   ]
  },
  {
   "cell_type": "code",
   "execution_count": 51,
   "metadata": {},
   "outputs": [],
   "source": [
    "y = pd.DataFrame(y)"
   ]
  },
  {
   "cell_type": "code",
   "execution_count": 53,
   "metadata": {},
   "outputs": [],
   "source": [
    "y.columns = [\"Balance\"]"
   ]
  },
  {
   "cell_type": "code",
   "execution_count": 56,
   "metadata": {},
   "outputs": [],
   "source": [
    "df = pd.concat([X,y],1)"
   ]
  },
  {
   "cell_type": "code",
   "execution_count": 57,
   "metadata": {},
   "outputs": [
    {
     "data": {
      "text/html": [
       "<div>\n",
       "<style scoped>\n",
       "    .dataframe tbody tr th:only-of-type {\n",
       "        vertical-align: middle;\n",
       "    }\n",
       "\n",
       "    .dataframe tbody tr th {\n",
       "        vertical-align: top;\n",
       "    }\n",
       "\n",
       "    .dataframe thead th {\n",
       "        text-align: right;\n",
       "    }\n",
       "</style>\n",
       "<table border=\"1\" class=\"dataframe\">\n",
       "  <thead>\n",
       "    <tr style=\"text-align: right;\">\n",
       "      <th></th>\n",
       "      <th>Income</th>\n",
       "      <th>Limit</th>\n",
       "      <th>Rating</th>\n",
       "      <th>Cards</th>\n",
       "      <th>Age</th>\n",
       "      <th>Education</th>\n",
       "      <th>Gender_Female</th>\n",
       "      <th>Student_Yes</th>\n",
       "      <th>Married_Yes</th>\n",
       "      <th>Ethnicity_Asian</th>\n",
       "      <th>Ethnicity_Caucasian</th>\n",
       "      <th>Balance</th>\n",
       "    </tr>\n",
       "  </thead>\n",
       "  <tbody>\n",
       "    <tr>\n",
       "      <th>0</th>\n",
       "      <td>0.025737</td>\n",
       "      <td>0.210675</td>\n",
       "      <td>0.213723</td>\n",
       "      <td>0.125</td>\n",
       "      <td>0.146667</td>\n",
       "      <td>0.400000</td>\n",
       "      <td>0.0</td>\n",
       "      <td>0.0</td>\n",
       "      <td>1.0</td>\n",
       "      <td>0.0</td>\n",
       "      <td>1.0</td>\n",
       "      <td>333</td>\n",
       "    </tr>\n",
       "    <tr>\n",
       "      <th>1</th>\n",
       "      <td>0.542722</td>\n",
       "      <td>0.443406</td>\n",
       "      <td>0.438695</td>\n",
       "      <td>0.250</td>\n",
       "      <td>0.786667</td>\n",
       "      <td>0.666667</td>\n",
       "      <td>1.0</td>\n",
       "      <td>1.0</td>\n",
       "      <td>1.0</td>\n",
       "      <td>1.0</td>\n",
       "      <td>0.0</td>\n",
       "      <td>903</td>\n",
       "    </tr>\n",
       "    <tr>\n",
       "      <th>2</th>\n",
       "      <td>0.534598</td>\n",
       "      <td>0.476336</td>\n",
       "      <td>0.473566</td>\n",
       "      <td>0.375</td>\n",
       "      <td>0.640000</td>\n",
       "      <td>0.400000</td>\n",
       "      <td>0.0</td>\n",
       "      <td>0.0</td>\n",
       "      <td>0.0</td>\n",
       "      <td>1.0</td>\n",
       "      <td>0.0</td>\n",
       "      <td>580</td>\n",
       "    </tr>\n",
       "    <tr>\n",
       "      <th>3</th>\n",
       "      <td>0.786079</td>\n",
       "      <td>0.662353</td>\n",
       "      <td>0.661417</td>\n",
       "      <td>0.250</td>\n",
       "      <td>0.173333</td>\n",
       "      <td>0.400000</td>\n",
       "      <td>1.0</td>\n",
       "      <td>0.0</td>\n",
       "      <td>0.0</td>\n",
       "      <td>1.0</td>\n",
       "      <td>0.0</td>\n",
       "      <td>964</td>\n",
       "    </tr>\n",
       "    <tr>\n",
       "      <th>4</th>\n",
       "      <td>0.258271</td>\n",
       "      <td>0.309542</td>\n",
       "      <td>0.296963</td>\n",
       "      <td>0.125</td>\n",
       "      <td>0.600000</td>\n",
       "      <td>0.733333</td>\n",
       "      <td>0.0</td>\n",
       "      <td>0.0</td>\n",
       "      <td>1.0</td>\n",
       "      <td>0.0</td>\n",
       "      <td>1.0</td>\n",
       "      <td>331</td>\n",
       "    </tr>\n",
       "  </tbody>\n",
       "</table>\n",
       "</div>"
      ],
      "text/plain": [
       "     Income     Limit    Rating  Cards       Age  Education Gender_Female  \\\n",
       "0  0.025737  0.210675  0.213723  0.125  0.146667   0.400000           0.0   \n",
       "1  0.542722  0.443406  0.438695  0.250  0.786667   0.666667           1.0   \n",
       "2  0.534598  0.476336  0.473566  0.375  0.640000   0.400000           0.0   \n",
       "3  0.786079  0.662353  0.661417  0.250  0.173333   0.400000           1.0   \n",
       "4  0.258271  0.309542  0.296963  0.125  0.600000   0.733333           0.0   \n",
       "\n",
       "  Student_Yes Married_Yes Ethnicity_Asian Ethnicity_Caucasian  Balance  \n",
       "0         0.0         1.0             0.0                 1.0      333  \n",
       "1         1.0         1.0             1.0                 0.0      903  \n",
       "2         0.0         0.0             1.0                 0.0      580  \n",
       "3         0.0         0.0             1.0                 0.0      964  \n",
       "4         0.0         1.0             0.0                 1.0      331  "
      ]
     },
     "execution_count": 57,
     "metadata": {},
     "output_type": "execute_result"
    }
   ],
   "source": [
    "df.head()"
   ]
  },
  {
   "cell_type": "code",
   "execution_count": 60,
   "metadata": {},
   "outputs": [],
   "source": [
    "numeric = df.select_dtypes(include = np.number)\n",
    "non_numeric = df.select_dtypes(exclude = np.number)"
   ]
  },
  {
   "cell_type": "code",
   "execution_count": 66,
   "metadata": {},
   "outputs": [
    {
     "data": {
      "text/plain": [
       "<matplotlib.axes._subplots.AxesSubplot at 0x1c2440aa90>"
      ]
     },
     "execution_count": 66,
     "metadata": {},
     "output_type": "execute_result"
    },
    {
     "data": {
      "image/png": "[encoded data removed]",
      "text/plain": [
       "<Figure size 1080x576 with 2 Axes>"
      ]
     },
     "metadata": {
      "needs_background": "light"
     },
     "output_type": "display_data"
    }
   ],
   "source": [
    "plt.figure(figsize=(15,8))\n",
    "sns.heatmap(numeric.corr(), annot=True, cmap=plt.cm.Reds)"
   ]
  },
  {
   "cell_type": "code",
   "execution_count": 67,
   "metadata": {},
   "outputs": [
    {
     "data": {
      "text/plain": [
       "Income                  float64\n",
       "Limit                   float64\n",
       "Rating                  float64\n",
       "Cards                   float64\n",
       "Age                     float64\n",
       "Education               float64\n",
       "Gender_Female          category\n",
       "Student_Yes            category\n",
       "Married_Yes            category\n",
       "Ethnicity_Asian        category\n",
       "Ethnicity_Caucasian    category\n",
       "Balance                   int64\n",
       "dtype: object"
      ]
     },
     "execution_count": 67,
     "metadata": {},
     "output_type": "execute_result"
    }
   ],
   "source": [
    "df.dtypes"
   ]
  },
  {
   "cell_type": "code",
   "execution_count": 72,
   "metadata": {},
   "outputs": [],
   "source": [
    "cols = list(df)[-6:-1]"
   ]
  },
  {
   "cell_type": "code",
   "execution_count": 73,
   "metadata": {},
   "outputs": [],
   "source": [
    "for x in cols:\n",
    "    df[x] = df[x].astype(\"int\")"
   ]
  },
  {
   "cell_type": "code",
   "execution_count": 74,
   "metadata": {},
   "outputs": [
    {
     "data": {
      "text/plain": [
       "Income                 float64\n",
       "Limit                  float64\n",
       "Rating                 float64\n",
       "Cards                  float64\n",
       "Age                    float64\n",
       "Education              float64\n",
       "Gender_Female            int64\n",
       "Student_Yes              int64\n",
       "Married_Yes              int64\n",
       "Ethnicity_Asian          int64\n",
       "Ethnicity_Caucasian      int64\n",
       "Balance                  int64\n",
       "dtype: object"
      ]
     },
     "execution_count": 74,
     "metadata": {},
     "output_type": "execute_result"
    }
   ],
   "source": [
    "df.dtypes"
   ]
  },
  {
   "cell_type": "code",
   "execution_count": null,
   "metadata": {},
   "outputs": [],
   "source": [
    "# sm.OLS(formula='Balance~ Literacy + Wealth + Region', data=df)"
   ]
  },
  {
   "cell_type": "code",
   "execution_count": 78,
   "metadata": {},
   "outputs": [
    {
     "ename": "TypeError",
     "evalue": "__init__() missing 1 required positional argument: 'endog'",
     "output_type": "error",
     "traceback": [
      "\u001b[0;31m---------------------------------------------------------------------------\u001b[0m",
      "\u001b[0;31mTypeError\u001b[0m                                 Traceback (most recent call last)",
      "\u001b[0;32m<ipython-input-78-5180fe61455d>\u001b[0m in \u001b[0;36m<module>\u001b[0;34m\u001b[0m\n\u001b[0;32m----> 1\u001b[0;31m \u001b[0msm\u001b[0m\u001b[0;34m.\u001b[0m\u001b[0mOLS\u001b[0m\u001b[0;34m(\u001b[0m\u001b[0mformula\u001b[0m \u001b[0;34m=\u001b[0m \u001b[0;34m\"Balance~Limit+Gender_Female+Student_Yes+Ethnicity_Asian+Ethnicity_Caucasian\"\u001b[0m\u001b[0;34m,\u001b[0m \u001b[0mdata\u001b[0m \u001b[0;34m=\u001b[0m \u001b[0mdf\u001b[0m\u001b[0;34m)\u001b[0m\u001b[0;34m\u001b[0m\u001b[0;34m\u001b[0m\u001b[0m\n\u001b[0m",
      "\u001b[0;31mTypeError\u001b[0m: __init__() missing 1 required positional argument: 'endog'"
     ]
    }
   ],
   "source": [
    "sm.OLS(formula = \"Balance~Limit+Gender_Female+Student_Yes+Ethnicity_Asian+Ethnicity_Caucasian\", data = df)"
   ]
  },
  {
   "cell_type": "code",
   "execution_count": 81,
   "metadata": {},
   "outputs": [],
   "source": [
    "import statsmodels.formula.api as smf"
   ]
  },
  {
   "cell_type": "code",
   "execution_count": 87,
   "metadata": {},
   "outputs": [],
   "source": [
    "results = smf.ols('Balance~Limit+Gender_Female+Student_Yes+Ethnicity_Asian+Ethnicity_Caucasian', data=df).fit()"
   ]
  },
  {
   "cell_type": "code",
   "execution_count": 88,
   "metadata": {},
   "outputs": [
    {
     "data": {
      "text/html": [
       "<table class=\"simpletable\">\n",
       "<caption>OLS Regression Results</caption>\n",
       "<tr>\n",
       "  <th>Dep. Variable:</th>         <td>Balance</td>     <th>  R-squared:         </th> <td>   0.813</td> \n",
       "</tr>\n",
       "<tr>\n",
       "  <th>Model:</th>                   <td>OLS</td>       <th>  Adj. R-squared:    </th> <td>   0.810</td> \n",
       "</tr>\n",
       "<tr>\n",
       "  <th>Method:</th>             <td>Least Squares</td>  <th>  F-statistic:       </th> <td>   341.8</td> \n",
       "</tr>\n",
       "<tr>\n",
       "  <th>Date:</th>             <td>Sat, 09 Feb 2019</td> <th>  Prob (F-statistic):</th> <td>7.85e-141</td>\n",
       "</tr>\n",
       "<tr>\n",
       "  <th>Time:</th>                 <td>12:09:48</td>     <th>  Log-Likelihood:    </th> <td> -2684.4</td> \n",
       "</tr>\n",
       "<tr>\n",
       "  <th>No. Observations:</th>      <td>   400</td>      <th>  AIC:               </th> <td>   5381.</td> \n",
       "</tr>\n",
       "<tr>\n",
       "  <th>Df Residuals:</th>          <td>   394</td>      <th>  BIC:               </th> <td>   5405.</td> \n",
       "</tr>\n",
       "<tr>\n",
       "  <th>Df Model:</th>              <td>     5</td>      <th>                     </th>     <td> </td>    \n",
       "</tr>\n",
       "<tr>\n",
       "  <th>Covariance Type:</th>      <td>nonrobust</td>    <th>                     </th>     <td> </td>    \n",
       "</tr>\n",
       "</table>\n",
       "<table class=\"simpletable\">\n",
       "<tr>\n",
       "           <td></td>              <th>coef</th>     <th>std err</th>      <th>t</th>      <th>P>|t|</th>  <th>[0.025</th>    <th>0.975]</th>  \n",
       "</tr>\n",
       "<tr>\n",
       "  <th>Intercept</th>           <td> -202.1246</td> <td>   28.616</td> <td>   -7.063</td> <td> 0.000</td> <td> -258.384</td> <td> -145.865</td>\n",
       "</tr>\n",
       "<tr>\n",
       "  <th>Limit</th>               <td> 2247.0097</td> <td>   56.769</td> <td>   39.581</td> <td> 0.000</td> <td> 2135.401</td> <td> 2358.618</td>\n",
       "</tr>\n",
       "<tr>\n",
       "  <th>Gender_Female</th>       <td>   -1.2961</td> <td>   20.075</td> <td>   -0.065</td> <td> 0.949</td> <td>  -40.763</td> <td>   38.171</td>\n",
       "</tr>\n",
       "<tr>\n",
       "  <th>Student_Yes</th>         <td>  404.7709</td> <td>   33.480</td> <td>   12.090</td> <td> 0.000</td> <td>  338.949</td> <td>  470.593</td>\n",
       "</tr>\n",
       "<tr>\n",
       "  <th>Ethnicity_Asian</th>     <td>   17.7660</td> <td>   28.299</td> <td>    0.628</td> <td> 0.530</td> <td>  -37.870</td> <td>   73.402</td>\n",
       "</tr>\n",
       "<tr>\n",
       "  <th>Ethnicity_Caucasian</th> <td>   20.1659</td> <td>   24.644</td> <td>    0.818</td> <td> 0.414</td> <td>  -28.285</td> <td>   68.616</td>\n",
       "</tr>\n",
       "</table>\n",
       "<table class=\"simpletable\">\n",
       "<tr>\n",
       "  <th>Omnibus:</th>       <td> 7.738</td> <th>  Durbin-Watson:     </th> <td>   1.927</td>\n",
       "</tr>\n",
       "<tr>\n",
       "  <th>Prob(Omnibus):</th> <td> 0.021</td> <th>  Jarque-Bera (JB):  </th> <td>   7.630</td>\n",
       "</tr>\n",
       "<tr>\n",
       "  <th>Skew:</th>          <td>-0.330</td> <th>  Prob(JB):          </th> <td>  0.0220</td>\n",
       "</tr>\n",
       "<tr>\n",
       "  <th>Kurtosis:</th>      <td> 3.148</td> <th>  Cond. No.          </th> <td>    7.94</td>\n",
       "</tr>\n",
       "</table><br/><br/>Warnings:<br/>[1] Standard Errors assume that the covariance matrix of the errors is correctly specified."
      ],
      "text/plain": [
       "<class 'statsmodels.iolib.summary.Summary'>\n",
       "\"\"\"\n",
       "                            OLS Regression Results                            \n",
       "==============================================================================\n",
       "Dep. Variable:                Balance   R-squared:                       0.813\n",
       "Model:                            OLS   Adj. R-squared:                  0.810\n",
       "Method:                 Least Squares   F-statistic:                     341.8\n",
       "Date:                Sat, 09 Feb 2019   Prob (F-statistic):          7.85e-141\n",
       "Time:                        12:09:48   Log-Likelihood:                -2684.4\n",
       "No. Observations:                 400   AIC:                             5381.\n",
       "Df Residuals:                     394   BIC:                             5405.\n",
       "Df Model:                           5                                         \n",
       "Covariance Type:            nonrobust                                         \n",
       "=======================================================================================\n",
       "                          coef    std err          t      P>|t|      [0.025      0.975]\n",
       "---------------------------------------------------------------------------------------\n",
       "Intercept            -202.1246     28.616     -7.063      0.000    -258.384    -145.865\n",
       "Limit                2247.0097     56.769     39.581      0.000    2135.401    2358.618\n",
       "Gender_Female          -1.2961     20.075     -0.065      0.949     -40.763      38.171\n",
       "Student_Yes           404.7709     33.480     12.090      0.000     338.949     470.593\n",
       "Ethnicity_Asian        17.7660     28.299      0.628      0.530     -37.870      73.402\n",
       "Ethnicity_Caucasian    20.1659     24.644      0.818      0.414     -28.285      68.616\n",
       "==============================================================================\n",
       "Omnibus:                        7.738   Durbin-Watson:                   1.927\n",
       "Prob(Omnibus):                  0.021   Jarque-Bera (JB):                7.630\n",
       "Skew:                          -0.330   Prob(JB):                       0.0220\n",
       "Kurtosis:                       3.148   Cond. No.                         7.94\n",
       "==============================================================================\n",
       "\n",
       "Warnings:\n",
       "[1] Standard Errors assume that the covariance matrix of the errors is correctly specified.\n",
       "\"\"\""
      ]
     },
     "execution_count": 88,
     "metadata": {},
     "output_type": "execute_result"
    }
   ],
   "source": [
    "results.summary()"
   ]
  },
  {
   "cell_type": "code",
   "execution_count": 90,
   "metadata": {},
   "outputs": [],
   "source": [
    "X = df.drop([\"Balance\"],1)\n",
    "y = df[\"Balance\"]"
   ]
  },
  {
   "cell_type": "code",
   "execution_count": null,
   "metadata": {},
   "outputs": [],
   "source": [
    "list()"
   ]
  },
  {
   "cell_type": "code",
   "execution_count": 92,
   "metadata": {},
   "outputs": [
    {
     "data": {
      "text/html": [
       "<table class=\"simpletable\">\n",
       "<caption>OLS Regression Results</caption>\n",
       "<tr>\n",
       "  <th>Dep. Variable:</th>         <td>Balance</td>     <th>  R-squared:         </th> <td>   0.973</td> \n",
       "</tr>\n",
       "<tr>\n",
       "  <th>Model:</th>                   <td>OLS</td>       <th>  Adj. R-squared:    </th> <td>   0.972</td> \n",
       "</tr>\n",
       "<tr>\n",
       "  <th>Method:</th>             <td>Least Squares</td>  <th>  F-statistic:       </th> <td>   1259.</td> \n",
       "</tr>\n",
       "<tr>\n",
       "  <th>Date:</th>             <td>Sat, 09 Feb 2019</td> <th>  Prob (F-statistic):</th> <td>2.81e-296</td>\n",
       "</tr>\n",
       "<tr>\n",
       "  <th>Time:</th>                 <td>12:13:19</td>     <th>  Log-Likelihood:    </th> <td> -2464.4</td> \n",
       "</tr>\n",
       "<tr>\n",
       "  <th>No. Observations:</th>      <td>   400</td>      <th>  AIC:               </th> <td>   4951.</td> \n",
       "</tr>\n",
       "<tr>\n",
       "  <th>Df Residuals:</th>          <td>   389</td>      <th>  BIC:               </th> <td>   4995.</td> \n",
       "</tr>\n",
       "<tr>\n",
       "  <th>Df Model:</th>              <td>    11</td>      <th>                     </th>     <td> </td>    \n",
       "</tr>\n",
       "<tr>\n",
       "  <th>Covariance Type:</th>      <td>nonrobust</td>    <th>                     </th>     <td> </td>    \n",
       "</tr>\n",
       "</table>\n",
       "<table class=\"simpletable\">\n",
       "<tr>\n",
       "           <td></td>              <th>coef</th>     <th>std err</th>      <th>t</th>      <th>P>|t|</th>  <th>[0.025</th>    <th>0.975]</th>  \n",
       "</tr>\n",
       "<tr>\n",
       "  <th>Income</th>              <td>-1303.8348</td> <td>   48.110</td> <td>  -27.101</td> <td> 0.000</td> <td>-1398.423</td> <td>-1209.247</td>\n",
       "</tr>\n",
       "<tr>\n",
       "  <th>Limit</th>               <td> 1716.6646</td> <td>  498.253</td> <td>    3.445</td> <td> 0.001</td> <td>  737.058</td> <td> 2696.271</td>\n",
       "</tr>\n",
       "<tr>\n",
       "  <th>Rating</th>              <td> 1623.3748</td> <td>  510.270</td> <td>    3.181</td> <td> 0.002</td> <td>  620.143</td> <td> 2626.606</td>\n",
       "</tr>\n",
       "<tr>\n",
       "  <th>Cards</th>               <td>    6.2091</td> <td>   38.755</td> <td>    0.160</td> <td> 0.873</td> <td>  -69.986</td> <td>   82.404</td>\n",
       "</tr>\n",
       "<tr>\n",
       "  <th>Age</th>                 <td> -154.1725</td> <td>   23.793</td> <td>   -6.480</td> <td> 0.000</td> <td> -200.952</td> <td> -107.393</td>\n",
       "</tr>\n",
       "<tr>\n",
       "  <th>Education</th>           <td> -180.5368</td> <td>   23.426</td> <td>   -7.707</td> <td> 0.000</td> <td> -226.594</td> <td> -134.480</td>\n",
       "</tr>\n",
       "<tr>\n",
       "  <th>Gender_Female</th>       <td>  -35.4657</td> <td>   11.424</td> <td>   -3.105</td> <td> 0.002</td> <td>  -57.926</td> <td>  -13.006</td>\n",
       "</tr>\n",
       "<tr>\n",
       "  <th>Student_Yes</th>         <td>  410.7153</td> <td>   19.629</td> <td>   20.924</td> <td> 0.000</td> <td>  372.122</td> <td>  449.308</td>\n",
       "</tr>\n",
       "<tr>\n",
       "  <th>Married_Yes</th>         <td>  -37.8319</td> <td>   11.869</td> <td>   -3.187</td> <td> 0.002</td> <td>  -61.168</td> <td>  -14.496</td>\n",
       "</tr>\n",
       "<tr>\n",
       "  <th>Ethnicity_Asian</th>     <td>  -33.4019</td> <td>   15.906</td> <td>   -2.100</td> <td> 0.036</td> <td>  -64.675</td> <td>   -2.129</td>\n",
       "</tr>\n",
       "<tr>\n",
       "  <th>Ethnicity_Caucasian</th> <td>  -43.6597</td> <td>   13.416</td> <td>   -3.254</td> <td> 0.001</td> <td>  -70.036</td> <td>  -17.284</td>\n",
       "</tr>\n",
       "</table>\n",
       "<table class=\"simpletable\">\n",
       "<tr>\n",
       "  <th>Omnibus:</th>       <td> 8.913</td> <th>  Durbin-Watson:     </th> <td>   1.896</td>\n",
       "</tr>\n",
       "<tr>\n",
       "  <th>Prob(Omnibus):</th> <td> 0.012</td> <th>  Jarque-Bera (JB):  </th> <td>   6.683</td>\n",
       "</tr>\n",
       "<tr>\n",
       "  <th>Skew:</th>          <td> 0.206</td> <th>  Prob(JB):          </th> <td>  0.0354</td>\n",
       "</tr>\n",
       "<tr>\n",
       "  <th>Kurtosis:</th>      <td> 2.520</td> <th>  Cond. No.          </th> <td>    169.</td>\n",
       "</tr>\n",
       "</table><br/><br/>Warnings:<br/>[1] Standard Errors assume that the covariance matrix of the errors is correctly specified."
      ],
      "text/plain": [
       "<class 'statsmodels.iolib.summary.Summary'>\n",
       "\"\"\"\n",
       "                            OLS Regression Results                            \n",
       "==============================================================================\n",
       "Dep. Variable:                Balance   R-squared:                       0.973\n",
       "Model:                            OLS   Adj. R-squared:                  0.972\n",
       "Method:                 Least Squares   F-statistic:                     1259.\n",
       "Date:                Sat, 09 Feb 2019   Prob (F-statistic):          2.81e-296\n",
       "Time:                        12:13:19   Log-Likelihood:                -2464.4\n",
       "No. Observations:                 400   AIC:                             4951.\n",
       "Df Residuals:                     389   BIC:                             4995.\n",
       "Df Model:                          11                                         \n",
       "Covariance Type:            nonrobust                                         \n",
       "=======================================================================================\n",
       "                          coef    std err          t      P>|t|      [0.025      0.975]\n",
       "---------------------------------------------------------------------------------------\n",
       "Income              -1303.8348     48.110    -27.101      0.000   -1398.423   -1209.247\n",
       "Limit                1716.6646    498.253      3.445      0.001     737.058    2696.271\n",
       "Rating               1623.3748    510.270      3.181      0.002     620.143    2626.606\n",
       "Cards                   6.2091     38.755      0.160      0.873     -69.986      82.404\n",
       "Age                  -154.1725     23.793     -6.480      0.000    -200.952    -107.393\n",
       "Education            -180.5368     23.426     -7.707      0.000    -226.594    -134.480\n",
       "Gender_Female         -35.4657     11.424     -3.105      0.002     -57.926     -13.006\n",
       "Student_Yes           410.7153     19.629     20.924      0.000     372.122     449.308\n",
       "Married_Yes           -37.8319     11.869     -3.187      0.002     -61.168     -14.496\n",
       "Ethnicity_Asian       -33.4019     15.906     -2.100      0.036     -64.675      -2.129\n",
       "Ethnicity_Caucasian   -43.6597     13.416     -3.254      0.001     -70.036     -17.284\n",
       "==============================================================================\n",
       "Omnibus:                        8.913   Durbin-Watson:                   1.896\n",
       "Prob(Omnibus):                  0.012   Jarque-Bera (JB):                6.683\n",
       "Skew:                           0.206   Prob(JB):                       0.0354\n",
       "Kurtosis:                       2.520   Cond. No.                         169.\n",
       "==============================================================================\n",
       "\n",
       "Warnings:\n",
       "[1] Standard Errors assume that the covariance matrix of the errors is correctly specified.\n",
       "\"\"\""
      ]
     },
     "execution_count": 92,
     "metadata": {},
     "output_type": "execute_result"
    }
   ],
   "source": [
    "features = \n",
    "model = sm.OLS(y,X).fit()\n",
    "model.summary()\n"
   ]
  },
  {
   "cell_type": "code",
   "execution_count": null,
   "metadata": {},
   "outputs": [],
   "source": []
  }
 ],
 "metadata": {
  "kernelspec": {
   "display_name": "Python 3",
   "language": "python",
   "name": "python3"
  },
  "language_info": {
   "codemirror_mode": {
    "name": "ipython",
    "version": 3
   },
   "file_extension": ".py",
   "mimetype": "text/x-python",
   "name": "python",
   "nbconvert_exporter": "python",
   "pygments_lexer": "ipython3",
   "version": "3.7.1"
  }
 },
 "nbformat": 4,
 "nbformat_minor": 2
}
