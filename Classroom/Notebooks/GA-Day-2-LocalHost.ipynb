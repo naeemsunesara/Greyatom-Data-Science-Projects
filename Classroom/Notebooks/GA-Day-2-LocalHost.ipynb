{
 "cells": [
  {
   "cell_type": "code",
   "execution_count": 1,
   "metadata": {},
   "outputs": [],
   "source": [
    "import os"
   ]
  },
  {
   "cell_type": "code",
   "execution_count": 2,
   "metadata": {},
   "outputs": [
    {
     "data": {
      "text/plain": [
       "'/Users/naeemsunesara/GreyAtom'"
      ]
     },
     "execution_count": 2,
     "metadata": {},
     "output_type": "execute_result"
    }
   ],
   "source": [
    "os.getcwd()"
   ]
  },
  {
   "cell_type": "code",
   "execution_count": 3,
   "metadata": {},
   "outputs": [],
   "source": [
    "os.chdir('/Users/naeemsunesara/Downloads/')"
   ]
  },
  {
   "cell_type": "code",
   "execution_count": 4,
   "metadata": {},
   "outputs": [
    {
     "name": "stdout",
     "output_type": "stream",
     "text": [
      "\u001b[34m100CANON\u001b[m\u001b[m/\r\n",
      "1350.jpeg\r\n",
      "17 (5) (1).png\r\n",
      "17 (5).png\r\n",
      "17.png\r\n",
      "549720697_Dec2017.pdf\r\n",
      "549720697_Feb2018.pdf\r\n",
      "549720697_Jan2018.pdf\r\n",
      "\u001b[34mAlgoTestDev\u001b[m\u001b[m/\r\n",
      "AlgoTestDev-20181018T072928Z-001.zip\r\n",
      "BUILD.sh\r\n",
      "CHART ADVISE LOGO revised (1).png\r\n",
      "CHART ADVISE LOGO revised.png\r\n",
      "CitrixReceiverWeb.dmg\r\n",
      "Copy of Copy of Copy of Untitled Design.jpg\r\n",
      "\u001b[31mCreative Cloud Uninstaller.dmg\u001b[m\u001b[m*\r\n",
      "Cyberduck-6.4.4.27722.zip\r\n",
      "DataExport.json\r\n",
      "Don Tapscott- Blockchain Revolution.pdf\r\n",
      "\u001b[34mDownload Pack\u001b[m\u001b[m/\r\n",
      "Emerald Product Kit (20th Nov).pdf\r\n",
      "FEE RECIEPT.jpeg\r\n",
      "FileZilla_3.29.0_macosx-x86.app.tar.bz2\r\n",
      "FileZilla_3.31.0_macosx-x86.app.tar.bz2\r\n",
      "Firefox 61.0.1.dmg\r\n",
      "How To Buy Low & Sell High - Course Links.xlsx\r\n",
      "IMG-6021.PNG\r\n",
      "IMG_20181024_194336.jpg\r\n",
      "IMG_20181024_195745_HHT.jpg\r\n",
      "\u001b[34mMaterial_Icons_Google-1\u001b[m\u001b[m/\r\n",
      "Nathaniel Popper- Digital Gold Bitcoin.pdf\r\n",
      "New Doc 2018-04-05 (1).pdf\r\n",
      "New Doc 2018-04-05.pdf\r\n",
      "New Doc 2018-06-06_1.jpg\r\n",
      "New Doc 2018-06-23.jpg\r\n",
      "New Doc 2018-10-12 19.36.17.jpeg\r\n",
      "New Doc 2018-10-12 19.36.17.jpg\r\n",
      "New Doc 2018-10-24 20.45.40.pdf\r\n",
      "New Doc 2018-10-24 20.45.40_2.pdf\r\n",
      "New Doc 2018-10-24 20.50.43_1 2.pdf\r\n",
      "New Doc 2018-10-24 20.50.43_1.pdf\r\n",
      "New Doc 2018-10-24 22.01.51_1.jpg\r\n",
      "New Doc 2018-10-24 22.01.51_1.pdf\r\n",
      "Opensshmysqlchartdevprivkey\r\n",
      "Pandas_Cheat_Sheet.pdf\r\n",
      "Paul Vigna- The Age of Cryptocurrency.pdf\r\n",
      "Policy.pdf\r\n",
      "Ramadan-Planner-2018b.pdf\r\n",
      "Statement_2016MTH11_697549720.pdf\r\n",
      "Statement_2016MTH12_697549720.pdf\r\n",
      "Statement_2017MTH03_697549720.pdf\r\n",
      "Statement_2017MTH04_697549720.pdf\r\n",
      "Statement_2017MTH05_697549720.pdf\r\n",
      "Statement_2017MTH06_697549720.pdf\r\n",
      "Statement_2017MTH07_697549720.pdf\r\n",
      "Statement_2017MTH08_697549720.pdf\r\n",
      "Statement_2017MTH09_697549720.pdf\r\n",
      "Statement_2017MTH10_697549720.pdf\r\n",
      "Statement_2017MTH11_697549720.pdf\r\n",
      "Statement_2017MTH12_697549720.pdf\r\n",
      "Tax_Invoice_Naeem_Sunesara_1st_Inst.pdf\r\n",
      "\u001b[30m\u001b[43mThe Matrix (1999)\u001b[m\u001b[m/\r\n",
      "\u001b[34mTotal\u001b[m\u001b[m/\r\n",
      "Users (1).csv\r\n",
      "Users.csv\r\n",
      "Vikatan Ad 18032018.jpg\r\n",
      "WhatsApp Image 2017-12-30 at 14.35.30.jpeg\r\n",
      "WhatsApp Image 2017-12-30 at 14.41.07.jpeg\r\n",
      "WhatsApp Image 2017-12-30 at 14.42.44.jpeg\r\n",
      "Zerodha v2 edit.ipynb\r\n",
      "Zerodha v2.ipynb\r\n",
      "a415b490-c252-4ed9-8340-4e325fb2c58e (1).jpeg\r\n",
      "a415b490-c252-4ed9-8340-4e325fb2c58e.jpeg\r\n",
      "adhar card.jpg\r\n",
      "at_key\r\n",
      "ca_mac_key\r\n",
      "cachart.jpg\r\n",
      "chromeremotedesktop.dmg\r\n",
      "dashboard_landing.php\r\n",
      "diabetes.csv\r\n",
      "domissile.jpg\r\n",
      "git-2.19.0-intel-universal-mavericks.dmg\r\n",
      "hsc zidana.jpg\r\n",
      "imageedit_1_9484282080.png\r\n",
      "imageedit_24_8137066598.png\r\n",
      "imageedit_26_4821250259.png\r\n",
      "imageedit_26_5021092023.png\r\n",
      "imageedit_28_4158469680.png\r\n",
      "imageedit_30_5692718550.png\r\n",
      "imageedit_4_8737659614.png\r\n",
      "images-2018-10-24T14_38_10.zip\r\n",
      "images-2018-10-24T14_40_21.zip\r\n",
      "images-2018-10-24T15_22_54.zip\r\n",
      "layersliderwp-6.6.5.installable.zip\r\n",
      "loop.sh\r\n",
      "mohdamember.sql\r\n",
      "mohdtables.sql\r\n",
      "mohdtables2.sql\r\n",
      "mohdtables3.sql\r\n",
      "mohdtables4.sql\r\n",
      "\u001b[34mpycon-pandas-tutorial-master\u001b[m\u001b[m/\r\n",
      "pycon-pandas-tutorial-master.zip\r\n",
      "rsz_whatsapp_image_2017-12-30_at_143530.jpg\r\n",
      "smoke_PNG962.png\r\n",
      "spraymodelogopit (1).png\r\n",
      "spraymodelogopit (2).png\r\n",
      "spraymodelogopit.png\r\n",
      "ssc.jpg\r\n",
      "team.jpg\r\n",
      "the-matrix-720p-1614.torrent\r\n",
      "themeforest-9228123-canvas-the-multipurpose-html5-template.zip\r\n",
      "wp1812662-paul-pogba-manchester-united-wallpapers.jpg\r\n",
      "zerodha_pulls.xlsx\r\n"
     ]
    }
   ],
   "source": [
    "ls"
   ]
  },
  {
   "cell_type": "code",
   "execution_count": 5,
   "metadata": {},
   "outputs": [],
   "source": [
    "import numpy as np"
   ]
  },
  {
   "cell_type": "code",
   "execution_count": 6,
   "metadata": {},
   "outputs": [
    {
     "data": {
      "text/plain": [
       "'/Users/naeemsunesara/Downloads'"
      ]
     },
     "execution_count": 6,
     "metadata": {},
     "output_type": "execute_result"
    }
   ],
   "source": [
    "os.getcwd()"
   ]
  },
  {
   "cell_type": "code",
   "execution_count": 10,
   "metadata": {},
   "outputs": [],
   "source": [
    "data = np.genfromtxt('diabetes.csv')"
   ]
  },
  {
   "cell_type": "code",
   "execution_count": null,
   "metadata": {},
   "outputs": [],
   "source": []
  },
  {
   "cell_type": "code",
   "execution_count": null,
   "metadata": {},
   "outputs": [],
   "source": []
  },
  {
   "cell_type": "code",
   "execution_count": null,
   "metadata": {},
   "outputs": [],
   "source": []
  },
  {
   "cell_type": "code",
   "execution_count": null,
   "metadata": {},
   "outputs": [],
   "source": []
  }
 ],
 "metadata": {
  "kernelspec": {
   "display_name": "Python 3",
   "language": "python",
   "name": "python3"
  },
  "language_info": {
   "codemirror_mode": {
    "name": "ipython",
    "version": 3
   },
   "file_extension": ".py",
   "mimetype": "text/x-python",
   "name": "python",
   "nbconvert_exporter": "python",
   "pygments_lexer": "ipython3",
   "version": "3.7.0"
  }
 },
 "nbformat": 4,
 "nbformat_minor": 2
}
