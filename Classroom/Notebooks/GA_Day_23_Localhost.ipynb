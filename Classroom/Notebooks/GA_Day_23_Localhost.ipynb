{
 "cells": [
  {
   "cell_type": "code",
   "execution_count": 9,
   "metadata": {},
   "outputs": [],
   "source": [
    "import pandas as pd\n",
    "import numpy as np\n",
    "import matplotlib.pyplot as plt"
   ]
  },
  {
   "cell_type": "code",
   "execution_count": 12,
   "metadata": {},
   "outputs": [],
   "source": [
    "df = pd.read_csv('train_data_haptik.csv')"
   ]
  },
  {
   "cell_type": "code",
   "execution_count": 14,
   "metadata": {},
   "outputs": [
    {
     "data": {
      "text/html": [
       "<div>\n",
       "<style scoped>\n",
       "    .dataframe tbody tr th:only-of-type {\n",
       "        vertical-align: middle;\n",
       "    }\n",
       "\n",
       "    .dataframe tbody tr th {\n",
       "        vertical-align: top;\n",
       "    }\n",
       "\n",
       "    .dataframe thead th {\n",
       "        text-align: right;\n",
       "    }\n",
       "</style>\n",
       "<table border=\"1\" class=\"dataframe\">\n",
       "  <thead>\n",
       "    <tr style=\"text-align: right;\">\n",
       "      <th></th>\n",
       "      <th>message</th>\n",
       "      <th>food</th>\n",
       "      <th>recharge</th>\n",
       "      <th>support</th>\n",
       "      <th>reminders</th>\n",
       "      <th>travel</th>\n",
       "      <th>nearby</th>\n",
       "      <th>movies</th>\n",
       "      <th>casual</th>\n",
       "      <th>other</th>\n",
       "    </tr>\n",
       "  </thead>\n",
       "  <tbody>\n",
       "    <tr>\n",
       "      <th>0</th>\n",
       "      <td>7am everyday</td>\n",
       "      <td>F</td>\n",
       "      <td>F</td>\n",
       "      <td>F</td>\n",
       "      <td>T</td>\n",
       "      <td>F</td>\n",
       "      <td>F</td>\n",
       "      <td>F</td>\n",
       "      <td>F</td>\n",
       "      <td>F</td>\n",
       "    </tr>\n",
       "    <tr>\n",
       "      <th>1</th>\n",
       "      <td>chocolate cake</td>\n",
       "      <td>T</td>\n",
       "      <td>F</td>\n",
       "      <td>F</td>\n",
       "      <td>F</td>\n",
       "      <td>F</td>\n",
       "      <td>F</td>\n",
       "      <td>F</td>\n",
       "      <td>F</td>\n",
       "      <td>F</td>\n",
       "    </tr>\n",
       "    <tr>\n",
       "      <th>2</th>\n",
       "      <td>closed mortice and tenon joint door dimentions</td>\n",
       "      <td>F</td>\n",
       "      <td>F</td>\n",
       "      <td>T</td>\n",
       "      <td>F</td>\n",
       "      <td>F</td>\n",
       "      <td>F</td>\n",
       "      <td>F</td>\n",
       "      <td>F</td>\n",
       "      <td>F</td>\n",
       "    </tr>\n",
       "    <tr>\n",
       "      <th>3</th>\n",
       "      <td>train eppo kelambum</td>\n",
       "      <td>F</td>\n",
       "      <td>F</td>\n",
       "      <td>F</td>\n",
       "      <td>F</td>\n",
       "      <td>T</td>\n",
       "      <td>F</td>\n",
       "      <td>F</td>\n",
       "      <td>F</td>\n",
       "      <td>F</td>\n",
       "    </tr>\n",
       "    <tr>\n",
       "      <th>4</th>\n",
       "      <td>yesterday i have cancelled the flight ticket</td>\n",
       "      <td>F</td>\n",
       "      <td>F</td>\n",
       "      <td>F</td>\n",
       "      <td>F</td>\n",
       "      <td>T</td>\n",
       "      <td>F</td>\n",
       "      <td>F</td>\n",
       "      <td>F</td>\n",
       "      <td>F</td>\n",
       "    </tr>\n",
       "  </tbody>\n",
       "</table>\n",
       "</div>"
      ],
      "text/plain": [
       "                                          message food recharge support  \\\n",
       "0                                    7am everyday    F        F       F   \n",
       "1                                  chocolate cake    T        F       F   \n",
       "2  closed mortice and tenon joint door dimentions    F        F       T   \n",
       "3                             train eppo kelambum    F        F       F   \n",
       "4    yesterday i have cancelled the flight ticket    F        F       F   \n",
       "\n",
       "  reminders travel nearby movies casual other  \n",
       "0         T      F      F      F      F     F  \n",
       "1         F      F      F      F      F     F  \n",
       "2         F      F      F      F      F     F  \n",
       "3         F      T      F      F      F     F  \n",
       "4         F      T      F      F      F     F  "
      ]
     },
     "execution_count": 14,
     "metadata": {},
     "output_type": "execute_result"
    }
   ],
   "source": [
    "df.head()"
   ]
  },
  {
   "cell_type": "code",
   "execution_count": 23,
   "metadata": {},
   "outputs": [],
   "source": [
    "cols = list(df)\n",
    "df[\"Category\"] = \"n\"\n",
    "\n",
    "for i in range(df.shape[0]):\n",
    "   for j in range(df.shape[1]):\n",
    "       if (df.iloc[i][j]==\"T\"):\n",
    "           df[\"Category\"][i]= cols[j]"
   ]
  },
  {
   "cell_type": "code",
   "execution_count": 26,
   "metadata": {},
   "outputs": [
    {
     "data": {
      "text/html": [
       "<div>\n",
       "<style scoped>\n",
       "    .dataframe tbody tr th:only-of-type {\n",
       "        vertical-align: middle;\n",
       "    }\n",
       "\n",
       "    .dataframe tbody tr th {\n",
       "        vertical-align: top;\n",
       "    }\n",
       "\n",
       "    .dataframe thead th {\n",
       "        text-align: right;\n",
       "    }\n",
       "</style>\n",
       "<table border=\"1\" class=\"dataframe\">\n",
       "  <thead>\n",
       "    <tr style=\"text-align: right;\">\n",
       "      <th></th>\n",
       "      <th>message</th>\n",
       "      <th>food</th>\n",
       "      <th>recharge</th>\n",
       "      <th>support</th>\n",
       "      <th>reminders</th>\n",
       "      <th>travel</th>\n",
       "      <th>nearby</th>\n",
       "      <th>movies</th>\n",
       "      <th>casual</th>\n",
       "      <th>other</th>\n",
       "      <th>Category</th>\n",
       "    </tr>\n",
       "  </thead>\n",
       "  <tbody>\n",
       "    <tr>\n",
       "      <th>0</th>\n",
       "      <td>7am everyday</td>\n",
       "      <td>F</td>\n",
       "      <td>F</td>\n",
       "      <td>F</td>\n",
       "      <td>T</td>\n",
       "      <td>F</td>\n",
       "      <td>F</td>\n",
       "      <td>F</td>\n",
       "      <td>F</td>\n",
       "      <td>F</td>\n",
       "      <td>reminders</td>\n",
       "    </tr>\n",
       "    <tr>\n",
       "      <th>1</th>\n",
       "      <td>chocolate cake</td>\n",
       "      <td>T</td>\n",
       "      <td>F</td>\n",
       "      <td>F</td>\n",
       "      <td>F</td>\n",
       "      <td>F</td>\n",
       "      <td>F</td>\n",
       "      <td>F</td>\n",
       "      <td>F</td>\n",
       "      <td>F</td>\n",
       "      <td>food</td>\n",
       "    </tr>\n",
       "    <tr>\n",
       "      <th>2</th>\n",
       "      <td>closed mortice and tenon joint door dimentions</td>\n",
       "      <td>F</td>\n",
       "      <td>F</td>\n",
       "      <td>T</td>\n",
       "      <td>F</td>\n",
       "      <td>F</td>\n",
       "      <td>F</td>\n",
       "      <td>F</td>\n",
       "      <td>F</td>\n",
       "      <td>F</td>\n",
       "      <td>support</td>\n",
       "    </tr>\n",
       "    <tr>\n",
       "      <th>3</th>\n",
       "      <td>train eppo kelambum</td>\n",
       "      <td>F</td>\n",
       "      <td>F</td>\n",
       "      <td>F</td>\n",
       "      <td>F</td>\n",
       "      <td>T</td>\n",
       "      <td>F</td>\n",
       "      <td>F</td>\n",
       "      <td>F</td>\n",
       "      <td>F</td>\n",
       "      <td>travel</td>\n",
       "    </tr>\n",
       "    <tr>\n",
       "      <th>4</th>\n",
       "      <td>yesterday i have cancelled the flight ticket</td>\n",
       "      <td>F</td>\n",
       "      <td>F</td>\n",
       "      <td>F</td>\n",
       "      <td>F</td>\n",
       "      <td>T</td>\n",
       "      <td>F</td>\n",
       "      <td>F</td>\n",
       "      <td>F</td>\n",
       "      <td>F</td>\n",
       "      <td>travel</td>\n",
       "    </tr>\n",
       "  </tbody>\n",
       "</table>\n",
       "</div>"
      ],
      "text/plain": [
       "                                          message food recharge support  \\\n",
       "0                                    7am everyday    F        F       F   \n",
       "1                                  chocolate cake    T        F       F   \n",
       "2  closed mortice and tenon joint door dimentions    F        F       T   \n",
       "3                             train eppo kelambum    F        F       F   \n",
       "4    yesterday i have cancelled the flight ticket    F        F       F   \n",
       "\n",
       "  reminders travel nearby movies casual other   Category  \n",
       "0         T      F      F      F      F     F  reminders  \n",
       "1         F      F      F      F      F     F       food  \n",
       "2         F      F      F      F      F     F    support  \n",
       "3         F      T      F      F      F     F     travel  \n",
       "4         F      T      F      F      F     F     travel  "
      ]
     },
     "execution_count": 26,
     "metadata": {},
     "output_type": "execute_result"
    }
   ],
   "source": [
    "df.head()"
   ]
  },
  {
   "cell_type": "code",
   "execution_count": 34,
   "metadata": {},
   "outputs": [],
   "source": [
    "df_1 = df[['message','Category']]"
   ]
  },
  {
   "cell_type": "code",
   "execution_count": 36,
   "metadata": {},
   "outputs": [],
   "source": [
    "from sklearn.preprocessing import LabelEncoder"
   ]
  },
  {
   "cell_type": "code",
   "execution_count": 37,
   "metadata": {},
   "outputs": [],
   "source": [
    "le = LabelEncoder()"
   ]
  },
  {
   "cell_type": "code",
   "execution_count": 42,
   "metadata": {},
   "outputs": [
    {
     "name": "stderr",
     "output_type": "stream",
     "text": [
      "/anaconda3/lib/python3.7/site-packages/ipykernel_launcher.py:1: SettingWithCopyWarning: \n",
      "A value is trying to be set on a copy of a slice from a DataFrame.\n",
      "Try using .loc[row_indexer,col_indexer] = value instead\n",
      "\n",
      "See the caveats in the documentation: http://pandas.pydata.org/pandas-docs/stable/indexing.html#indexing-view-versus-copy\n",
      "  \"\"\"Entry point for launching an IPython kernel.\n"
     ]
    }
   ],
   "source": [
    "df_1['Category'] = le.fit_transform(df_1['Category'])"
   ]
  },
  {
   "cell_type": "code",
   "execution_count": 45,
   "metadata": {},
   "outputs": [
    {
     "data": {
      "text/plain": [
       "8    11479\n",
       "6     6754\n",
       "0     6037\n",
       "3     4208\n",
       "2     3996\n",
       "4     2989\n",
       "1     2419\n",
       "5     1790\n",
       "7      987\n",
       "Name: Category, dtype: int64"
      ]
     },
     "execution_count": 45,
     "metadata": {},
     "output_type": "execute_result"
    }
   ],
   "source": [
    "df_1.Category.value_counts()"
   ]
  },
  {
   "cell_type": "code",
   "execution_count": 46,
   "metadata": {},
   "outputs": [
    {
     "data": {
      "text/plain": [
       "travel       11479\n",
       "reminders     6754\n",
       "casual        6037\n",
       "nearby        4208\n",
       "movies        3996\n",
       "other         2989\n",
       "food          2419\n",
       "recharge      1790\n",
       "support        987\n",
       "Name: Category, dtype: int64"
      ]
     },
     "execution_count": 46,
     "metadata": {},
     "output_type": "execute_result"
    }
   ],
   "source": [
    "df.Category.value_counts()"
   ]
  },
  {
   "cell_type": "code",
   "execution_count": 50,
   "metadata": {},
   "outputs": [
    {
     "name": "stderr",
     "output_type": "stream",
     "text": [
      "/anaconda3/lib/python3.7/site-packages/ipykernel_launcher.py:1: SettingWithCopyWarning: \n",
      "A value is trying to be set on a copy of a slice from a DataFrame.\n",
      "Try using .loc[row_indexer,col_indexer] = value instead\n",
      "\n",
      "See the caveats in the documentation: http://pandas.pydata.org/pandas-docs/stable/indexing.html#indexing-view-versus-copy\n",
      "  \"\"\"Entry point for launching an IPython kernel.\n"
     ]
    }
   ],
   "source": [
    "df_1['message'] = df_1['message'].str.lower()"
   ]
  },
  {
   "cell_type": "code",
   "execution_count": 61,
   "metadata": {},
   "outputs": [],
   "source": [
    "from sklearn.feature_extraction.text import TfidfVectorizer, CountVectorizer"
   ]
  },
  {
   "cell_type": "code",
   "execution_count": 62,
   "metadata": {},
   "outputs": [],
   "source": [
    "cv = CountVectorizer(stop_words=\"english\")\n",
    "X = cv.fit_transform(df_1['message'])\n",
    "X = X.toarray()\n",
    "from sklearn.model_selection import train_test_split as tts\n",
    "from sklearn.naive_bayes import MultinomialNB\n",
    "nb = MultinomialNB()\n",
    "y = df_1['Category']\n",
    "X_train, X_test, y_train, y_test = tts(X,y,test_size = 0.3,random_state = 42)\n",
    "from sklearn.metrics import classification_report, accuracy_score\n",
    "nb.fit(X_train, y_train)\n",
    "y_pred = nb.predict(X_test)"
   ]
  },
  {
   "cell_type": "code",
   "execution_count": 75,
   "metadata": {},
   "outputs": [
    {
     "name": "stdout",
     "output_type": "stream",
     "text": [
      "0.7367601246105919\n",
      "              precision    recall  f1-score   support\n",
      "\n",
      "           0       0.67      0.68      0.68      1819\n",
      "           1       0.87      0.73      0.79       709\n",
      "           2       0.85      0.45      0.58      1181\n",
      "           3       0.71      0.67      0.69      1280\n",
      "           4       0.83      0.64      0.72       935\n",
      "           5       0.82      0.71      0.76       534\n",
      "           6       0.88      0.86      0.87      2022\n",
      "           7       0.82      0.23      0.36       313\n",
      "           8       0.65      0.90      0.76      3405\n",
      "\n",
      "   micro avg       0.74      0.74      0.74     12198\n",
      "   macro avg       0.79      0.65      0.69     12198\n",
      "weighted avg       0.76      0.74      0.73     12198\n",
      "\n"
     ]
    }
   ],
   "source": [
    "print(accuracy_score(y_test,y_pred))\n",
    "print(classification_report(y_test,y_pred))"
   ]
  },
  {
   "cell_type": "code",
   "execution_count": 83,
   "metadata": {},
   "outputs": [],
   "source": [
    "import urllib.request\n",
    "link = \"https://pbpython.com/categorical-encoding.html\"\n",
    "#link = 'https://machinelearningmastery.com/relationship-between-applied-statistics-and-machine-learning/'\n",
    "req = urllib.request.Request(link)\n",
    "response = urllib.request.urlopen(req)\n",
    "the_page = response.read()"
   ]
  },
  {
   "cell_type": "code",
   "execution_count": 84,
   "metadata": {
    "collapsed": true
   },
   "outputs": [
    {
     "data": {
      "text/plain": [
       "b'<!DOCTYPE html>\\n<html lang=\"en\">\\n  <head>\\n    <meta charset=\"utf-8\" />\\n    <title>Guide to Encoding Categorical Values in\\xc2\\xa0Python - Practical Business Python</title>\\n    <meta name=\"viewport\" content=\"width=device-width, initial-scale=1\" />\\n    <meta name=\"description\" content=\"Overview of multiple approaches to encoding categorical values using python\" />\\n    <meta name=\"author\" content=\"Chris Moffitt\" />\\n    <meta name=\"generator\" content=\"Pelican (VoidyBootstrap theme)\" />\\n    <meta name=\"twitter:card\" content=\"summary\">\\n    <meta name=\"twitter:title\" content=\"Guide to Encoding Categorical Values in\\xc2\\xa0Python\">\\n    <meta name=\"twitter:description\" content=\"Overview of multiple approaches to encoding categorical values using python\">\\n    <meta name=\"twitter:site\" content=\"@chris1610\">\\n    <meta name=\"twitter:creator\" content=\"@chris1610\">\\n    <meta name=\"twitter:domain\" content=\"https://pbpython.com\">\\n    <meta property=\"twitter:image\" content=\"https://pbpython.com/images/encoding-heading.png\"/>\\n\\n        <link rel=\"stylesheet\" href=\"https://maxcdn.bootstrapcdn.com/bootstrap/3.3.1/css/bootstrap.min.css\" />\\n        <link href=\\'https://fonts.googleapis.com/css?family=Fjalla+One\\' rel=\\'stylesheet\\' type=\\'text/css\\'>\\n        <link href=\\'https://fonts.googleapis.com/css?family=Average+Sans\\' rel=\\'stylesheet\\' type=\\'text/css\\'>\\n      <link rel=\"stylesheet\" href=\"https://maxcdn.bootstrapcdn.com/font-awesome/4.2.0/css/font-awesome.min.css\" />\\n\\n\\n      <link rel=\"stylesheet\" href=\"https://pbpython.com/theme/css/friendly.css\" />\\n      <link rel=\"stylesheet\" href=\"https://pbpython.com/theme/css/voidybootstrap.css\" />\\n\\n    <!-- HTML5 shim, for IE6-8 support of HTML5 elements -->\\n    <!--[if lt IE 9]>\\n      <script src=\"//html5shim.googlecode.com/svn/trunk/html5.js\"></script>\\n    <![endif]-->\\n\\n    <link rel=\"shortcut icon\" href=\"https://pbpython.com/favicon.ico\" />\\n\\n        <link href=\"https://pbpython.com/feeds/all.atom.xml\" type=\"application/atom+xml\" rel=\"alternate\" title=\"Practical Business Python Atom Feed\" />\\n<script>\\n  (function(i,s,o,g,r,a,m){i[\\'GoogleAnalyticsObject\\']=r;i[r]=i[r]||function(){\\n  (i[r].q=i[r].q||[]).push(arguments)},i[r].l=1*new Date();a=s.createElement(o),\\n  m=s.getElementsByTagName(o)[0];a.async=1;a.src=g;m.parentNode.insertBefore(a,m)\\n  })(window,document,\\'script\\',\\'//www.google-analytics.com/analytics.js\\',\\'ga\\');\\n\\n  ga(\\'create\\', \\'UA-55110683-1\\', \\'\\');\\n  ga(\\'send\\', \\'pageview\\');\\n\\n</script>\\n  </head>\\n\\n  <body>\\n    <div class=\"navbar navbar-default\" role=\"navigation\">\\n      <div class=\"container\">\\n\\t   <div class=\"navbar-header\">\\n\\t\\t<button type=\"button\" class=\"navbar-toggle\"\\n\\t\\t\\t\\tdata-toggle=\"collapse\" data-target=\"#main-navbar-collapse\">\\n\\t\\t  <span class=\"sr-only\">Toggle navigation</span>\\n\\t\\t  <span class=\"icon-bar\"></span>\\n\\t\\t  <span class=\"icon-bar\"></span>\\n\\t\\t  <span class=\"icon-bar\"></span>\\n\\t\\t</button>\\n\\t\\t<a class=\"navbar-brand\" href=\"https://pbpython.com/\" rel=\"home\">\\n          <i class=\"fa fa-home fa-fw fa-lg\"> </i> </a>\\n       </div>\\n\\n      <div class=\"collapse navbar-collapse\" id=\"main-navbar-collapse\">\\n        <ul class=\"nav navbar-nav\">\\n          <!-- <li> <a href=\"https://pbpython.com/\">Home</a> </li> -->\\n            <li><a href=\"/\">Home</a></li>\\n            <li><a href=\"/pages/about-site.html\">About</a></li>\\n            <li><a href=\"/pages/resources.html\">Resources</a></li>\\n            <li><a href=\"/pages/mailinglist.html\">Mailing List</a></li>\\n            <li class=\"divider\"></li>\\n            <li class=\"\">\\n              <a href=\"https://pbpython.com/archives.html\">Archives</a>\\n            </li>\\n          <li class=\"divider\"></li>\\n            <li><a href=\"https://pbpython.com/feeds/all.atom.xml\"\\n                   type=\"application/atom+xml\" rel=\"alternate\">\\n                <i class=\"fa fa-rss fa-fw fa-lg\"></i> </a></li>\\n        </ul> <!-- /nav -->\\n      </div> <!-- /navbar-collapse -->\\n\\t  </div> <!-- /container -->\\n    </div> <!-- /navbar -->\\n\\n\\t<div class=\"jumbotron\" id=\"overview\">\\n\\t  <div class=\"container\">\\n\\t\\t<h1><a href=\"https://pbpython.com/\">Practical Business Python</a></h1>\\n\\t\\t<p class=\"lead\">Taking care of business, one python script at a time</p>\\n\\t  </div>\\n\\t</div>\\n\\n    <div class=\"container\">\\n      <div class=\"row\">\\n        <div class=\"col-md-9\" id=\"content\">\\n<article itemscope=\"itemscope\" itemtype=\"http://schema.org/BlogPosting\">\\n  <header class=\"article-header\">\\n<abbr class=\"article-header-date\">\\n  Mon 06 February 2017\\n</abbr> <h1>\\n  <a href=\"https://pbpython.com/categorical-encoding.html\" rel=\"bookmark\"\\n     title=\"Permalink to Guide to Encoding Categorical Values in\\xc2\\xa0Python\">\\n    Guide to Encoding Categorical Values in&nbsp;Python\\n  </a>\\n</h1><div class=\"article-header-info\">\\n  <p>\\n      Posted by <a href=\"https://pbpython.com/author/chris-moffitt.html\">Chris Moffitt</a>\\n    in \\n    <a href=\"https://pbpython.com/category/articles.html\">\\n      articles</a>\\n    &nbsp;&nbsp;\\n  </p>\\n</div> <!-- /.article-header-info -->  </header>\\n  <div class=\"content-body\" itemprop=\"text articleBody\">\\n      <img class=\"article-image img-responsive\" alt=\"article header image\" itemprop=\"image\"\\n\\t\\t   src=\"https://pbpython.com/images/encoding-heading.png\" />\\n\\t<div class=\"section\" id=\"introduction\">\\n<h2>Introduction</h2>\\n<p>In many practical Data Science activities, the data set will contain categorical\\nvariables. These variables are typically stored as text values which represent\\nvarious traits. Some examples include color (\\xe2\\x80\\x9cRed\\xe2\\x80\\x9d, \\xe2\\x80\\x9cYellow\\xe2\\x80\\x9d, \\xe2\\x80\\x9cBlue\\xe2\\x80\\x9d), size (\\xe2\\x80\\x9cSmall\\xe2\\x80\\x9d, \\xe2\\x80\\x9cMedium\\xe2\\x80\\x9d, \\xe2\\x80\\x9cLarge\\xe2\\x80\\x9d)\\nor geographic designations (State or Country). Regardless of\\nwhat the value is used for, the challenge is determining how to use this data in the analysis.\\nMany machine learning algorithms can support categorical values without\\nfurther manipulation but there are many more algorithms that do not. Therefore, the analyst is\\nfaced with the challenge of figuring out how to turn these text attributes into\\nnumerical values for further\\xc2\\xa0processing.</p>\\n<p>As with many other aspects of the Data Science world, there is no single answer\\non how to approach this problem. Each approach has trade-offs and has potential\\nimpact on the outcome of the analysis. Fortunately, the python tools of pandas\\nand scikit-learn provide several approaches that can be applied to transform the\\ncategorical data into suitable numeric values.\\nThis article will be a survey of some of the various common (and a few more complex)\\napproaches in the hope that it will help others apply these techniques to their\\nreal world\\xc2\\xa0problems.</p>\\n</div>\\n<div class=\"section\" id=\"the-data-set\">\\n<h2>The Data\\xc2\\xa0Set</h2>\\n<p>For this article, I was able to find a good dataset at the <a class=\"reference external\" href=\"http://mlr.cs.umass.edu/ml/index.html\"><span class=\"caps\">UCI</span> Machine Learning Repository</a>.\\nThis particular <a class=\"reference external\" href=\"http://mlr.cs.umass.edu/ml/datasets/Automobile\">Automobile Data Set</a> includes a good mix of categorical values\\nas well as continuous values and serves as a useful example that is relatively\\neasy to understand. Since domain understanding is an important aspect when deciding\\nhow to encode various categorical values - this data set makes a good case\\xc2\\xa0study.</p>\\n<p>Before we get started encoding the various values, we need to important the\\ndata and do some minor cleanups. Fortunately, pandas makes this\\xc2\\xa0straightforward:</p>\\n<div class=\"highlight\"><pre><span></span><span class=\"kn\">import</span> <span class=\"nn\">pandas</span> <span class=\"kn\">as</span> <span class=\"nn\">pd</span>\\n<span class=\"kn\">import</span> <span class=\"nn\">numpy</span> <span class=\"kn\">as</span> <span class=\"nn\">np</span>\\n\\n<span class=\"c1\"># Define the headers since the data does not have any</span>\\n<span class=\"n\">headers</span> <span class=\"o\">=</span> <span class=\"p\">[</span><span class=\"s2\">\"symboling\"</span><span class=\"p\">,</span> <span class=\"s2\">\"normalized_losses\"</span><span class=\"p\">,</span> <span class=\"s2\">\"make\"</span><span class=\"p\">,</span> <span class=\"s2\">\"fuel_type\"</span><span class=\"p\">,</span> <span class=\"s2\">\"aspiration\"</span><span class=\"p\">,</span>\\n           <span class=\"s2\">\"num_doors\"</span><span class=\"p\">,</span> <span class=\"s2\">\"body_style\"</span><span class=\"p\">,</span> <span class=\"s2\">\"drive_wheels\"</span><span class=\"p\">,</span> <span class=\"s2\">\"engine_location\"</span><span class=\"p\">,</span>\\n           <span class=\"s2\">\"wheel_base\"</span><span class=\"p\">,</span> <span class=\"s2\">\"length\"</span><span class=\"p\">,</span> <span class=\"s2\">\"width\"</span><span class=\"p\">,</span> <span class=\"s2\">\"height\"</span><span class=\"p\">,</span> <span class=\"s2\">\"curb_weight\"</span><span class=\"p\">,</span>\\n           <span class=\"s2\">\"engine_type\"</span><span class=\"p\">,</span> <span class=\"s2\">\"num_cylinders\"</span><span class=\"p\">,</span> <span class=\"s2\">\"engine_size\"</span><span class=\"p\">,</span> <span class=\"s2\">\"fuel_system\"</span><span class=\"p\">,</span>\\n           <span class=\"s2\">\"bore\"</span><span class=\"p\">,</span> <span class=\"s2\">\"stroke\"</span><span class=\"p\">,</span> <span class=\"s2\">\"compression_ratio\"</span><span class=\"p\">,</span> <span class=\"s2\">\"horsepower\"</span><span class=\"p\">,</span> <span class=\"s2\">\"peak_rpm\"</span><span class=\"p\">,</span>\\n           <span class=\"s2\">\"city_mpg\"</span><span class=\"p\">,</span> <span class=\"s2\">\"highway_mpg\"</span><span class=\"p\">,</span> <span class=\"s2\">\"price\"</span><span class=\"p\">]</span>\\n\\n<span class=\"c1\"># Read in the CSV file and convert \"?\" to NaN</span>\\n<span class=\"n\">df</span> <span class=\"o\">=</span> <span class=\"n\">pd</span><span class=\"o\">.</span><span class=\"n\">read_csv</span><span class=\"p\">(</span><span class=\"s2\">\"http://mlr.cs.umass.edu/ml/machine-learning-databases/autos/imports-85.data\"</span><span class=\"p\">,</span>\\n                  <span class=\"n\">header</span><span class=\"o\">=</span><span class=\"bp\">None</span><span class=\"p\">,</span> <span class=\"n\">names</span><span class=\"o\">=</span><span class=\"n\">headers</span><span class=\"p\">,</span> <span class=\"n\">na_values</span><span class=\"o\">=</span><span class=\"s2\">\"?\"</span> <span class=\"p\">)</span>\\n<span class=\"n\">df</span><span class=\"o\">.</span><span class=\"n\">head</span><span class=\"p\">()</span>\\n</pre></div>\\n<div style=\"max-height:1000px;max-width:1500px;overflow:auto;\">\\n<table border=\"1\" class=\"table table-condensed\">\\n<thead>\\n<tr style=\"text-align: right;\">\\n<th></th>\\n<th>symboling</th>\\n<th>normalized_losses</th>\\n<th>make</th>\\n<th>fuel_type</th>\\n<th>aspiration</th>\\n<th>num_doors</th>\\n<th>body_style</th>\\n<th>drive_wheels</th>\\n<th>engine_location</th>\\n<th>wheel_base</th>\\n<th>\\xe2\\x80\\xa6</th>\\n<th>engine_size</th>\\n<th>fuel_system</th>\\n<th>bore</th>\\n<th>stroke</th>\\n<th>compression_ratio</th>\\n<th>horsepower</th>\\n<th>peak_rpm</th>\\n<th>city_mpg</th>\\n<th>highway_mpg</th>\\n<th>price</th>\\n</tr>\\n</thead>\\n<tbody>\\n<tr>\\n<th>0</th>\\n<td>3</td>\\n<td>NaN</td>\\n<td>alfa-romero</td>\\n<td>gas</td>\\n<td>std</td>\\n<td>two</td>\\n<td>convertible</td>\\n<td>rwd</td>\\n<td>front</td>\\n<td>88.6</td>\\n<td>\\xe2\\x80\\xa6</td>\\n<td>130</td>\\n<td>mpfi</td>\\n<td>3.47</td>\\n<td>2.68</td>\\n<td>9.0</td>\\n<td>111.0</td>\\n<td>5000.0</td>\\n<td>21</td>\\n<td>27</td>\\n<td>13495.0</td>\\n</tr>\\n<tr>\\n<th>1</th>\\n<td>3</td>\\n<td>NaN</td>\\n<td>alfa-romero</td>\\n<td>gas</td>\\n<td>std</td>\\n<td>two</td>\\n<td>convertible</td>\\n<td>rwd</td>\\n<td>front</td>\\n<td>88.6</td>\\n<td>\\xe2\\x80\\xa6</td>\\n<td>130</td>\\n<td>mpfi</td>\\n<td>3.47</td>\\n<td>2.68</td>\\n<td>9.0</td>\\n<td>111.0</td>\\n<td>5000.0</td>\\n<td>21</td>\\n<td>27</td>\\n<td>16500.0</td>\\n</tr>\\n<tr>\\n<th>2</th>\\n<td>1</td>\\n<td>NaN</td>\\n<td>alfa-romero</td>\\n<td>gas</td>\\n<td>std</td>\\n<td>two</td>\\n<td>hatchback</td>\\n<td>rwd</td>\\n<td>front</td>\\n<td>94.5</td>\\n<td>\\xe2\\x80\\xa6</td>\\n<td>152</td>\\n<td>mpfi</td>\\n<td>2.68</td>\\n<td>3.47</td>\\n<td>9.0</td>\\n<td>154.0</td>\\n<td>5000.0</td>\\n<td>19</td>\\n<td>26</td>\\n<td>16500.0</td>\\n</tr>\\n<tr>\\n<th>3</th>\\n<td>2</td>\\n<td>164.0</td>\\n<td>audi</td>\\n<td>gas</td>\\n<td>std</td>\\n<td>four</td>\\n<td>sedan</td>\\n<td>fwd</td>\\n<td>front</td>\\n<td>99.8</td>\\n<td>\\xe2\\x80\\xa6</td>\\n<td>109</td>\\n<td>mpfi</td>\\n<td>3.19</td>\\n<td>3.40</td>\\n<td>10.0</td>\\n<td>102.0</td>\\n<td>5500.0</td>\\n<td>24</td>\\n<td>30</td>\\n<td>13950.0</td>\\n</tr>\\n<tr>\\n<th>4</th>\\n<td>2</td>\\n<td>164.0</td>\\n<td>audi</td>\\n<td>gas</td>\\n<td>std</td>\\n<td>four</td>\\n<td>sedan</td>\\n<td>4wd</td>\\n<td>front</td>\\n<td>99.4</td>\\n<td>\\xe2\\x80\\xa6</td>\\n<td>136</td>\\n<td>mpfi</td>\\n<td>3.19</td>\\n<td>3.40</td>\\n<td>8.0</td>\\n<td>115.0</td>\\n<td>5500.0</td>\\n<td>18</td>\\n<td>22</td>\\n<td>17450.0</td>\\n</tr>\\n</tbody>\\n</table>\\n</div><p>The final check we want to do is see what data types we\\xc2\\xa0have:</p>\\n<div class=\"highlight\"><pre><span></span><span class=\"n\">df</span><span class=\"o\">.</span><span class=\"n\">dtypes</span>\\n</pre></div>\\n<pre class=\"literal-block\">\\nsymboling              int64\\nnormalized_losses    float64\\nmake                  object\\nfuel_type             object\\naspiration            object\\nnum_doors             object\\nbody_style            object\\ndrive_wheels          object\\nengine_location       object\\nwheel_base           float64\\nlength               float64\\nwidth                float64\\nheight               float64\\ncurb_weight            int64\\nengine_type           object\\nnum_cylinders         object\\nengine_size            int64\\nfuel_system           object\\nbore                 float64\\nstroke               float64\\ncompression_ratio    float64\\nhorsepower           float64\\npeak_rpm             float64\\ncity_mpg               int64\\nhighway_mpg            int64\\nprice                float64\\ndtype: object\\n</pre>\\n<p>Since this article will only focus on encoding the categorical variables,\\nwe are going to include only the <code class=\"code\">\\nobject</code>\\n columns in our dataframe. Pandas has a\\nhelpful <code class=\"code\">\\nselect_dtypes</code>\\n function which we can use to build a new dataframe\\ncontaining only the object\\xc2\\xa0columns.</p>\\n<div class=\"highlight\"><pre><span></span><span class=\"n\">obj_df</span> <span class=\"o\">=</span> <span class=\"n\">df</span><span class=\"o\">.</span><span class=\"n\">select_dtypes</span><span class=\"p\">(</span><span class=\"n\">include</span><span class=\"o\">=</span><span class=\"p\">[</span><span class=\"s1\">\\'object\\'</span><span class=\"p\">])</span><span class=\"o\">.</span><span class=\"n\">copy</span><span class=\"p\">()</span>\\n<span class=\"n\">obj_df</span><span class=\"o\">.</span><span class=\"n\">head</span><span class=\"p\">()</span>\\n</pre></div>\\n<div style=\"max-height:1000px;max-width:1500px;overflow:auto;\">\\n<table border=\"1\" class=\"table table-condensed\">\\n<thead>\\n<tr style=\"text-align: right;\">\\n<th></th>\\n<th>make</th>\\n<th>fuel_type</th>\\n<th>aspiration</th>\\n<th>num_doors</th>\\n<th>body_style</th>\\n<th>drive_wheels</th>\\n<th>engine_location</th>\\n<th>engine_type</th>\\n<th>num_cylinders</th>\\n<th>fuel_system</th>\\n</tr>\\n</thead>\\n<tbody>\\n<tr>\\n<th>0</th>\\n<td>alfa-romero</td>\\n<td>gas</td>\\n<td>std</td>\\n<td>two</td>\\n<td>convertible</td>\\n<td>rwd</td>\\n<td>front</td>\\n<td>dohc</td>\\n<td>four</td>\\n<td>mpfi</td>\\n</tr>\\n<tr>\\n<th>1</th>\\n<td>alfa-romero</td>\\n<td>gas</td>\\n<td>std</td>\\n<td>two</td>\\n<td>convertible</td>\\n<td>rwd</td>\\n<td>front</td>\\n<td>dohc</td>\\n<td>four</td>\\n<td>mpfi</td>\\n</tr>\\n<tr>\\n<th>2</th>\\n<td>alfa-romero</td>\\n<td>gas</td>\\n<td>std</td>\\n<td>two</td>\\n<td>hatchback</td>\\n<td>rwd</td>\\n<td>front</td>\\n<td>ohcv</td>\\n<td>six</td>\\n<td>mpfi</td>\\n</tr>\\n<tr>\\n<th>3</th>\\n<td>audi</td>\\n<td>gas</td>\\n<td>std</td>\\n<td>four</td>\\n<td>sedan</td>\\n<td>fwd</td>\\n<td>front</td>\\n<td>ohc</td>\\n<td>four</td>\\n<td>mpfi</td>\\n</tr>\\n<tr>\\n<th>4</th>\\n<td>audi</td>\\n<td>gas</td>\\n<td>std</td>\\n<td>four</td>\\n<td>sedan</td>\\n<td>4wd</td>\\n<td>front</td>\\n<td>ohc</td>\\n<td>five</td>\\n<td>mpfi</td>\\n</tr>\\n</tbody>\\n</table>\\n</div><p>Before going any further, there are a couple of null values in the data that\\nwe need to clean\\xc2\\xa0up.</p>\\n<div class=\"highlight\"><pre><span></span><span class=\"n\">obj_df</span><span class=\"p\">[</span><span class=\"n\">obj_df</span><span class=\"o\">.</span><span class=\"n\">isnull</span><span class=\"p\">()</span><span class=\"o\">.</span><span class=\"n\">any</span><span class=\"p\">(</span><span class=\"n\">axis</span><span class=\"o\">=</span><span class=\"mi\">1</span><span class=\"p\">)]</span>\\n</pre></div>\\n<div style=\"max-height:1000px;max-width:1500px;overflow:auto;\">\\n<table border=\"1\" class=\"table table-condensed\">\\n<thead>\\n<tr style=\"text-align: right;\">\\n<th></th>\\n<th>make</th>\\n<th>fuel_type</th>\\n<th>aspiration</th>\\n<th>num_doors</th>\\n<th>body_style</th>\\n<th>drive_wheels</th>\\n<th>engine_location</th>\\n<th>engine_type</th>\\n<th>num_cylinders</th>\\n<th>fuel_system</th>\\n</tr>\\n</thead>\\n<tbody>\\n<tr>\\n<th>27</th>\\n<td>dodge</td>\\n<td>gas</td>\\n<td>turbo</td>\\n<td>NaN</td>\\n<td>sedan</td>\\n<td>fwd</td>\\n<td>front</td>\\n<td>ohc</td>\\n<td>four</td>\\n<td>mpfi</td>\\n</tr>\\n<tr>\\n<th>63</th>\\n<td>mazda</td>\\n<td>diesel</td>\\n<td>std</td>\\n<td>NaN</td>\\n<td>sedan</td>\\n<td>fwd</td>\\n<td>front</td>\\n<td>ohc</td>\\n<td>four</td>\\n<td>idi</td>\\n</tr>\\n</tbody>\\n</table>\\n</div><p>For the sake of simplicity, just fill in the value with the number 4 (since that\\nis the most common\\xc2\\xa0value):</p>\\n<div class=\"highlight\"><pre><span></span><span class=\"n\">obj_df</span><span class=\"p\">[</span><span class=\"s2\">\"num_doors\"</span><span class=\"p\">]</span><span class=\"o\">.</span><span class=\"n\">value_counts</span><span class=\"p\">()</span>\\n</pre></div>\\n<pre class=\"literal-block\">\\nfour    114\\ntwo      89\\nName: num_doors, dtype: int64\\n</pre>\\n<div class=\"highlight\"><pre><span></span><span class=\"n\">obj_df</span> <span class=\"o\">=</span> <span class=\"n\">obj_df</span><span class=\"o\">.</span><span class=\"n\">fillna</span><span class=\"p\">({</span><span class=\"s2\">\"num_doors\"</span><span class=\"p\">:</span> <span class=\"s2\">\"four\"</span><span class=\"p\">})</span>\\n</pre></div>\\n<p>Now that the data does not have any null values, we can look at options\\nfor encoding the categorical\\xc2\\xa0values.</p>\\n</div>\\n<div class=\"section\" id=\"approach-1-find-and-replace\">\\n<h2>Approach #1 - Find and\\xc2\\xa0Replace</h2>\\n<p>Before we go into some of the more \\xe2\\x80\\x9cstandard\\xe2\\x80\\x9d approaches for encoding categorical\\ndata, this data set highlights one potential approach I\\xe2\\x80\\x99m calling \\xe2\\x80\\x9cfind and\\xc2\\xa0replace.\\xe2\\x80\\x9d</p>\\n<p>There are two columns of data where the values are words used to represent\\nnumbers. Specifically the number of cylinders in the engine and number of doors on the car.\\nPandas makes it easy for us to directly replace the text values with their\\nnumeric equivalent by using <code class=\"code\">\\nreplace</code>\\n.</p>\\n<p>We have already seen that the num_doors data only includes 2 or 4 doors. The\\nnumber of cylinders only includes 7 values and they are easily translated to\\nvalid\\xc2\\xa0numbers:</p>\\n<div class=\"highlight\"><pre><span></span><span class=\"n\">obj_df</span><span class=\"p\">[</span><span class=\"s2\">\"num_cylinders\"</span><span class=\"p\">]</span><span class=\"o\">.</span><span class=\"n\">value_counts</span><span class=\"p\">()</span>\\n</pre></div>\\n<pre class=\"literal-block\">\\nfour      159\\nsix        24\\nfive       11\\neight       5\\ntwo         4\\ntwelve      1\\nthree       1\\nName: num_cylinders, dtype: int64\\n</pre>\\n<p>If you review the <code class=\"code\">\\nreplace</code>\\n<a class=\"reference external\" href=\"http://pandas.pydata.org/pandas-docs/stable/generated/pandas.DataFrame.replace.html\">documentation</a>, you can see that it is a powerful\\ncommand that has many options. For our uses, we are going to create a\\nmapping dictionary that contains each column to process as well as a dictionary\\nof the values to\\xc2\\xa0translate.</p>\\n<p>Here is the complete dictionary for cleaning up the <code class=\"code\">\\nnum_doors</code>\\n and\\n<code class=\"code\">\\nnum_cylinders</code>\\n columns:</p>\\n<div class=\"highlight\"><pre><span></span><span class=\"n\">cleanup_nums</span> <span class=\"o\">=</span> <span class=\"p\">{</span><span class=\"s2\">\"num_doors\"</span><span class=\"p\">:</span>     <span class=\"p\">{</span><span class=\"s2\">\"four\"</span><span class=\"p\">:</span> <span class=\"mi\">4</span><span class=\"p\">,</span> <span class=\"s2\">\"two\"</span><span class=\"p\">:</span> <span class=\"mi\">2</span><span class=\"p\">},</span>\\n                <span class=\"s2\">\"num_cylinders\"</span><span class=\"p\">:</span> <span class=\"p\">{</span><span class=\"s2\">\"four\"</span><span class=\"p\">:</span> <span class=\"mi\">4</span><span class=\"p\">,</span> <span class=\"s2\">\"six\"</span><span class=\"p\">:</span> <span class=\"mi\">6</span><span class=\"p\">,</span> <span class=\"s2\">\"five\"</span><span class=\"p\">:</span> <span class=\"mi\">5</span><span class=\"p\">,</span> <span class=\"s2\">\"eight\"</span><span class=\"p\">:</span> <span class=\"mi\">8</span><span class=\"p\">,</span>\\n                                  <span class=\"s2\">\"two\"</span><span class=\"p\">:</span> <span class=\"mi\">2</span><span class=\"p\">,</span> <span class=\"s2\">\"twelve\"</span><span class=\"p\">:</span> <span class=\"mi\">12</span><span class=\"p\">,</span> <span class=\"s2\">\"three\"</span><span class=\"p\">:</span><span class=\"mi\">3</span> <span class=\"p\">}}</span>\\n</pre></div>\\n<p>To convert the columns to numbers using <code class=\"code\">\\nreplace</code>\\n:</p>\\n<div class=\"highlight\"><pre><span></span><span class=\"n\">obj_df</span><span class=\"o\">.</span><span class=\"n\">replace</span><span class=\"p\">(</span><span class=\"n\">cleanup_nums</span><span class=\"p\">,</span> <span class=\"n\">inplace</span><span class=\"o\">=</span><span class=\"bp\">True</span><span class=\"p\">)</span>\\n<span class=\"n\">obj_df</span><span class=\"o\">.</span><span class=\"n\">head</span><span class=\"p\">()</span>\\n</pre></div>\\n<div style=\"max-height:1000px;max-width:1500px;overflow:auto;\">\\n<table border=\"1\" class=\"table table-condensed\">\\n<thead>\\n<tr style=\"text-align: right;\">\\n<th></th>\\n<th>make</th>\\n<th>fuel_type</th>\\n<th>aspiration</th>\\n<th>num_doors</th>\\n<th>body_style</th>\\n<th>drive_wheels</th>\\n<th>engine_location</th>\\n<th>engine_type</th>\\n<th>num_cylinders</th>\\n<th>fuel_system</th>\\n</tr>\\n</thead>\\n<tbody>\\n<tr>\\n<th>0</th>\\n<td>alfa-romero</td>\\n<td>gas</td>\\n<td>std</td>\\n<td>2</td>\\n<td>convertible</td>\\n<td>rwd</td>\\n<td>front</td>\\n<td>dohc</td>\\n<td>4</td>\\n<td>mpfi</td>\\n</tr>\\n<tr>\\n<th>1</th>\\n<td>alfa-romero</td>\\n<td>gas</td>\\n<td>std</td>\\n<td>2</td>\\n<td>convertible</td>\\n<td>rwd</td>\\n<td>front</td>\\n<td>dohc</td>\\n<td>4</td>\\n<td>mpfi</td>\\n</tr>\\n<tr>\\n<th>2</th>\\n<td>alfa-romero</td>\\n<td>gas</td>\\n<td>std</td>\\n<td>2</td>\\n<td>hatchback</td>\\n<td>rwd</td>\\n<td>front</td>\\n<td>ohcv</td>\\n<td>6</td>\\n<td>mpfi</td>\\n</tr>\\n<tr>\\n<th>3</th>\\n<td>audi</td>\\n<td>gas</td>\\n<td>std</td>\\n<td>4</td>\\n<td>sedan</td>\\n<td>fwd</td>\\n<td>front</td>\\n<td>ohc</td>\\n<td>4</td>\\n<td>mpfi</td>\\n</tr>\\n<tr>\\n<th>4</th>\\n<td>audi</td>\\n<td>gas</td>\\n<td>std</td>\\n<td>4</td>\\n<td>sedan</td>\\n<td>4wd</td>\\n<td>front</td>\\n<td>ohc</td>\\n<td>5</td>\\n<td>mpfi</td>\\n</tr>\\n</tbody>\\n</table>\\n</div><p>The nice benefit to this approach is that pandas \\xe2\\x80\\x9cknows\\xe2\\x80\\x9d the types of values in\\nthe columns so the <code class=\"code\">\\nobject</code>\\n is now a <code class=\"code\">\\nint64</code>\\n</p>\\n<div class=\"highlight\"><pre><span></span><span class=\"n\">obj_df</span><span class=\"o\">.</span><span class=\"n\">dtypes</span>\\n</pre></div>\\n<pre class=\"literal-block\">\\nmake               object\\nfuel_type          object\\naspiration         object\\nnum_doors           int64\\nbody_style         object\\ndrive_wheels       object\\nengine_location    object\\nengine_type        object\\nnum_cylinders       int64\\nfuel_system        object\\ndtype: object\\n</pre>\\n<p>While this approach may only work in certain scenarios it is a very useful demonstration\\nof how to convert text values to numeric when there is an \\xe2\\x80\\x9ceasy\\xe2\\x80\\x9d human interpretation of\\nthe data. This concept is also useful for more general data\\xc2\\xa0cleanup.</p>\\n</div>\\n<div class=\"section\" id=\"approach-2-label-encoding\">\\n<h2>Approach #2 - Label\\xc2\\xa0Encoding</h2>\\n<p>Another approach to encoding categorical values is to use a technique called label encoding.\\nLabel encoding is simply converting each value in a column to a number. For example,\\nthe <code class=\"code\">\\nbody_style</code>\\n column contains 5 different values. We could choose to encode\\nit like\\xc2\\xa0this:</p>\\n<ul class=\"simple\">\\n<li>convertible -&gt;\\xc2\\xa00</li>\\n<li>hardtop -&gt;\\xc2\\xa01</li>\\n<li>hatchback -&gt;\\xc2\\xa02</li>\\n<li>sedan -&gt;\\xc2\\xa03</li>\\n<li>wagon -&gt;\\xc2\\xa04</li>\\n</ul>\\n<p>This process reminds me of Ralphie using his secret decoder ring in \\xe2\\x80\\x9cA Christmas\\xc2\\xa0Story\\xe2\\x80\\x9d</p>\\n<div class=\"figure\" style=\"width: 854px; height: auto; max-width: 100%;\">\\n<img alt=\"Ralphie as a young data scientist\" src=\"https://pbpython.com/images/ralphie-datascientist.png\" style=\"width: 854px; height: auto; max-width: 100%;\"/>\\n</div>\\n<p>One trick you can use in pandas is to convert a column to a category, then\\nuse those category values for your label\\xc2\\xa0encoding:</p>\\n<div class=\"highlight\"><pre><span></span><span class=\"n\">obj_df</span><span class=\"p\">[</span><span class=\"s2\">\"body_style\"</span><span class=\"p\">]</span> <span class=\"o\">=</span> <span class=\"n\">obj_df</span><span class=\"p\">[</span><span class=\"s2\">\"body_style\"</span><span class=\"p\">]</span><span class=\"o\">.</span><span class=\"n\">astype</span><span class=\"p\">(</span><span class=\"s1\">\\'category\\'</span><span class=\"p\">)</span>\\n<span class=\"n\">obj_df</span><span class=\"o\">.</span><span class=\"n\">dtypes</span>\\n</pre></div>\\n<pre class=\"literal-block\">\\nmake                 object\\nfuel_type            object\\naspiration           object\\nnum_doors             int64\\nbody_style         category\\ndrive_wheels         object\\nengine_location      object\\nengine_type          object\\nnum_cylinders         int64\\nfuel_system          object\\ndtype: object\\n</pre>\\n<p>Then you can assign the encoded variable to a new column using the <code class=\"code\">\\ncat.codes</code>\\n accessor:</p>\\n<div class=\"highlight\"><pre><span></span><span class=\"n\">obj_df</span><span class=\"p\">[</span><span class=\"s2\">\"body_style_cat\"</span><span class=\"p\">]</span> <span class=\"o\">=</span> <span class=\"n\">obj_df</span><span class=\"p\">[</span><span class=\"s2\">\"body_style\"</span><span class=\"p\">]</span><span class=\"o\">.</span><span class=\"n\">cat</span><span class=\"o\">.</span><span class=\"n\">codes</span>\\n<span class=\"n\">obj_df</span><span class=\"o\">.</span><span class=\"n\">head</span><span class=\"p\">()</span>\\n</pre></div>\\n<div style=\"max-height:1000px;max-width:1500px;overflow:auto;\">\\n<table border=\"1\" class=\"table table-condensed\">\\n<thead>\\n<tr style=\"text-align: right;\">\\n<th></th>\\n<th>make</th>\\n<th>fuel_type</th>\\n<th>aspiration</th>\\n<th>num_doors</th>\\n<th>body_style</th>\\n<th>drive_wheels</th>\\n<th>engine_location</th>\\n<th>engine_type</th>\\n<th>num_cylinders</th>\\n<th>fuel_system</th>\\n<th>body_style_cat</th>\\n</tr>\\n</thead>\\n<tbody>\\n<tr>\\n<th>0</th>\\n<td>alfa-romero</td>\\n<td>gas</td>\\n<td>std</td>\\n<td>2</td>\\n<td>convertible</td>\\n<td>rwd</td>\\n<td>front</td>\\n<td>dohc</td>\\n<td>4</td>\\n<td>mpfi</td>\\n<td>0</td>\\n</tr>\\n<tr>\\n<th>1</th>\\n<td>alfa-romero</td>\\n<td>gas</td>\\n<td>std</td>\\n<td>2</td>\\n<td>convertible</td>\\n<td>rwd</td>\\n<td>front</td>\\n<td>dohc</td>\\n<td>4</td>\\n<td>mpfi</td>\\n<td>0</td>\\n</tr>\\n<tr>\\n<th>2</th>\\n<td>alfa-romero</td>\\n<td>gas</td>\\n<td>std</td>\\n<td>2</td>\\n<td>hatchback</td>\\n<td>rwd</td>\\n<td>front</td>\\n<td>ohcv</td>\\n<td>6</td>\\n<td>mpfi</td>\\n<td>2</td>\\n</tr>\\n<tr>\\n<th>3</th>\\n<td>audi</td>\\n<td>gas</td>\\n<td>std</td>\\n<td>4</td>\\n<td>sedan</td>\\n<td>fwd</td>\\n<td>front</td>\\n<td>ohc</td>\\n<td>4</td>\\n<td>mpfi</td>\\n<td>3</td>\\n</tr>\\n<tr>\\n<th>4</th>\\n<td>audi</td>\\n<td>gas</td>\\n<td>std</td>\\n<td>4</td>\\n<td>sedan</td>\\n<td>4wd</td>\\n<td>front</td>\\n<td>ohc</td>\\n<td>5</td>\\n<td>mpfi</td>\\n<td>3</td>\\n</tr>\\n</tbody>\\n</table>\\n</div><p>The nice aspect of this approach is that you get the benefits of pandas categories\\n(compact data size, ability to order, plotting support) but can easily be converted to\\nnumeric values for further\\xc2\\xa0analysis.</p>\\n</div>\\n<div class=\"section\" id=\"approach-3-one-hot-encoding\">\\n<h2>Approach #3 - One Hot\\xc2\\xa0Encoding</h2>\\n<p>Label encoding has the advantage that it is straightforward but it has the disadvantage\\nthat the numeric values can be \\xe2\\x80\\x9cmisinterpreted\\xe2\\x80\\x9d by the algorithms. For example, the value\\nof 0 is obviously less than the value of 4 but does that really correspond to\\nthe data set in real life? Does a wagon have \\xe2\\x80\\x9c4X\\xe2\\x80\\x9d more weight in our calculation\\nthan the convertible? In this example, I don\\xe2\\x80\\x99t think\\xc2\\xa0so.</p>\\n<p>A common alternative approach is called one hot encoding (but also goes by several\\ndifferent names shown below). Despite the different names, the basic strategy is\\nto convert each category value into a new column and assigns a 1 or 0 (True/False)\\nvalue to the column. This has the benefit of not weighting a value improperly but\\ndoes have the downside of adding more columns to the data\\xc2\\xa0set.</p>\\n<p>Pandas supports this feature using <a class=\"reference external\" href=\"http://pandas.pydata.org/pandas-docs/stable/generated/pandas.get_dummies.html\">get_dummies</a>.  This function is named\\nthis way because it creates dummy/indicator variables (aka 1 or\\xc2\\xa00).</p>\\n<p>Hopefully a simple example will make this more clear. We can look at the column\\n<code class=\"code\">\\ndrive_wheels</code>\\n where we have values of <code class=\"code\">\\n4wd</code>\\n, <code class=\"code\">\\nfwd</code>\\n or <code class=\"code\">\\nrwd</code>\\n.\\nBy using <code class=\"code\">\\nget_dummies</code>\\n we can convert this to three columns with a 1 or 0 corresponding\\nto the correct\\xc2\\xa0value:</p>\\n<div class=\"highlight\"><pre><span></span><span class=\"n\">pd</span><span class=\"o\">.</span><span class=\"n\">get_dummies</span><span class=\"p\">(</span><span class=\"n\">obj_df</span><span class=\"p\">,</span> <span class=\"n\">columns</span><span class=\"o\">=</span><span class=\"p\">[</span><span class=\"s2\">\"drive_wheels\"</span><span class=\"p\">])</span><span class=\"o\">.</span><span class=\"n\">head</span><span class=\"p\">()</span>\\n</pre></div>\\n<div style=\"max-height:1000px;max-width:1500px;overflow:auto;\">\\n<table border=\"1\" class=\"table table-condensed\">\\n<thead>\\n<tr style=\"text-align: right;\">\\n<th></th>\\n<th>make</th>\\n<th>fuel_type</th>\\n<th>aspiration</th>\\n<th>num_doors</th>\\n<th>body_style</th>\\n<th>engine_location</th>\\n<th>engine_type</th>\\n<th>num_cylinders</th>\\n<th>fuel_system</th>\\n<th>body_style_cat</th>\\n<th>drive_wheels_4wd</th>\\n<th>drive_wheels_fwd</th>\\n<th>drive_wheels_rwd</th>\\n</tr>\\n</thead>\\n<tbody>\\n<tr>\\n<th>0</th>\\n<td>alfa-romero</td>\\n<td>gas</td>\\n<td>std</td>\\n<td>2</td>\\n<td>convertible</td>\\n<td>front</td>\\n<td>dohc</td>\\n<td>4</td>\\n<td>mpfi</td>\\n<td>0</td>\\n<td>0.0</td>\\n<td>0.0</td>\\n<td>1.0</td>\\n</tr>\\n<tr>\\n<th>1</th>\\n<td>alfa-romero</td>\\n<td>gas</td>\\n<td>std</td>\\n<td>2</td>\\n<td>convertible</td>\\n<td>front</td>\\n<td>dohc</td>\\n<td>4</td>\\n<td>mpfi</td>\\n<td>0</td>\\n<td>0.0</td>\\n<td>0.0</td>\\n<td>1.0</td>\\n</tr>\\n<tr>\\n<th>2</th>\\n<td>alfa-romero</td>\\n<td>gas</td>\\n<td>std</td>\\n<td>2</td>\\n<td>hatchback</td>\\n<td>front</td>\\n<td>ohcv</td>\\n<td>6</td>\\n<td>mpfi</td>\\n<td>2</td>\\n<td>0.0</td>\\n<td>0.0</td>\\n<td>1.0</td>\\n</tr>\\n<tr>\\n<th>3</th>\\n<td>audi</td>\\n<td>gas</td>\\n<td>std</td>\\n<td>4</td>\\n<td>sedan</td>\\n<td>front</td>\\n<td>ohc</td>\\n<td>4</td>\\n<td>mpfi</td>\\n<td>3</td>\\n<td>0.0</td>\\n<td>1.0</td>\\n<td>0.0</td>\\n</tr>\\n<tr>\\n<th>4</th>\\n<td>audi</td>\\n<td>gas</td>\\n<td>std</td>\\n<td>4</td>\\n<td>sedan</td>\\n<td>front</td>\\n<td>ohc</td>\\n<td>5</td>\\n<td>mpfi</td>\\n<td>3</td>\\n<td>1.0</td>\\n<td>0.0</td>\\n<td>0.0</td>\\n</tr>\\n</tbody>\\n</table>\\n</div><p>The new data set contains three new\\xc2\\xa0columns:</p>\\n<ul class=\"simple\">\\n<li><code class=\"code\">\\ndrive_wheels_4wd</code>\\n</li>\\n<li><code class=\"code\">\\ndrive_wheels_rwd</code>\\n</li>\\n<li><code class=\"code\">\\ndrive_wheels_fwd</code>\\n</li>\\n</ul>\\n<p>This function is powerful because you can pass as many category columns as you would like\\nand choose how to label the columns using <code class=\"code\">\\nprefix</code>\\n. Proper naming will make the\\nrest of the analysis just a little bit\\xc2\\xa0easier.</p>\\n<div class=\"highlight\"><pre><span></span><span class=\"n\">pd</span><span class=\"o\">.</span><span class=\"n\">get_dummies</span><span class=\"p\">(</span><span class=\"n\">obj_df</span><span class=\"p\">,</span> <span class=\"n\">columns</span><span class=\"o\">=</span><span class=\"p\">[</span><span class=\"s2\">\"body_style\"</span><span class=\"p\">,</span> <span class=\"s2\">\"drive_wheels\"</span><span class=\"p\">],</span> <span class=\"n\">prefix</span><span class=\"o\">=</span><span class=\"p\">[</span><span class=\"s2\">\"body\"</span><span class=\"p\">,</span> <span class=\"s2\">\"drive\"</span><span class=\"p\">])</span><span class=\"o\">.</span><span class=\"n\">head</span><span class=\"p\">()</span>\\n</pre></div>\\n<div style=\"max-height:1000px;max-width:1500px;overflow:auto;\">\\n<table border=\"1\" class=\"table table-condensed\">\\n<thead>\\n<tr style=\"text-align: right;\">\\n<th></th>\\n<th>make</th>\\n<th>fuel_type</th>\\n<th>aspiration</th>\\n<th>num_doors</th>\\n<th>engine_location</th>\\n<th>engine_type</th>\\n<th>num_cylinders</th>\\n<th>fuel_system</th>\\n<th>body_style_cat</th>\\n<th>body_convertible</th>\\n<th>body_hardtop</th>\\n<th>body_hatchback</th>\\n<th>body_sedan</th>\\n<th>body_wagon</th>\\n<th>drive_4wd</th>\\n<th>drive_fwd</th>\\n<th>drive_rwd</th>\\n</tr>\\n</thead>\\n<tbody>\\n<tr>\\n<th>0</th>\\n<td>alfa-romero</td>\\n<td>gas</td>\\n<td>std</td>\\n<td>2</td>\\n<td>front</td>\\n<td>dohc</td>\\n<td>4</td>\\n<td>mpfi</td>\\n<td>0</td>\\n<td>1.0</td>\\n<td>0.0</td>\\n<td>0.0</td>\\n<td>0.0</td>\\n<td>0.0</td>\\n<td>0.0</td>\\n<td>0.0</td>\\n<td>1.0</td>\\n</tr>\\n<tr>\\n<th>1</th>\\n<td>alfa-romero</td>\\n<td>gas</td>\\n<td>std</td>\\n<td>2</td>\\n<td>front</td>\\n<td>dohc</td>\\n<td>4</td>\\n<td>mpfi</td>\\n<td>0</td>\\n<td>1.0</td>\\n<td>0.0</td>\\n<td>0.0</td>\\n<td>0.0</td>\\n<td>0.0</td>\\n<td>0.0</td>\\n<td>0.0</td>\\n<td>1.0</td>\\n</tr>\\n<tr>\\n<th>2</th>\\n<td>alfa-romero</td>\\n<td>gas</td>\\n<td>std</td>\\n<td>2</td>\\n<td>front</td>\\n<td>ohcv</td>\\n<td>6</td>\\n<td>mpfi</td>\\n<td>2</td>\\n<td>0.0</td>\\n<td>0.0</td>\\n<td>1.0</td>\\n<td>0.0</td>\\n<td>0.0</td>\\n<td>0.0</td>\\n<td>0.0</td>\\n<td>1.0</td>\\n</tr>\\n<tr>\\n<th>3</th>\\n<td>audi</td>\\n<td>gas</td>\\n<td>std</td>\\n<td>4</td>\\n<td>front</td>\\n<td>ohc</td>\\n<td>4</td>\\n<td>mpfi</td>\\n<td>3</td>\\n<td>0.0</td>\\n<td>0.0</td>\\n<td>0.0</td>\\n<td>1.0</td>\\n<td>0.0</td>\\n<td>0.0</td>\\n<td>1.0</td>\\n<td>0.0</td>\\n</tr>\\n<tr>\\n<th>4</th>\\n<td>audi</td>\\n<td>gas</td>\\n<td>std</td>\\n<td>4</td>\\n<td>front</td>\\n<td>ohc</td>\\n<td>5</td>\\n<td>mpfi</td>\\n<td>3</td>\\n<td>0.0</td>\\n<td>0.0</td>\\n<td>0.0</td>\\n<td>1.0</td>\\n<td>0.0</td>\\n<td>1.0</td>\\n<td>0.0</td>\\n<td>0.0</td>\\n</tr>\\n</tbody>\\n</table>\\n</div><p>The other concept to keep in mind is that <code class=\"code\">\\nget_dummies</code>\\n returns the full dataframe\\nso you will need to filter out the objects using <code class=\"code\">\\nselect_dtypes</code>\\n when you\\nare ready to do the final\\xc2\\xa0analysis.</p>\\n<p>One hot encoding, is very useful but it can cause the number of columns to expand\\ngreatly if you have very many unique values in a column. For the number of values\\nin this example, it is not a problem. However you can see how this gets really\\nchallenging to manage when you have many more\\xc2\\xa0options.</p>\\n</div>\\n<div class=\"section\" id=\"approach-4-custom-binary-encoding\">\\n<h2>Approach #4 - Custom Binary\\xc2\\xa0Encoding</h2>\\n<p>Depending on the data set, you may be able to use some combination of label encoding\\nand one hot encoding to create a binary column that meets your needs for further\\xc2\\xa0analysis.</p>\\n<p>In this particular data set, there is a column called <code class=\"code\">\\nengine_type</code>\\n that contains\\nseveral different\\xc2\\xa0values:</p>\\n<div class=\"highlight\"><pre><span></span><span class=\"n\">obj_df</span><span class=\"p\">[</span><span class=\"s2\">\"engine_type\"</span><span class=\"p\">]</span><span class=\"o\">.</span><span class=\"n\">value_counts</span><span class=\"p\">()</span>\\n</pre></div>\\n<pre class=\"literal-block\">\\nohc      148\\nohcf      15\\nohcv      13\\nl         12\\ndohc      12\\nrotor      4\\ndohcv      1\\nName: engine_type, dtype: int64\\n</pre>\\n<p>For the sake of discussion, maybe all we care about is whether or not the engine\\nis an Overhead Cam (<span class=\"caps\">OHC</span>) or not. In other words, the various versions of <span class=\"caps\">OHC</span> are all the same\\nfor this analysis. If this is the case, then we could use the <code class=\"code\">\\nstr</code>\\n accessor\\nplus <code class=\"code\">\\nnp.where</code>\\n to create a new column the indicates whether or not the car\\nhas an <span class=\"caps\">OHC</span>\\xc2\\xa0engine.</p>\\n<div class=\"highlight\"><pre><span></span><span class=\"n\">obj_df</span><span class=\"p\">[</span><span class=\"s2\">\"OHC_Code\"</span><span class=\"p\">]</span> <span class=\"o\">=</span> <span class=\"n\">np</span><span class=\"o\">.</span><span class=\"n\">where</span><span class=\"p\">(</span><span class=\"n\">obj_df</span><span class=\"p\">[</span><span class=\"s2\">\"engine_type\"</span><span class=\"p\">]</span><span class=\"o\">.</span><span class=\"n\">str</span><span class=\"o\">.</span><span class=\"n\">contains</span><span class=\"p\">(</span><span class=\"s2\">\"ohc\"</span><span class=\"p\">),</span> <span class=\"mi\">1</span><span class=\"p\">,</span> <span class=\"n\">other</span><span class=\"o\">=</span><span class=\"mi\">0</span><span class=\"p\">)</span>\\n</pre></div>\\n<p>I find that this is a handy function I use quite a bit but sometimes forget the syntax\\nso here is a graphic showing what we are\\xc2\\xa0doing:</p>\\n<div class=\"figure\" style=\"width: 930px; height: auto; max-width: 100%;\">\\n<img alt=\"example of np.where\" src=\"https://pbpython.com/images/np-where-2.png\" style=\"width: 930px; height: auto; max-width: 100%;\"/>\\n</div>\\n<p>The resulting dataframe looks like this (only showing a subset of\\xc2\\xa0columns):</p>\\n<div class=\"highlight\"><pre><span></span><span class=\"n\">obj_df</span><span class=\"p\">[[</span><span class=\"s2\">\"make\"</span><span class=\"p\">,</span> <span class=\"s2\">\"engine_type\"</span><span class=\"p\">,</span> <span class=\"s2\">\"OHC_Code\"</span><span class=\"p\">]]</span><span class=\"o\">.</span><span class=\"n\">head</span><span class=\"p\">()</span>\\n</pre></div>\\n<div style=\"max-height:1000px;max-width:1500px;overflow:auto;\">\\n<table border=\"1\" class=\"table table-condensed\">\\n<thead>\\n<tr style=\"text-align: right;\">\\n<th></th>\\n<th>make</th>\\n<th>engine_type</th>\\n<th>OHC_Code</th>\\n</tr>\\n</thead>\\n<tbody>\\n<tr>\\n<th>0</th>\\n<td>alfa-romero</td>\\n<td>dohc</td>\\n<td>1</td>\\n</tr>\\n<tr>\\n<th>1</th>\\n<td>alfa-romero</td>\\n<td>dohc</td>\\n<td>1</td>\\n</tr>\\n<tr>\\n<th>2</th>\\n<td>alfa-romero</td>\\n<td>ohcv</td>\\n<td>1</td>\\n</tr>\\n<tr>\\n<th>3</th>\\n<td>audi</td>\\n<td>ohc</td>\\n<td>1</td>\\n</tr>\\n<tr>\\n<th>4</th>\\n<td>audi</td>\\n<td>ohc</td>\\n<td>1</td>\\n</tr>\\n</tbody>\\n</table>\\n</div><p>This approach can be really useful if there is an option to consolidate to a\\nsimple Y/N value in a column. This also highlights how important domain\\nknowledge is to solving the problem in the most efficient manner\\xc2\\xa0possible.</p>\\n</div>\\n<div class=\"section\" id=\"scikit-learn\">\\n<h2>Scikit-Learn</h2>\\n<p>In addition to the pandas approach, scikit-learn provides <a class=\"reference external\" href=\"http://scikit-learn.org/stable/modules/preprocessing.html#encoding-categorical-features\">similar functionality</a>.\\nPersonally, I find using pandas a little simpler but I think it is important\\nto be aware of how to execute the processes in\\xc2\\xa0scikit-learn.</p>\\n<p>For instance, if we want to do a label encoding on the make of the car, we need\\nto instantiate a <code class=\"code\">\\nLabelEncoder</code>\\n object and <code class=\"code\">\\nfit_transform</code>\\n the\\xc2\\xa0data:</p>\\n<div class=\"highlight\"><pre><span></span><span class=\"kn\">from</span> <span class=\"nn\">sklearn.preprocessing</span> <span class=\"kn\">import</span> <span class=\"n\">LabelEncoder</span>\\n\\n<span class=\"n\">lb_make</span> <span class=\"o\">=</span> <span class=\"n\">LabelEncoder</span><span class=\"p\">()</span>\\n<span class=\"n\">obj_df</span><span class=\"p\">[</span><span class=\"s2\">\"make_code\"</span><span class=\"p\">]</span> <span class=\"o\">=</span> <span class=\"n\">lb_make</span><span class=\"o\">.</span><span class=\"n\">fit_transform</span><span class=\"p\">(</span><span class=\"n\">obj_df</span><span class=\"p\">[</span><span class=\"s2\">\"make\"</span><span class=\"p\">])</span>\\n<span class=\"n\">obj_df</span><span class=\"p\">[[</span><span class=\"s2\">\"make\"</span><span class=\"p\">,</span> <span class=\"s2\">\"make_code\"</span><span class=\"p\">]]</span><span class=\"o\">.</span><span class=\"n\">head</span><span class=\"p\">(</span><span class=\"mi\">11</span><span class=\"p\">)</span>\\n</pre></div>\\n<div style=\"max-height:1000px;max-width:1500px;overflow:auto;\">\\n<table border=\"1\" class=\"table table-condensed\">\\n<thead>\\n<tr style=\"text-align: right;\">\\n<th></th>\\n<th>make</th>\\n<th>make_code</th>\\n</tr>\\n</thead>\\n<tbody>\\n<tr>\\n<th>0</th>\\n<td>alfa-romero</td>\\n<td>0</td>\\n</tr>\\n<tr>\\n<th>1</th>\\n<td>alfa-romero</td>\\n<td>0</td>\\n</tr>\\n<tr>\\n<th>2</th>\\n<td>alfa-romero</td>\\n<td>0</td>\\n</tr>\\n<tr>\\n<th>3</th>\\n<td>audi</td>\\n<td>1</td>\\n</tr>\\n<tr>\\n<th>4</th>\\n<td>audi</td>\\n<td>1</td>\\n</tr>\\n<tr>\\n<th>5</th>\\n<td>audi</td>\\n<td>1</td>\\n</tr>\\n<tr>\\n<th>6</th>\\n<td>audi</td>\\n<td>1</td>\\n</tr>\\n<tr>\\n<th>7</th>\\n<td>audi</td>\\n<td>1</td>\\n</tr>\\n<tr>\\n<th>8</th>\\n<td>audi</td>\\n<td>1</td>\\n</tr>\\n<tr>\\n<th>9</th>\\n<td>audi</td>\\n<td>1</td>\\n</tr>\\n<tr>\\n<th>10</th>\\n<td>bmw</td>\\n<td>2</td>\\n</tr>\\n</tbody>\\n</table>\\n</div><p>Scikit-learn also supports binary encoding by using the <code class=\"code\">\\nLabelBinarizer.</code>\\n\\nWe use a similar process as above to transform the data but the process of creating\\na pandas DataFrame adds a couple of extra\\xc2\\xa0steps.</p>\\n<div class=\"highlight\"><pre><span></span><span class=\"kn\">from</span> <span class=\"nn\">sklearn.preprocessing</span> <span class=\"kn\">import</span> <span class=\"n\">LabelBinarizer</span>\\n\\n<span class=\"n\">lb_style</span> <span class=\"o\">=</span> <span class=\"n\">LabelBinarizer</span><span class=\"p\">()</span>\\n<span class=\"n\">lb_results</span> <span class=\"o\">=</span> <span class=\"n\">lb_style</span><span class=\"o\">.</span><span class=\"n\">fit_transform</span><span class=\"p\">(</span><span class=\"n\">obj_df</span><span class=\"p\">[</span><span class=\"s2\">\"body_style\"</span><span class=\"p\">])</span>\\n<span class=\"n\">pd</span><span class=\"o\">.</span><span class=\"n\">DataFrame</span><span class=\"p\">(</span><span class=\"n\">lb_results</span><span class=\"p\">,</span> <span class=\"n\">columns</span><span class=\"o\">=</span><span class=\"n\">lb_style</span><span class=\"o\">.</span><span class=\"n\">classes_</span><span class=\"p\">)</span><span class=\"o\">.</span><span class=\"n\">head</span><span class=\"p\">()</span>\\n</pre></div>\\n<div style=\"max-height:1000px;max-width:1500px;overflow:auto;\">\\n<table border=\"1\" class=\"table table-condensed\">\\n<thead>\\n<tr style=\"text-align: right;\">\\n<th></th>\\n<th>convertible</th>\\n<th>hardtop</th>\\n<th>hatchback</th>\\n<th>sedan</th>\\n<th>wagon</th>\\n</tr>\\n</thead>\\n<tbody>\\n<tr>\\n<th>0</th>\\n<td>1</td>\\n<td>0</td>\\n<td>0</td>\\n<td>0</td>\\n<td>0</td>\\n</tr>\\n<tr>\\n<th>1</th>\\n<td>1</td>\\n<td>0</td>\\n<td>0</td>\\n<td>0</td>\\n<td>0</td>\\n</tr>\\n<tr>\\n<th>2</th>\\n<td>0</td>\\n<td>0</td>\\n<td>1</td>\\n<td>0</td>\\n<td>0</td>\\n</tr>\\n<tr>\\n<th>3</th>\\n<td>0</td>\\n<td>0</td>\\n<td>0</td>\\n<td>1</td>\\n<td>0</td>\\n</tr>\\n<tr>\\n<th>4</th>\\n<td>0</td>\\n<td>0</td>\\n<td>0</td>\\n<td>1</td>\\n<td>0</td>\\n</tr>\\n</tbody>\\n</table>\\n</div><p>The next step would be to join this data back to the original dataframe but in the\\ninterest of article length, I\\xe2\\x80\\x99ll skip\\xc2\\xa0that.</p>\\n</div>\\n<div class=\"section\" id=\"advanced-approaches\">\\n<h2>Advanced\\xc2\\xa0Approaches</h2>\\n<p>There are even more advanced algorithms for categorical encoding. I do not have\\na lot of personal experience with them but for the sake of rounding out this guide, I wanted\\nto included them. This <a class=\"reference external\" href=\"http://www.willmcginnis.com/2015/11/29/beyond-one-hot-an-exploration-of-categorical-variables/\">article</a> provides some additional technical\\nbackground. The other nice aspect is that the author of the article\\nhas created a scikit-learn contrib package call <a class=\"reference external\" href=\"http://contrib.scikit-learn.org/categorical-encoding/\">categorical-encoding</a> which\\nimplements many of these approaches. It is a very nice tool for approaching this\\nproblem from a different\\xc2\\xa0perspective.</p>\\n<p>Here is a brief introduction to using the library for some other types of encoding.\\nFor the first example, we will try doing a <a class=\"reference external\" href=\"http://www.ats.ucla.edu/stat/sas/webbooks/reg/chapter5/sasreg5.htm#backward\">Backward Difference encoding</a>.</p>\\n<p>First we get a clean dataframe and setup the <code class=\"code\">\\nBackwardDifferenceEncoder</code>\\n:</p>\\n<div class=\"highlight\"><pre><span></span><span class=\"kn\">import</span> <span class=\"nn\">category_encoders</span> <span class=\"kn\">as</span> <span class=\"nn\">ce</span>\\n\\n<span class=\"c1\"># Get a new clean dataframe</span>\\n<span class=\"n\">obj_df</span> <span class=\"o\">=</span> <span class=\"n\">df</span><span class=\"o\">.</span><span class=\"n\">select_dtypes</span><span class=\"p\">(</span><span class=\"n\">include</span><span class=\"o\">=</span><span class=\"p\">[</span><span class=\"s1\">\\'object\\'</span><span class=\"p\">])</span><span class=\"o\">.</span><span class=\"n\">copy</span><span class=\"p\">()</span>\\n\\n<span class=\"c1\"># Specify the columns to encode then fit and transform</span>\\n<span class=\"n\">encoder</span> <span class=\"o\">=</span> <span class=\"n\">ce</span><span class=\"o\">.</span><span class=\"n\">backward_difference</span><span class=\"o\">.</span><span class=\"n\">BackwardDifferenceEncoder</span><span class=\"p\">(</span><span class=\"n\">cols</span><span class=\"o\">=</span><span class=\"p\">[</span><span class=\"s2\">\"engine_type\"</span><span class=\"p\">])</span>\\n<span class=\"n\">encoder</span><span class=\"o\">.</span><span class=\"n\">fit</span><span class=\"p\">(</span><span class=\"n\">obj_df</span><span class=\"p\">,</span> <span class=\"n\">verbose</span><span class=\"o\">=</span><span class=\"mi\">1</span><span class=\"p\">)</span>\\n\\n<span class=\"c1\"># Only display the first 8 columns for brevity</span>\\n<span class=\"n\">encoder</span><span class=\"o\">.</span><span class=\"n\">transform</span><span class=\"p\">(</span><span class=\"n\">obj_df</span><span class=\"p\">)</span><span class=\"o\">.</span><span class=\"n\">iloc</span><span class=\"p\">[:,</span><span class=\"mi\">0</span><span class=\"p\">:</span><span class=\"mi\">7</span><span class=\"p\">]</span><span class=\"o\">.</span><span class=\"n\">head</span><span class=\"p\">()</span>\\n</pre></div>\\n<div style=\"max-height:1000px;max-width:1500px;overflow:auto;\">\\n<table border=\"1\" class=\"table table-condensed\">\\n<thead>\\n<tr style=\"text-align: right;\">\\n<th></th>\\n<th>col_engine_type_0</th>\\n<th>col_engine_type_1</th>\\n<th>col_engine_type_2</th>\\n<th>col_engine_type_3</th>\\n<th>col_engine_type_4</th>\\n<th>col_engine_type_5</th>\\n<th>col_engine_type_6</th>\\n</tr>\\n</thead>\\n<tbody>\\n<tr>\\n<th>0</th>\\n<td>1.0</td>\\n<td>0.142857</td>\\n<td>0.285714</td>\\n<td>0.428571</td>\\n<td>0.571429</td>\\n<td>0.714286</td>\\n<td>-0.142857</td>\\n</tr>\\n<tr>\\n<th>1</th>\\n<td>1.0</td>\\n<td>0.142857</td>\\n<td>0.285714</td>\\n<td>0.428571</td>\\n<td>0.571429</td>\\n<td>0.714286</td>\\n<td>-0.142857</td>\\n</tr>\\n<tr>\\n<th>2</th>\\n<td>1.0</td>\\n<td>0.142857</td>\\n<td>0.285714</td>\\n<td>0.428571</td>\\n<td>0.571429</td>\\n<td>0.714286</td>\\n<td>0.857143</td>\\n</tr>\\n<tr>\\n<th>3</th>\\n<td>1.0</td>\\n<td>-0.857143</td>\\n<td>-0.714286</td>\\n<td>-0.571429</td>\\n<td>-0.428571</td>\\n<td>-0.285714</td>\\n<td>-0.142857</td>\\n</tr>\\n<tr>\\n<th>4</th>\\n<td>1.0</td>\\n<td>-0.857143</td>\\n<td>-0.714286</td>\\n<td>-0.571429</td>\\n<td>-0.428571</td>\\n<td>-0.285714</td>\\n<td>-0.142857</td>\\n</tr>\\n</tbody>\\n</table>\\n</div><p>The interesting thing is that you can see that the result are not the standard\\n1\\xe2\\x80\\x99s and 0\\xe2\\x80\\x99s we saw in the earlier encoding\\xc2\\xa0examples.</p>\\n<p>If we try a <a class=\"reference external\" href=\"http://www.ats.ucla.edu/stat/sas/webbooks/reg/chapter5/sasreg5.htm#ORTHOGONAL\">polynomial encoding</a>, we get a different distribution of values used\\nto encode the\\xc2\\xa0columns:</p>\\n<div class=\"highlight\"><pre><span></span><span class=\"n\">encoder</span> <span class=\"o\">=</span> <span class=\"n\">ce</span><span class=\"o\">.</span><span class=\"n\">polynomial</span><span class=\"o\">.</span><span class=\"n\">PolynomialEncoder</span><span class=\"p\">(</span><span class=\"n\">cols</span><span class=\"o\">=</span><span class=\"p\">[</span><span class=\"s2\">\"engine_type\"</span><span class=\"p\">])</span>\\n<span class=\"n\">encoder</span><span class=\"o\">.</span><span class=\"n\">fit</span><span class=\"p\">(</span><span class=\"n\">obj_df</span><span class=\"p\">,</span> <span class=\"n\">verbose</span><span class=\"o\">=</span><span class=\"mi\">1</span><span class=\"p\">)</span>\\n<span class=\"n\">encoder</span><span class=\"o\">.</span><span class=\"n\">transform</span><span class=\"p\">(</span><span class=\"n\">obj_df</span><span class=\"p\">)</span><span class=\"o\">.</span><span class=\"n\">iloc</span><span class=\"p\">[:,</span><span class=\"mi\">0</span><span class=\"p\">:</span><span class=\"mi\">7</span><span class=\"p\">]</span><span class=\"o\">.</span><span class=\"n\">head</span><span class=\"p\">()</span>\\n</pre></div>\\n<div style=\"max-height:1000px;max-width:1500px;overflow:auto;\">\\n<table border=\"1\" class=\"table table-condensed\">\\n<thead>\\n<tr style=\"text-align: right;\">\\n<th></th>\\n<th>col_engine_type_0</th>\\n<th>col_engine_type_1</th>\\n<th>col_engine_type_2</th>\\n<th>col_engine_type_3</th>\\n<th>col_engine_type_4</th>\\n<th>col_engine_type_5</th>\\n<th>col_engine_type_6</th>\\n</tr>\\n</thead>\\n<tbody>\\n<tr>\\n<th>0</th>\\n<td>1.0</td>\\n<td>-5.669467e-01</td>\\n<td>5.455447e-01</td>\\n<td>-4.082483e-01</td>\\n<td>0.241747</td>\\n<td>-1.091089e-01</td>\\n<td>0.032898</td>\\n</tr>\\n<tr>\\n<th>1</th>\\n<td>1.0</td>\\n<td>-5.669467e-01</td>\\n<td>5.455447e-01</td>\\n<td>-4.082483e-01</td>\\n<td>0.241747</td>\\n<td>-1.091089e-01</td>\\n<td>0.032898</td>\\n</tr>\\n<tr>\\n<th>2</th>\\n<td>1.0</td>\\n<td>3.779645e-01</td>\\n<td>3.970680e-17</td>\\n<td>-4.082483e-01</td>\\n<td>-0.564076</td>\\n<td>-4.364358e-01</td>\\n<td>-0.197386</td>\\n</tr>\\n<tr>\\n<th>3</th>\\n<td>1.0</td>\\n<td>1.347755e-17</td>\\n<td>-4.364358e-01</td>\\n<td>1.528598e-17</td>\\n<td>0.483494</td>\\n<td>8.990141e-18</td>\\n<td>-0.657952</td>\\n</tr>\\n<tr>\\n<th>4</th>\\n<td>1.0</td>\\n<td>1.347755e-17</td>\\n<td>-4.364358e-01</td>\\n<td>1.528598e-17</td>\\n<td>0.483494</td>\\n<td>8.990141e-18</td>\\n<td>-0.657952</td>\\n</tr>\\n</tbody>\\n</table>\\n</div><p>There are several different algorithms included in this package and the best way to\\nlearn is to try them out and see if it helps you with the accuracy of your\\nanalysis. The code shown above should give you guidance on how to plug in the\\nother approaches and see what kind of results you\\xc2\\xa0get.</p>\\n</div>\\n<div class=\"section\" id=\"conclusion\">\\n<h2>Conclusion</h2>\\n<p>Encoding categorical variables is an important step in the data science process.\\nBecause there are multiple approaches to encoding variables, it is important to\\nunderstand the various options and how to implement them on your own data sets.\\nThe python data science ecosystem has many helpful approaches to handling these problems.\\nI encourage you to keep these ideas in mind the next time you find yourself analyzing\\ncategorical variables. For more details on the code in this article, feel free\\nto review the <a class=\"reference external\" href=\"https://github.com/chris1610/pbpython/blob/master/notebooks/Category-Encoding-Article.ipynb\">notebook</a>.</p>\\n</div>\\n\\n  </div>\\n\\n<ul class=\"pager\">\\n\\t <li class=\"previous\">\\n\\t\\t <a href=\"https://pbpython.com/analyze-this-fanduel.html\">&larr; Data Science Challenge - Predicting Baseball Fanduel&nbsp;Points</a>\\n\\t </li>\\n\\t <li class=\"next\">\\n\\t\\t <a href=\"https://pbpython.com/python-word-template.html\">Populating <span class=\"caps\">MS</span> Word Templates with&nbsp;Python &rarr;</a>\\n\\t </li>\\n</ul> \\n\\n<div class=\"article-tag-list\">\\n<div class=\"article-tag-list\">\\n<span class=\"label label-default\">Tags</span>\\n\\t<a href=\"https://pbpython.com/tag/pandas.html\"><i class=\"fa fa-tag\"></i>pandas</a>&nbsp;\\n\\t<a href=\"https://pbpython.com/tag/scikit-learn.html\"><i class=\"fa fa-tag\"></i>scikit-learn</a>&nbsp;\\n</div></div>\\n\\n  <div class=\"comments\">\\n\\t<h2>Comments</h2>\\n\\t<div id=\"disqus_thread\"></div>\\n\\t<script type=\"text/javascript\">\\n\\t\\t\\t\\t   (function() {\\n\\t\\t\\t\\t\\t\\tvar dsq = document.createElement(\\'script\\');\\n\\t\\t\\t\\t\\t\\tdsq.type = \\'text/javascript\\'; dsq.async = true;\\n\\t\\t\\t\\t\\t\\tdsq.src = \\'//pbizpython.disqus.com/embed.js\\';\\n\\t\\t\\t\\t\\t\\t(document.getElementsByTagName(\\'head\\')[0] ||\\n\\t\\t\\t\\t\\t\\t document.getElementsByTagName(\\'body\\')[0]).appendChild(dsq);\\n\\t\\t\\t\\t  })();\\n\\t</script>\\n  </div>\\n</article>\\n        </div><!-- /content -->\\n\\n        <div class=\"col-md-3 sidebar-nav\" id=\"sidebar\">\\n\\n<div class=\"col-xs-6 col-md-12\">\\n  <!-- Begin MailChimp Signup Form -->\\n  <link href=\"//cdn-images.mailchimp.com/embedcode/slim-10_7.css\" rel=\"stylesheet\" type=\"text/css\">\\n  <style type=\"text/css\">\\n    #mc_embed_signup{background: url(/images/cream_dust.png) repeat 0 0; clear:left; font:14px \\'Average Sans\\',sans-serif; }\\n    /* Add your own MailChimp form style overrides in your site stylesheet or in this style block.\\n       We recommend moving this block and the preceding CSS link to the HEAD of your HTML file. */\\n  </style>\\n  <div id=\"mc_embed_signup\">\\n  <form action=\"https://pbpython.us18.list-manage.com/subscribe/post?u=a8d00d9b4326fefe925280de8&amp;id=7e9f14af60\" method=\"post\" id=\"mc-embedded-subscribe-form\" name=\"mc-embedded-subscribe-form\" class=\"validate\" target=\"_blank\" novalidate>\\n      <div id=\"mc_embed_signup_scroll\">\\n    <label for=\"mce-EMAIL\">Subscribe to the <a href=\"https://pbpython.com/pages/mailinglist.html\">mailing list</a></label>\\n    <input type=\"email\" value=\"\" name=\"EMAIL\" class=\"email\" id=\"mce-EMAIL\" placeholder=\"email address\" required>\\n      <!-- real people should not fill this in and expect good things - do not remove this or risk form bot signups-->\\n      <div style=\"position: absolute; left: -5000px;\" aria-hidden=\"true\"><input type=\"text\" name=\"b_a8d00d9b4326fefe925280de8_7e9f14af60\" tabindex=\"-1\" value=\"\"></div>\\n      <div class=\"clear\"><input type=\"submit\" value=\"Subscribe\" name=\"subscribe\" id=\"mc-embedded-subscribe\" class=\"button\"></div>\\n      </div>\\n  </form>\\n  </div>\\n\\n  <!--End mc_embed_signup-->\\n\\n\\n<ul class=\"list-unstyled social-links\">\\n<li><a href=\"https://pbpython.com/pages/resources.html\" >\\n    <i class=\"fa fa-smile-o fa-fw fa-lg\" aria-hidden=\"true\"></i>Support the site</a></li>\\n</ul>\\n\\n\\n<h4><i class=\"fa fa-comment fa-fw fa-lg\"></i> Social</h4>\\n<ul class=\"list-unstyled social-links\">\\n    <li><a href=\"https://github.com/chris1610/pbpython\" target=\"_blank\">\\n\\t  <i class=\"fa fa-github fa-fw fa-lg\" title=\"Github\"></i>\\n\\t\\tGithub\\n\\t</a></li>\\n    <li><a href=\"https://twitter.com/chris1610\" target=\"_blank\">\\n\\t  <i class=\"fa fa-twitter fa-fw fa-lg\" title=\"Twitter\"></i>\\n\\t\\tTwitter\\n\\t</a></li>\\n    <li><a href=\"http://www.linkedin.com/in/cmoffitt\" target=\"_blank\">\\n\\t  <i class=\"fa fa-linkedin fa-fw fa-lg\" title=\"LinkedIn\"></i>\\n\\t\\tLinkedIn\\n\\t</a></li>\\n</ul>\\n\\n\\n\\n\\n\\n<h4><i class=\"fa fa-thumbs-up fa-fw fa-lg\"></i>Popular</h4>\\n<ul class=\"list-unstyled popular-links\">\\n  <li><a href=https://pbpython.com/pandas-pivot-table-explained.html >\\n  <i class=\"fa fa-fw fa-file-text\"></i>Pandas Pivot Table Explained</a></li>\\n  <li><a href=https://pbpython.com/excel-pandas-comp.html >\\n  <i class=\"fa fa-fw fa-file-text\"></i>Common Excel Tasks Demonstrated in Pandas</a></li>\\n  <li><a href=https://pbpython.com/visualization-tools-1.html >\\n  <i class=\"fa fa-fw fa-file-text\"></i>Overview of Python Visualization Tools</a></li>\\n  <li><a href=https://pbpython.com/web-scraping-mn-budget.html >\\n  <i class=\"fa fa-fw fa-file-text\"></i>Web Scraping - It\\'s Your Civic Duty</a></li>\\n  <li><a href=https://pbpython.com/simple-graphing-pandas.html >\\n  <i class=\"fa fa-fw fa-file-text\"></i>Simple Graphing with IPython and Pandas</a></li>\\n</ul>\\n\\n\\n<h4><i class=\"fa fa-tags fa-fw fa-lg\"></i> Tags</h4>\\n<p class=\"tag-cloud\">\\n<span class=\"tag-3\">\\n    <a href=\"https://pbpython.com/tag/xlsxwriter.html\">\\n        <i class=\"fa fa-tag fa-fw fa-lg\"></i>xlsxwriter\\n    </a>\\n</span>\\n<span class=\"tag-4\">\\n    <a href=\"https://pbpython.com/tag/ggplot.html\">\\n        <i class=\"fa fa-tag fa-fw fa-lg\"></i>ggplot\\n    </a>\\n</span>\\n<span class=\"tag-4\">\\n    <a href=\"https://pbpython.com/tag/sets.html\">\\n        <i class=\"fa fa-tag fa-fw fa-lg\"></i>sets\\n    </a>\\n</span>\\n<span class=\"tag-4\">\\n    <a href=\"https://pbpython.com/tag/s3.html\">\\n        <i class=\"fa fa-tag fa-fw fa-lg\"></i>s3\\n    </a>\\n</span>\\n<span class=\"tag-4\">\\n    <a href=\"https://pbpython.com/tag/beautifulsoup.html\">\\n        <i class=\"fa fa-tag fa-fw fa-lg\"></i>beautifulsoup\\n    </a>\\n</span>\\n<span class=\"tag-4\">\\n    <a href=\"https://pbpython.com/tag/plotly.html\">\\n        <i class=\"fa fa-tag fa-fw fa-lg\"></i>plotly\\n    </a>\\n</span>\\n<span class=\"tag-4\">\\n    <a href=\"https://pbpython.com/tag/word.html\">\\n        <i class=\"fa fa-tag fa-fw fa-lg\"></i>word\\n    </a>\\n</span>\\n<span class=\"tag-3\">\\n    <a href=\"https://pbpython.com/tag/process.html\">\\n        <i class=\"fa fa-tag fa-fw fa-lg\"></i>process\\n    </a>\\n</span>\\n<span class=\"tag-4\">\\n    <a href=\"https://pbpython.com/tag/scikit.html\">\\n        <i class=\"fa fa-tag fa-fw fa-lg\"></i>scikit\\n    </a>\\n</span>\\n<span class=\"tag-4\">\\n    <a href=\"https://pbpython.com/tag/altair.html\">\\n        <i class=\"fa fa-tag fa-fw fa-lg\"></i>altair\\n    </a>\\n</span>\\n<span class=\"tag-4\">\\n    <a href=\"https://pbpython.com/tag/notebooks.html\">\\n        <i class=\"fa fa-tag fa-fw fa-lg\"></i>notebooks\\n    </a>\\n</span>\\n<span class=\"tag-4\">\\n    <a href=\"https://pbpython.com/tag/scikit-learn.html\">\\n        <i class=\"fa fa-tag fa-fw fa-lg\"></i>scikit-learn\\n    </a>\\n</span>\\n<span class=\"tag-3\">\\n    <a href=\"https://pbpython.com/tag/stdlib.html\">\\n        <i class=\"fa fa-tag fa-fw fa-lg\"></i>stdlib\\n    </a>\\n</span>\\n<span class=\"tag-2\">\\n    <a href=\"https://pbpython.com/tag/csv.html\">\\n        <i class=\"fa fa-tag fa-fw fa-lg\"></i>csv\\n    </a>\\n</span>\\n<span class=\"tag-3\">\\n    <a href=\"https://pbpython.com/tag/analyze-this.html\">\\n        <i class=\"fa fa-tag fa-fw fa-lg\"></i>analyze-this\\n    </a>\\n</span>\\n<span class=\"tag-4\">\\n    <a href=\"https://pbpython.com/tag/notebook.html\">\\n        <i class=\"fa fa-tag fa-fw fa-lg\"></i>notebook\\n    </a>\\n</span>\\n<span class=\"tag-4\">\\n    <a href=\"https://pbpython.com/tag/github.html\">\\n        <i class=\"fa fa-tag fa-fw fa-lg\"></i>github\\n    </a>\\n</span>\\n<span class=\"tag-4\">\\n    <a href=\"https://pbpython.com/tag/jinja.html\">\\n        <i class=\"fa fa-tag fa-fw fa-lg\"></i>jinja\\n    </a>\\n</span>\\n<span class=\"tag-4\">\\n    <a href=\"https://pbpython.com/tag/python.html\">\\n        <i class=\"fa fa-tag fa-fw fa-lg\"></i>python\\n    </a>\\n</span>\\n<span class=\"tag-4\">\\n    <a href=\"https://pbpython.com/tag/numpy.html\">\\n        <i class=\"fa fa-tag fa-fw fa-lg\"></i>numpy\\n    </a>\\n</span>\\n<span class=\"tag-3\">\\n    <a href=\"https://pbpython.com/tag/oauth2.html\">\\n        <i class=\"fa fa-tag fa-fw fa-lg\"></i>oauth2\\n    </a>\\n</span>\\n<span class=\"tag-1\">\\n    <a href=\"https://pbpython.com/tag/excel.html\">\\n        <i class=\"fa fa-tag fa-fw fa-lg\"></i>excel\\n    </a>\\n</span>\\n<span class=\"tag-2\">\\n    <a href=\"https://pbpython.com/tag/ipython.html\">\\n        <i class=\"fa fa-tag fa-fw fa-lg\"></i>ipython\\n    </a>\\n</span>\\n<span class=\"tag-3\">\\n    <a href=\"https://pbpython.com/tag/google.html\">\\n        <i class=\"fa fa-tag fa-fw fa-lg\"></i>google\\n    </a>\\n</span>\\n<span class=\"tag-4\">\\n    <a href=\"https://pbpython.com/tag/mlxtend.html\">\\n        <i class=\"fa fa-tag fa-fw fa-lg\"></i>mlxtend\\n    </a>\\n</span>\\n<span class=\"tag-4\">\\n    <a href=\"https://pbpython.com/tag/vcs.html\">\\n        <i class=\"fa fa-tag fa-fw fa-lg\"></i>vcs\\n    </a>\\n</span>\\n<span class=\"tag-4\">\\n    <a href=\"https://pbpython.com/tag/xlwings.html\">\\n        <i class=\"fa fa-tag fa-fw fa-lg\"></i>xlwings\\n    </a>\\n</span>\\n<span class=\"tag-3\">\\n    <a href=\"https://pbpython.com/tag/pdf.html\">\\n        <i class=\"fa fa-tag fa-fw fa-lg\"></i>pdf\\n    </a>\\n</span>\\n<span class=\"tag-4\">\\n    <a href=\"https://pbpython.com/tag/pygal.html\">\\n        <i class=\"fa fa-tag fa-fw fa-lg\"></i>pygal\\n    </a>\\n</span>\\n<span class=\"tag-2\">\\n    <a href=\"https://pbpython.com/tag/matplotlib.html\">\\n        <i class=\"fa fa-tag fa-fw fa-lg\"></i>matplotlib\\n    </a>\\n</span>\\n<span class=\"tag-1\">\\n    <a href=\"https://pbpython.com/tag/pandas.html\">\\n        <i class=\"fa fa-tag fa-fw fa-lg\"></i>pandas\\n    </a>\\n</span>\\n<span class=\"tag-4\">\\n    <a href=\"https://pbpython.com/tag/vega.html\">\\n        <i class=\"fa fa-tag fa-fw fa-lg\"></i>vega\\n    </a>\\n</span>\\n<span class=\"tag-2\">\\n    <a href=\"https://pbpython.com/tag/seaborn.html\">\\n        <i class=\"fa fa-tag fa-fw fa-lg\"></i>seaborn\\n    </a>\\n</span>\\n<span class=\"tag-4\">\\n    <a href=\"https://pbpython.com/tag/outlook.html\">\\n        <i class=\"fa fa-tag fa-fw fa-lg\"></i>outlook\\n    </a>\\n</span>\\n<span class=\"tag-4\">\\n    <a href=\"https://pbpython.com/tag/barnum.html\">\\n        <i class=\"fa fa-tag fa-fw fa-lg\"></i>barnum\\n    </a>\\n</span>\\n<span class=\"tag-4\">\\n    <a href=\"https://pbpython.com/tag/cases.html\">\\n        <i class=\"fa fa-tag fa-fw fa-lg\"></i>cases\\n    </a>\\n</span>\\n<span class=\"tag-4\">\\n    <a href=\"https://pbpython.com/tag/powerpoint.html\">\\n        <i class=\"fa fa-tag fa-fw fa-lg\"></i>powerpoint\\n    </a>\\n</span>\\n<span class=\"tag-3\">\\n    <a href=\"https://pbpython.com/tag/pelican.html\">\\n        <i class=\"fa fa-tag fa-fw fa-lg\"></i>pelican\\n    </a>\\n</span>\\n<span class=\"tag-4\">\\n    <a href=\"https://pbpython.com/tag/matplot.html\">\\n        <i class=\"fa fa-tag fa-fw fa-lg\"></i>matplot\\n    </a>\\n</span>\\n<span class=\"tag-2\">\\n    <a href=\"https://pbpython.com/tag/plotting.html\">\\n        <i class=\"fa fa-tag fa-fw fa-lg\"></i>plotting\\n    </a>\\n</span>\\n<span class=\"tag-3\">\\n    <a href=\"https://pbpython.com/tag/gui.html\">\\n        <i class=\"fa fa-tag fa-fw fa-lg\"></i>gui\\n    </a>\\n</span>\\n<span class=\"tag-3\">\\n    <a href=\"https://pbpython.com/tag/bokeh.html\">\\n        <i class=\"fa fa-tag fa-fw fa-lg\"></i>bokeh\\n    </a>\\n</span>\\n</p>\\n\\n<h4><i class=\"fa fa-rss fa-fw fa-lg\"></i> Feeds</h4>\\n<ul class=\"list-unstyled\">\\n    <li><a href=\"https://pbpython.com/feeds/all.atom.xml\"\\n\\t\\t   type=\"application/atom+xml\" rel=\"alternate\">\\n\\t\\t<i class=\"fa fa-rss-square fa-fw fa-lg\"></i> Atom Feed</a></li>\\n</ul>\\n\\n<hr />\\n<h4><i class=\"fa fa-gavel fa-fw\" aria-hidden=\"true\"></i> Disclosure</h4>\\n<p class=\"tag-3\">We are a participant in the Amazon Services LLC Associates Program,\\nan affiliate advertising program designed to provide a means for us to earn\\nfees by linking to Amazon.com and affiliated sites.</p>\\n\\n<hr/>\\n  <script>\\n    (function() {\\n      var cx = \\'006852874439469852271:h7e4xnwk6bc\\';\\n      var gcse = document.createElement(\\'script\\');\\n      gcse.type = \\'text/javascript\\';\\n      gcse.async = true;\\n      gcse.src = \\'https://cse.google.com/cse.js?cx=\\' + cx;\\n      var s = document.getElementsByTagName(\\'script\\')[0];\\n      s.parentNode.insertBefore(gcse, s);\\n    })();\\n  </script>\\n  <gcse:search></gcse:search>\\n\\n<hr />\\n<a href=\"https://www.python.org/psf-landing/\">\\n  <img src=\"https://pbpython.com/theme/images/Supporting-member-badge-colour.png\" alt=\"PSF Supporting Member\"/>\\n</a>\\n</div>        </div><!--/sidebar -->\\n      </div><!--/row-->\\n    </div><!--/container-->\\n\\n    <footer id=\"site-footer\">\\n      <address id=\"site-colophon\">\\n        <p class=\"text-center text-muted\">\\n\\t&#9400; 2014-2019 Practical Business Python &nbsp;&bull;&nbsp;\\n        Site built using <a href=\"http://getpelican.com/\" target=\"_blank\">Pelican</a>\\n        &nbsp;&bull;&nbsp; Theme based on\\n        <a href=\"http://www.voidynullness.net/page/voidy-bootstrap-pelican-theme/\"\\n           target=\"_blank\">VoidyBootstrap</a> by\\n        <a href=\"http://www.robertiwancz.com/\"\\n           target=\"_blank\">RKI</a>\\n        </p>\\n      </address><!-- /colophon  -->\\n    </footer>\\n\\n<!-- DISQUS script for displaying comment count -->\\n<script type=\"text/javascript\">\\n    var disqus_shortname = \\'pbizpython\\';\\n    (function () {\\n        var s = document.createElement(\\'script\\'); s.async = true;\\n        s.type = \\'text/javascript\\';\\n        s.src = \\'//\\' + disqus_shortname + \\'.disqus.com/count.js\\';\\n        (document.getElementsByTagName(\\'HEAD\\')[0] || document.getElementsByTagName(\\'BODY\\')[0]).appendChild(s);\\n    }());\\n</script>\\n\\n    <!-- javascript -->\\n\\t<script src=\"https://ajax.googleapis.com/ajax/libs/jquery/1.11.1/jquery.min.js\"></script>\\n\\t<script src=\"https://maxcdn.bootstrapcdn.com/bootstrap/3.3.1/js/bootstrap.min.js\"></script>\\n\\n\\n  </body>\\n</html>'"
      ]
     },
     "execution_count": 84,
     "metadata": {},
     "output_type": "execute_result"
    }
   ],
   "source": [
    "the_page"
   ]
  },
  {
   "cell_type": "code",
   "execution_count": 85,
   "metadata": {},
   "outputs": [],
   "source": [
    "df = pd.read_csv('winereviews.csv')"
   ]
  },
  {
   "cell_type": "code",
   "execution_count": 88,
   "metadata": {},
   "outputs": [],
   "source": [
    "df = df.drop(['Unnamed: 0'],1)"
   ]
  },
  {
   "cell_type": "code",
   "execution_count": 90,
   "metadata": {
    "collapsed": true
   },
   "outputs": [
    {
     "data": {
      "text/plain": [
       "country                     63\n",
       "description                  0\n",
       "designation              37465\n",
       "points                       0\n",
       "price                     8996\n",
       "province                    63\n",
       "region_1                 21247\n",
       "region_2                 79460\n",
       "taster_name              26244\n",
       "taster_twitter_handle    31213\n",
       "title                        0\n",
       "variety                      1\n",
       "winery                       0\n",
       "dtype: int64"
      ]
     },
     "execution_count": 90,
     "metadata": {},
     "output_type": "execute_result"
    }
   ],
   "source": [
    "df.isna().sum()"
   ]
  },
  {
   "cell_type": "code",
   "execution_count": 97,
   "metadata": {},
   "outputs": [
    {
     "data": {
      "text/plain": [
       "708"
      ]
     },
     "execution_count": 97,
     "metadata": {},
     "output_type": "execute_result"
    }
   ],
   "source": [
    "len(df['variety'].unique())"
   ]
  },
  {
   "cell_type": "code",
   "execution_count": 98,
   "metadata": {
    "collapsed": true
   },
   "outputs": [
    {
     "data": {
      "text/plain": [
       "Pinot Noir                    13272\n",
       "Chardonnay                    11753\n",
       "Cabernet Sauvignon             9472\n",
       "Red Blend                      8946\n",
       "Bordeaux-style Red Blend       6915\n",
       "Riesling                       5189\n",
       "Sauvignon Blanc                4967\n",
       "Syrah                          4142\n",
       "Rosé                           3564\n",
       "Merlot                         3102\n",
       "Nebbiolo                       2804\n",
       "Zinfandel                      2714\n",
       "Sangiovese                     2707\n",
       "Malbec                         2652\n",
       "Portuguese Red                 2466\n",
       "White Blend                    2360\n",
       "Sparkling Blend                2153\n",
       "Tempranillo                    1810\n",
       "Rhône-style Red Blend          1471\n",
       "Pinot Gris                     1455\n",
       "Champagne Blend                1396\n",
       "Cabernet Franc                 1353\n",
       "Grüner Veltliner               1345\n",
       "Portuguese White               1159\n",
       "Bordeaux-style White Blend     1066\n",
       "Pinot Grigio                   1052\n",
       "Gamay                          1025\n",
       "Gewürztraminer                 1012\n",
       "Viognier                        996\n",
       "Shiraz                          836\n",
       "                              ...  \n",
       "Barbera-Nebbiolo                  1\n",
       "Mavroudi                          1\n",
       "Blatina                           1\n",
       "Moschofilero-Chardonnay           1\n",
       "Vespaiolo                         1\n",
       "Zelen                             1\n",
       "Otskhanuri Sapere                 1\n",
       "Favorita                          1\n",
       "Vidadillo                         1\n",
       "Colorino                          1\n",
       "Babosa Negro                      1\n",
       "Sercial                           1\n",
       "Caprettone                        1\n",
       "Malbec-Carménère                  1\n",
       "Siegerrebe                        1\n",
       "Ramisco                           1\n",
       "Graševina                         1\n",
       "Chardonnay-Riesling               1\n",
       "Orangetraube                      1\n",
       "Muscadel                          1\n",
       "Piquepoul Blanc                   1\n",
       "Mavrokalavryta                    1\n",
       "Tinta Madeira                     1\n",
       "Karalahna                         1\n",
       "Chardonnay-Pinot Gris             1\n",
       "Petit Courbu                      1\n",
       "Espadeiro                         1\n",
       "Merseguera-Sauvignon Blanc        1\n",
       "Ekigaïna                          1\n",
       "Tinta Negra Mole                  1\n",
       "Name: variety, Length: 707, dtype: int64"
      ]
     },
     "execution_count": 98,
     "metadata": {},
     "output_type": "execute_result"
    }
   ],
   "source": [
    "df.variety.value_counts()"
   ]
  },
  {
   "cell_type": "code",
   "execution_count": 106,
   "metadata": {},
   "outputs": [],
   "source": [
    "df_1 = df[['description','variety']]\n",
    "temp = df_1.variety.value_counts()[df_1.variety.value_counts() > 1000]\n",
    "temp = temp.reset_index()\n",
    "temp = temp['index'].tolist()\n",
    "df_1[df_1['variety'].isin(temp)]"
   ]
  },
  {
   "cell_type": "code",
   "execution_count": 131,
   "metadata": {},
   "outputs": [],
   "source": [
    "temp = df_1.variety.value_counts()[df_1.variety.value_counts() > 1000]"
   ]
  },
  {
   "cell_type": "code",
   "execution_count": 143,
   "metadata": {},
   "outputs": [],
   "source": [
    "temp = temp.reset_index()"
   ]
  },
  {
   "cell_type": "code",
   "execution_count": 149,
   "metadata": {},
   "outputs": [],
   "source": [
    "temp = temp['index'].tolist()"
   ]
  },
  {
   "cell_type": "code",
   "execution_count": 159,
   "metadata": {},
   "outputs": [],
   "source": [
    "df_1 = df_1[df_1['variety'].isin(temp)]"
   ]
  },
  {
   "cell_type": "code",
   "execution_count": 161,
   "metadata": {},
   "outputs": [
    {
     "data": {
      "text/html": [
       "<div>\n",
       "<style scoped>\n",
       "    .dataframe tbody tr th:only-of-type {\n",
       "        vertical-align: middle;\n",
       "    }\n",
       "\n",
       "    .dataframe tbody tr th {\n",
       "        vertical-align: top;\n",
       "    }\n",
       "\n",
       "    .dataframe thead th {\n",
       "        text-align: right;\n",
       "    }\n",
       "</style>\n",
       "<table border=\"1\" class=\"dataframe\">\n",
       "  <thead>\n",
       "    <tr style=\"text-align: right;\">\n",
       "      <th></th>\n",
       "      <th>description</th>\n",
       "      <th>variety</th>\n",
       "    </tr>\n",
       "  </thead>\n",
       "  <tbody>\n",
       "    <tr>\n",
       "      <th>0</th>\n",
       "      <td>Aromas include tropical fruit, broom, brimston...</td>\n",
       "      <td>White Blend</td>\n",
       "    </tr>\n",
       "    <tr>\n",
       "      <th>1</th>\n",
       "      <td>This is ripe and fruity, a wine that is smooth...</td>\n",
       "      <td>Portuguese Red</td>\n",
       "    </tr>\n",
       "    <tr>\n",
       "      <th>2</th>\n",
       "      <td>Tart and snappy, the flavors of lime flesh and...</td>\n",
       "      <td>Pinot Gris</td>\n",
       "    </tr>\n",
       "    <tr>\n",
       "      <th>3</th>\n",
       "      <td>Pineapple rind, lemon pith and orange blossom ...</td>\n",
       "      <td>Riesling</td>\n",
       "    </tr>\n",
       "    <tr>\n",
       "      <th>4</th>\n",
       "      <td>Much like the regular bottling from 2012, this...</td>\n",
       "      <td>Pinot Noir</td>\n",
       "    </tr>\n",
       "  </tbody>\n",
       "</table>\n",
       "</div>"
      ],
      "text/plain": [
       "                                         description         variety\n",
       "0  Aromas include tropical fruit, broom, brimston...     White Blend\n",
       "1  This is ripe and fruity, a wine that is smooth...  Portuguese Red\n",
       "2  Tart and snappy, the flavors of lime flesh and...      Pinot Gris\n",
       "3  Pineapple rind, lemon pith and orange blossom ...        Riesling\n",
       "4  Much like the regular bottling from 2012, this...      Pinot Noir"
      ]
     },
     "execution_count": 161,
     "metadata": {},
     "output_type": "execute_result"
    }
   ],
   "source": [
    "df_1.head()"
   ]
  },
  {
   "cell_type": "code",
   "execution_count": 162,
   "metadata": {},
   "outputs": [],
   "source": [
    "from sklearn.preprocessing import LabelEncoder"
   ]
  },
  {
   "cell_type": "code",
   "execution_count": 163,
   "metadata": {},
   "outputs": [],
   "source": [
    "le = LabelEncoder()"
   ]
  },
  {
   "cell_type": "code",
   "execution_count": 166,
   "metadata": {},
   "outputs": [
    {
     "name": "stderr",
     "output_type": "stream",
     "text": [
      "/anaconda3/lib/python3.7/site-packages/ipykernel_launcher.py:1: SettingWithCopyWarning: \n",
      "A value is trying to be set on a copy of a slice from a DataFrame.\n",
      "Try using .loc[row_indexer,col_indexer] = value instead\n",
      "\n",
      "See the caveats in the documentation: http://pandas.pydata.org/pandas-docs/stable/indexing.html#indexing-view-versus-copy\n",
      "  \"\"\"Entry point for launching an IPython kernel.\n"
     ]
    }
   ],
   "source": [
    "df_1['variety'] = le.fit_transform(df_1['variety'])"
   ]
  },
  {
   "cell_type": "code",
   "execution_count": 168,
   "metadata": {},
   "outputs": [
    {
     "name": "stderr",
     "output_type": "stream",
     "text": [
      "/anaconda3/lib/python3.7/site-packages/ipykernel_launcher.py:1: SettingWithCopyWarning: \n",
      "A value is trying to be set on a copy of a slice from a DataFrame.\n",
      "Try using .loc[row_indexer,col_indexer] = value instead\n",
      "\n",
      "See the caveats in the documentation: http://pandas.pydata.org/pandas-docs/stable/indexing.html#indexing-view-versus-copy\n",
      "  \"\"\"Entry point for launching an IPython kernel.\n"
     ]
    }
   ],
   "source": [
    "df_1['description'] = df_1['description'].str.lower()"
   ]
  },
  {
   "cell_type": "code",
   "execution_count": 2,
   "metadata": {},
   "outputs": [],
   "source": [
    "from sklearn.feature_extraction.text import TfidfVectorizer, CountVectorizer"
   ]
  },
  {
   "cell_type": "code",
   "execution_count": 3,
   "metadata": {},
   "outputs": [
    {
     "ename": "NameError",
     "evalue": "name 'df_1' is not defined",
     "output_type": "error",
     "traceback": [
      "\u001b[0;31m---------------------------------------------------------------------------\u001b[0m",
      "\u001b[0;31mNameError\u001b[0m                                 Traceback (most recent call last)",
      "\u001b[0;32m<ipython-input-3-19d7c9704a95>\u001b[0m in \u001b[0;36m<module>\u001b[0;34m\u001b[0m\n\u001b[1;32m      1\u001b[0m \u001b[0mcv\u001b[0m \u001b[0;34m=\u001b[0m \u001b[0mCountVectorizer\u001b[0m\u001b[0;34m(\u001b[0m\u001b[0mstop_words\u001b[0m\u001b[0;34m=\u001b[0m\u001b[0;34m\"english\"\u001b[0m\u001b[0;34m)\u001b[0m\u001b[0;34m\u001b[0m\u001b[0;34m\u001b[0m\u001b[0m\n\u001b[0;32m----> 2\u001b[0;31m \u001b[0mX\u001b[0m \u001b[0;34m=\u001b[0m \u001b[0mcv\u001b[0m\u001b[0;34m.\u001b[0m\u001b[0mfit_transform\u001b[0m\u001b[0;34m(\u001b[0m\u001b[0mdf_1\u001b[0m\u001b[0;34m[\u001b[0m\u001b[0;34m'description'\u001b[0m\u001b[0;34m]\u001b[0m\u001b[0;34m)\u001b[0m\u001b[0;34m\u001b[0m\u001b[0;34m\u001b[0m\u001b[0m\n\u001b[0m\u001b[1;32m      3\u001b[0m \u001b[0mX\u001b[0m \u001b[0;34m=\u001b[0m \u001b[0mX\u001b[0m\u001b[0;34m.\u001b[0m\u001b[0mtoarray\u001b[0m\u001b[0;34m(\u001b[0m\u001b[0;34m)\u001b[0m\u001b[0;34m\u001b[0m\u001b[0;34m\u001b[0m\u001b[0m\n\u001b[1;32m      4\u001b[0m \u001b[0;32mfrom\u001b[0m \u001b[0msklearn\u001b[0m\u001b[0;34m.\u001b[0m\u001b[0mmodel_selection\u001b[0m \u001b[0;32mimport\u001b[0m \u001b[0mtrain_test_split\u001b[0m \u001b[0;32mas\u001b[0m \u001b[0mtts\u001b[0m\u001b[0;34m\u001b[0m\u001b[0;34m\u001b[0m\u001b[0m\n\u001b[1;32m      5\u001b[0m \u001b[0;32mfrom\u001b[0m \u001b[0msklearn\u001b[0m\u001b[0;34m.\u001b[0m\u001b[0mnaive_bayes\u001b[0m \u001b[0;32mimport\u001b[0m \u001b[0mMultinomialNB\u001b[0m\u001b[0;34m\u001b[0m\u001b[0;34m\u001b[0m\u001b[0m\n",
      "\u001b[0;31mNameError\u001b[0m: name 'df_1' is not defined"
     ]
    }
   ],
   "source": [
    "cv = CountVectorizer(stop_words=\"english\")\n",
    "X = cv.fit_transform(df_1['description'])\n",
    "X = X.toarray()\n",
    "from sklearn.model_selection import train_test_split as tts\n",
    "from sklearn.naive_bayes import MultinomialNB\n",
    "nb = MultinomialNB()\n",
    "y = df_1['variety']\n",
    "X_train, X_test, y_train, y_test = tts(X,y,test_size = 0.3,random_state = 42)\n",
    "from sklearn.metrics import classification_report, accuracy_score\n",
    "nb.fit(X_train, y_train)\n",
    "y_pred = nb.predict(X_test)\n",
    "print(accuracy_score(y_test,y_pred))\n",
    "print(classification_report(y_test,y_pred))"
   ]
  },
  {
   "cell_type": "code",
   "execution_count": null,
   "metadata": {},
   "outputs": [],
   "source": []
  },
  {
   "cell_type": "code",
   "execution_count": null,
   "metadata": {},
   "outputs": [],
   "source": []
  },
  {
   "cell_type": "code",
   "execution_count": null,
   "metadata": {},
   "outputs": [],
   "source": []
  },
  {
   "cell_type": "code",
   "execution_count": null,
   "metadata": {},
   "outputs": [],
   "source": []
  },
  {
   "cell_type": "code",
   "execution_count": null,
   "metadata": {},
   "outputs": [],
   "source": []
  },
  {
   "cell_type": "code",
   "execution_count": null,
   "metadata": {},
   "outputs": [],
   "source": []
  },
  {
   "cell_type": "code",
   "execution_count": null,
   "metadata": {},
   "outputs": [],
   "source": []
  },
  {
   "cell_type": "code",
   "execution_count": null,
   "metadata": {},
   "outputs": [],
   "source": []
  },
  {
   "cell_type": "code",
   "execution_count": null,
   "metadata": {},
   "outputs": [],
   "source": []
  },
  {
   "cell_type": "code",
   "execution_count": null,
   "metadata": {},
   "outputs": [],
   "source": []
  },
  {
   "cell_type": "code",
   "execution_count": null,
   "metadata": {},
   "outputs": [],
   "source": []
  },
  {
   "cell_type": "code",
   "execution_count": null,
   "metadata": {},
   "outputs": [],
   "source": []
  },
  {
   "cell_type": "code",
   "execution_count": null,
   "metadata": {},
   "outputs": [],
   "source": []
  },
  {
   "cell_type": "code",
   "execution_count": null,
   "metadata": {},
   "outputs": [],
   "source": []
  },
  {
   "cell_type": "code",
   "execution_count": null,
   "metadata": {},
   "outputs": [],
   "source": []
  },
  {
   "cell_type": "code",
   "execution_count": null,
   "metadata": {},
   "outputs": [],
   "source": []
  },
  {
   "cell_type": "code",
   "execution_count": null,
   "metadata": {},
   "outputs": [],
   "source": []
  },
  {
   "cell_type": "code",
   "execution_count": null,
   "metadata": {},
   "outputs": [],
   "source": []
  },
  {
   "cell_type": "code",
   "execution_count": null,
   "metadata": {},
   "outputs": [],
   "source": []
  },
  {
   "cell_type": "code",
   "execution_count": null,
   "metadata": {},
   "outputs": [],
   "source": []
  },
  {
   "cell_type": "code",
   "execution_count": null,
   "metadata": {},
   "outputs": [],
   "source": []
  }
 ],
 "metadata": {
  "kernelspec": {
   "display_name": "Python 3",
   "language": "python",
   "name": "python3"
  },
  "language_info": {
   "codemirror_mode": {
    "name": "ipython",
    "version": 3
   },
   "file_extension": ".py",
   "mimetype": "text/x-python",
   "name": "python",
   "nbconvert_exporter": "python",
   "pygments_lexer": "ipython3",
   "version": "3.7.1"
  }
 },
 "nbformat": 4,
 "nbformat_minor": 2
}
