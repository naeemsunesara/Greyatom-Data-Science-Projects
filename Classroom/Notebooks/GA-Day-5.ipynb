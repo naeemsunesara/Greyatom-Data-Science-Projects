{
  "cells": [
    {
      "metadata": {
        "trusted": true
      },
      "cell_type": "code",
      "source": "import os\nimport pandas as pd\nimport numpy as np",
      "execution_count": 1,
      "outputs": []
    },
    {
      "metadata": {
        "trusted": true
      },
      "cell_type": "code",
      "source": "!curl \"https://onedrive.live.com/download?cid=5B78EE90B274DBA0&resid=5B78EE90B274DBA0%21105&authkey=ABxnLHWVlfYM-64\" -L -o diabetes.csv",
      "execution_count": null,
      "outputs": []
    },
    {
      "metadata": {
        "trusted": true
      },
      "cell_type": "code",
      "source": "!curl \"https://onedrive.live.com/download?cid=5B78EE90B274DBA0&resid=5B78EE90B274DBA0%21107&authkey=AJpUearSZg3Wl8s\" -L -o starwars.csv",
      "execution_count": 2,
      "outputs": [
        {
          "output_type": "stream",
          "text": "  % Total    % Received % Xferd  Average Speed   Time    Time     Time  Current\n                                 Dload  Upload   Total   Spent    Left  Speed\n  0     0    0     0    0     0      0      0 --:--:-- --:--:-- --:--:--     0\n100  519k  100  519k    0     0   361k      0  0:00:01  0:00:01 --:--:-- 1257k\n",
          "name": "stdout"
        }
      ]
    },
    {
      "metadata": {
        "trusted": true
      },
      "cell_type": "code",
      "source": "!curl \"https://onedrive.live.com/download?cid=5B78EE90B274DBA0&resid=5B78EE90B274DBA0%21108&authkey=AK6Y75fscNakQP8&em=2\" -L -o StarWars_Clean.xlsx",
      "execution_count": 3,
      "outputs": [
        {
          "output_type": "stream",
          "text": "  % Total    % Received % Xferd  Average Speed   Time    Time     Time  Current\n                                 Dload  Upload   Total   Spent    Left  Speed\n  0     0    0     0    0     0      0      0 --:--:-- --:--:-- --:--:--     0\n100  124k  100  124k    0     0  91480      0  0:00:01  0:00:01 --:--:--  297k\n",
          "name": "stdout"
        }
      ]
    },
    {
      "metadata": {
        "trusted": true
      },
      "cell_type": "code",
      "source": "os.getcwd()",
      "execution_count": 6,
      "outputs": [
        {
          "output_type": "execute_result",
          "execution_count": 6,
          "data": {
            "text/plain": "'/home/nbuser/library'"
          },
          "metadata": {}
        }
      ]
    },
    {
      "metadata": {
        "trusted": true
      },
      "cell_type": "code",
      "source": "df = pd.read_excel('StarWars_Clean.xlsx')",
      "execution_count": 2,
      "outputs": []
    },
    {
      "metadata": {
        "trusted": true
      },
      "cell_type": "code",
      "source": "df.head(4)",
      "execution_count": 3,
      "outputs": [
        {
          "output_type": "execute_result",
          "execution_count": 3,
          "data": {
            "text/html": "<div>\n<style scoped>\n    .dataframe tbody tr th:only-of-type {\n        vertical-align: middle;\n    }\n\n    .dataframe tbody tr th {\n        vertical-align: top;\n    }\n\n    .dataframe thead th {\n        text-align: right;\n    }\n</style>\n<table border=\"1\" class=\"dataframe\">\n  <thead>\n    <tr style=\"text-align: right;\">\n      <th></th>\n      <th>RespondentID</th>\n      <th>Response</th>\n      <th>Response.1</th>\n      <th>Star Wars: Episode I  The Phantom Menacewatched</th>\n      <th>Star Wars: Episode II  Attack of the Cloneswatched</th>\n      <th>Star Wars: Episode III  Revenge of the Sithwatched</th>\n      <th>Star Wars: Episode IV  A New Hopewatched</th>\n      <th>Star Wars: Episode V The Empire Strikes Backwatched</th>\n      <th>Star Wars: Episode VI Return of the Jediwatched</th>\n      <th>Star Wars: Episode I  The Phantom Menace rating</th>\n      <th>...</th>\n      <th>Yoda</th>\n      <th>Response.2</th>\n      <th>Response.3</th>\n      <th>Response.4</th>\n      <th>Response.5</th>\n      <th>Response.6</th>\n      <th>Response.7</th>\n      <th>Response.8</th>\n      <th>Response.9</th>\n      <th>Response.10</th>\n    </tr>\n  </thead>\n  <tbody>\n    <tr>\n      <th>0</th>\n      <td>NaN</td>\n      <td>Response</td>\n      <td>Response</td>\n      <td>Star Wars: Episode I  The Phantom Menace</td>\n      <td>Star Wars: Episode II  Attack of the Clones</td>\n      <td>Star Wars: Episode III  Revenge of the Sith</td>\n      <td>Star Wars: Episode IV  A New Hope</td>\n      <td>Star Wars: Episode V The Empire Strikes Back</td>\n      <td>Star Wars: Episode VI Return of the Jedi</td>\n      <td>Star Wars: Episode I  The Phantom Menace</td>\n      <td>...</td>\n      <td>Yoda</td>\n      <td>Response</td>\n      <td>Response</td>\n      <td>Response</td>\n      <td>Response</td>\n      <td>Response</td>\n      <td>Response</td>\n      <td>Response</td>\n      <td>Response</td>\n      <td>Response</td>\n    </tr>\n    <tr>\n      <th>1</th>\n      <td>3.292880e+09</td>\n      <td>Yes</td>\n      <td>Yes</td>\n      <td>Star Wars: Episode I  The Phantom Menace</td>\n      <td>Star Wars: Episode II  Attack of the Clones</td>\n      <td>Star Wars: Episode III  Revenge of the Sith</td>\n      <td>Star Wars: Episode IV  A New Hope</td>\n      <td>Star Wars: Episode V The Empire Strikes Back</td>\n      <td>Star Wars: Episode VI Return of the Jedi</td>\n      <td>3</td>\n      <td>...</td>\n      <td>Very favorably</td>\n      <td>I don't understand this question</td>\n      <td>Yes</td>\n      <td>No</td>\n      <td>No</td>\n      <td>Male</td>\n      <td>18-29</td>\n      <td>NaN</td>\n      <td>High school degree</td>\n      <td>South Atlantic</td>\n    </tr>\n    <tr>\n      <th>2</th>\n      <td>3.292880e+09</td>\n      <td>No</td>\n      <td>NaN</td>\n      <td>NaN</td>\n      <td>NaN</td>\n      <td>NaN</td>\n      <td>NaN</td>\n      <td>NaN</td>\n      <td>NaN</td>\n      <td>NaN</td>\n      <td>...</td>\n      <td>NaN</td>\n      <td>NaN</td>\n      <td>NaN</td>\n      <td>NaN</td>\n      <td>Yes</td>\n      <td>Male</td>\n      <td>18-29</td>\n      <td>$0 - $24,999</td>\n      <td>Bachelor degree</td>\n      <td>West South Central</td>\n    </tr>\n    <tr>\n      <th>3</th>\n      <td>3.292765e+09</td>\n      <td>Yes</td>\n      <td>No</td>\n      <td>Star Wars: Episode I  The Phantom Menace</td>\n      <td>Star Wars: Episode II  Attack of the Clones</td>\n      <td>Star Wars: Episode III  Revenge of the Sith</td>\n      <td>NaN</td>\n      <td>NaN</td>\n      <td>NaN</td>\n      <td>1</td>\n      <td>...</td>\n      <td>Unfamiliar (N/A)</td>\n      <td>I don't understand this question</td>\n      <td>No</td>\n      <td>NaN</td>\n      <td>No</td>\n      <td>Male</td>\n      <td>18-29</td>\n      <td>$0 - $24,999</td>\n      <td>High school degree</td>\n      <td>West North Central</td>\n    </tr>\n  </tbody>\n</table>\n<p>4 rows × 38 columns</p>\n</div>",
            "text/plain": "   RespondentID  Response Response.1  \\\n0           NaN  Response   Response   \n1  3.292880e+09       Yes        Yes   \n2  3.292880e+09        No        NaN   \n3  3.292765e+09       Yes         No   \n\n  Star Wars: Episode I  The Phantom Menacewatched  \\\n0        Star Wars: Episode I  The Phantom Menace   \n1        Star Wars: Episode I  The Phantom Menace   \n2                                             NaN   \n3        Star Wars: Episode I  The Phantom Menace   \n\n  Star Wars: Episode II  Attack of the Cloneswatched  \\\n0        Star Wars: Episode II  Attack of the Clones   \n1        Star Wars: Episode II  Attack of the Clones   \n2                                                NaN   \n3        Star Wars: Episode II  Attack of the Clones   \n\n  Star Wars: Episode III  Revenge of the Sithwatched  \\\n0        Star Wars: Episode III  Revenge of the Sith   \n1        Star Wars: Episode III  Revenge of the Sith   \n2                                                NaN   \n3        Star Wars: Episode III  Revenge of the Sith   \n\n  Star Wars: Episode IV  A New Hopewatched  \\\n0        Star Wars: Episode IV  A New Hope   \n1        Star Wars: Episode IV  A New Hope   \n2                                      NaN   \n3                                      NaN   \n\n  Star Wars: Episode V The Empire Strikes Backwatched  \\\n0       Star Wars: Episode V The Empire Strikes Back    \n1       Star Wars: Episode V The Empire Strikes Back    \n2                                                NaN    \n3                                                NaN    \n\n  Star Wars: Episode VI Return of the Jediwatched  \\\n0        Star Wars: Episode VI Return of the Jedi   \n1        Star Wars: Episode VI Return of the Jedi   \n2                                             NaN   \n3                                             NaN   \n\n  Star Wars: Episode I  The Phantom Menace rating         ...          \\\n0        Star Wars: Episode I  The Phantom Menace         ...           \n1                                               3         ...           \n2                                             NaN         ...           \n3                                               1         ...           \n\n               Yoda                        Response.2 Response.3 Response.4  \\\n0              Yoda                          Response   Response   Response   \n1    Very favorably  I don't understand this question        Yes         No   \n2               NaN                               NaN        NaN        NaN   \n3  Unfamiliar (N/A)  I don't understand this question         No        NaN   \n\n  Response.5 Response.6 Response.7    Response.8          Response.9  \\\n0   Response   Response   Response      Response            Response   \n1         No       Male      18-29           NaN  High school degree   \n2        Yes       Male      18-29  $0 - $24,999     Bachelor degree   \n3         No       Male      18-29  $0 - $24,999  High school degree   \n\n          Response.10  \n0            Response  \n1      South Atlantic  \n2  West South Central  \n3  West North Central  \n\n[4 rows x 38 columns]"
          },
          "metadata": {}
        }
      ]
    },
    {
      "metadata": {
        "trusted": true
      },
      "cell_type": "code",
      "source": "df = df.drop(0)",
      "execution_count": 4,
      "outputs": []
    },
    {
      "metadata": {
        "trusted": true
      },
      "cell_type": "code",
      "source": "df.shape",
      "execution_count": 5,
      "outputs": [
        {
          "output_type": "execute_result",
          "execution_count": 5,
          "data": {
            "text/plain": "(1186, 38)"
          },
          "metadata": {}
        }
      ]
    },
    {
      "metadata": {
        "trusted": true
      },
      "cell_type": "code",
      "source": "df['Star Wars: Episode I  The Phantom Menacewatched'] = df['Star Wars: Episode I  The Phantom Menacewatched'].fillna(0)",
      "execution_count": 6,
      "outputs": []
    },
    {
      "metadata": {
        "trusted": true
      },
      "cell_type": "code",
      "source": "df['Star Wars: Episode I  The Phantom Menacewatched'].value_counts()",
      "execution_count": 7,
      "outputs": [
        {
          "output_type": "execute_result",
          "execution_count": 7,
          "data": {
            "text/plain": "Star Wars: Episode I  The Phantom Menace    673\n0                                           513\nName: Star Wars: Episode I  The Phantom Menacewatched, dtype: int64"
          },
          "metadata": {}
        }
      ]
    },
    {
      "metadata": {
        "trusted": true
      },
      "cell_type": "code",
      "source": "df_header = list(df.columns)",
      "execution_count": 8,
      "outputs": []
    },
    {
      "metadata": {
        "trusted": true
      },
      "cell_type": "code",
      "source": "df_header[3:9]",
      "execution_count": 9,
      "outputs": [
        {
          "output_type": "execute_result",
          "execution_count": 9,
          "data": {
            "text/plain": "['Star Wars: Episode I  The Phantom Menacewatched',\n 'Star Wars: Episode II  Attack of the Cloneswatched',\n 'Star Wars: Episode III  Revenge of the Sithwatched',\n 'Star Wars: Episode IV  A New Hopewatched',\n 'Star Wars: Episode V The Empire Strikes Backwatched',\n 'Star Wars: Episode VI Return of the Jediwatched']"
          },
          "metadata": {}
        }
      ]
    },
    {
      "metadata": {
        "trusted": true
      },
      "cell_type": "code",
      "source": "for x in df_header[3:9]:\n    df[x] = df[x].fillna(0)",
      "execution_count": 10,
      "outputs": []
    },
    {
      "metadata": {
        "trusted": true
      },
      "cell_type": "code",
      "source": "df.isnull().sum()",
      "execution_count": 11,
      "outputs": [
        {
          "output_type": "execute_result",
          "execution_count": 11,
          "data": {
            "text/plain": "RespondentID                                             0\nResponse                                                 0\nResponse.1                                             350\nStar Wars: Episode I  The Phantom Menacewatched          0\nStar Wars: Episode II  Attack of the Cloneswatched       0\nStar Wars: Episode III  Revenge of the Sithwatched       0\nStar Wars: Episode IV  A New Hopewatched                 0\nStar Wars: Episode V The Empire Strikes Backwatched      0\nStar Wars: Episode VI Return of the Jediwatched          0\nStar Wars: Episode I  The Phantom Menace rating        351\nStar Wars: Episode II  Attack of the Clones rating     350\nStar Wars: Episode III  Revenge of the Sith rating     351\nStar Wars: Episode IV  A New Hope rating               350\nStar Wars: Episode V The Empire Strikes Back rating    350\nStar Wars: Episode VI Return of the Jedi rating        350\nHan Solo                                               357\nLuke Skywalker                                         355\nPrincess Leia Organa                                   355\nAnakin Skywalker                                       363\nObi Wan Kenobi                                         361\nEmperor Palpatine                                      372\nDarth Vader                                            360\nLando Calrissian                                       366\nBoba Fett                                              374\nC-3P0                                                  359\nR2 D2                                                  356\nJar Jar Binks                                          365\nPadme Amidala                                          372\nYoda                                                   360\nResponse.2                                             358\nResponse.3                                             358\nResponse.4                                             973\nResponse.5                                             118\nResponse.6                                             140\nResponse.7                                             140\nResponse.8                                             328\nResponse.9                                             150\nResponse.10                                            143\ndtype: int64"
          },
          "metadata": {}
        }
      ]
    },
    {
      "metadata": {
        "trusted": true
      },
      "cell_type": "code",
      "source": "",
      "execution_count": null,
      "outputs": []
    },
    {
      "metadata": {
        "trusted": true
      },
      "cell_type": "code",
      "source": "",
      "execution_count": null,
      "outputs": []
    },
    {
      "metadata": {
        "trusted": true
      },
      "cell_type": "code",
      "source": "",
      "execution_count": null,
      "outputs": []
    },
    {
      "metadata": {
        "trusted": true
      },
      "cell_type": "code",
      "source": "",
      "execution_count": null,
      "outputs": []
    },
    {
      "metadata": {
        "trusted": true
      },
      "cell_type": "code",
      "source": "",
      "execution_count": null,
      "outputs": []
    },
    {
      "metadata": {
        "trusted": true
      },
      "cell_type": "code",
      "source": "",
      "execution_count": null,
      "outputs": []
    },
    {
      "metadata": {
        "trusted": true
      },
      "cell_type": "code",
      "source": "",
      "execution_count": null,
      "outputs": []
    },
    {
      "metadata": {
        "trusted": true
      },
      "cell_type": "code",
      "source": "",
      "execution_count": null,
      "outputs": []
    },
    {
      "metadata": {
        "trusted": true
      },
      "cell_type": "code",
      "source": "",
      "execution_count": null,
      "outputs": []
    },
    {
      "metadata": {
        "trusted": true
      },
      "cell_type": "code",
      "source": "",
      "execution_count": null,
      "outputs": []
    },
    {
      "metadata": {
        "trusted": true
      },
      "cell_type": "code",
      "source": "",
      "execution_count": null,
      "outputs": []
    },
    {
      "metadata": {
        "trusted": true
      },
      "cell_type": "code",
      "source": "",
      "execution_count": null,
      "outputs": []
    },
    {
      "metadata": {
        "trusted": true
      },
      "cell_type": "code",
      "source": "",
      "execution_count": null,
      "outputs": []
    },
    {
      "metadata": {
        "trusted": true
      },
      "cell_type": "code",
      "source": "",
      "execution_count": null,
      "outputs": []
    },
    {
      "metadata": {
        "trusted": true
      },
      "cell_type": "code",
      "source": "",
      "execution_count": null,
      "outputs": []
    },
    {
      "metadata": {
        "trusted": true
      },
      "cell_type": "code",
      "source": "",
      "execution_count": null,
      "outputs": []
    },
    {
      "metadata": {
        "trusted": true
      },
      "cell_type": "code",
      "source": "",
      "execution_count": null,
      "outputs": []
    },
    {
      "metadata": {
        "trusted": true
      },
      "cell_type": "code",
      "source": "",
      "execution_count": null,
      "outputs": []
    },
    {
      "metadata": {
        "trusted": true
      },
      "cell_type": "code",
      "source": "",
      "execution_count": null,
      "outputs": []
    },
    {
      "metadata": {
        "trusted": true
      },
      "cell_type": "code",
      "source": "",
      "execution_count": null,
      "outputs": []
    },
    {
      "metadata": {
        "trusted": true
      },
      "cell_type": "code",
      "source": "",
      "execution_count": null,
      "outputs": []
    },
    {
      "metadata": {
        "trusted": true
      },
      "cell_type": "code",
      "source": "",
      "execution_count": null,
      "outputs": []
    },
    {
      "metadata": {
        "trusted": true
      },
      "cell_type": "code",
      "source": "",
      "execution_count": null,
      "outputs": []
    },
    {
      "metadata": {
        "trusted": true
      },
      "cell_type": "code",
      "source": "",
      "execution_count": null,
      "outputs": []
    },
    {
      "metadata": {
        "trusted": true
      },
      "cell_type": "code",
      "source": "",
      "execution_count": null,
      "outputs": []
    },
    {
      "metadata": {
        "trusted": true
      },
      "cell_type": "code",
      "source": "",
      "execution_count": null,
      "outputs": []
    },
    {
      "metadata": {
        "trusted": true
      },
      "cell_type": "code",
      "source": "",
      "execution_count": null,
      "outputs": []
    },
    {
      "metadata": {
        "trusted": true
      },
      "cell_type": "code",
      "source": "",
      "execution_count": null,
      "outputs": []
    },
    {
      "metadata": {
        "trusted": true
      },
      "cell_type": "code",
      "source": "",
      "execution_count": null,
      "outputs": []
    },
    {
      "metadata": {
        "trusted": true
      },
      "cell_type": "code",
      "source": "",
      "execution_count": null,
      "outputs": []
    },
    {
      "metadata": {
        "trusted": true
      },
      "cell_type": "code",
      "source": "",
      "execution_count": null,
      "outputs": []
    },
    {
      "metadata": {
        "trusted": true
      },
      "cell_type": "code",
      "source": "",
      "execution_count": null,
      "outputs": []
    },
    {
      "metadata": {
        "trusted": true
      },
      "cell_type": "code",
      "source": "",
      "execution_count": null,
      "outputs": []
    },
    {
      "metadata": {
        "trusted": true
      },
      "cell_type": "code",
      "source": "",
      "execution_count": null,
      "outputs": []
    },
    {
      "metadata": {
        "trusted": true
      },
      "cell_type": "code",
      "source": "",
      "execution_count": null,
      "outputs": []
    },
    {
      "metadata": {
        "trusted": true
      },
      "cell_type": "code",
      "source": "",
      "execution_count": null,
      "outputs": []
    },
    {
      "metadata": {
        "trusted": true
      },
      "cell_type": "code",
      "source": "",
      "execution_count": null,
      "outputs": []
    },
    {
      "metadata": {
        "trusted": true
      },
      "cell_type": "code",
      "source": "",
      "execution_count": null,
      "outputs": []
    },
    {
      "metadata": {
        "trusted": true
      },
      "cell_type": "code",
      "source": "",
      "execution_count": null,
      "outputs": []
    },
    {
      "metadata": {
        "trusted": true
      },
      "cell_type": "code",
      "source": "",
      "execution_count": null,
      "outputs": []
    },
    {
      "metadata": {
        "trusted": true
      },
      "cell_type": "code",
      "source": "",
      "execution_count": null,
      "outputs": []
    },
    {
      "metadata": {
        "trusted": true
      },
      "cell_type": "code",
      "source": "",
      "execution_count": null,
      "outputs": []
    },
    {
      "metadata": {
        "trusted": true
      },
      "cell_type": "code",
      "source": "",
      "execution_count": null,
      "outputs": []
    },
    {
      "metadata": {
        "trusted": true
      },
      "cell_type": "code",
      "source": "",
      "execution_count": null,
      "outputs": []
    },
    {
      "metadata": {
        "trusted": true
      },
      "cell_type": "code",
      "source": "",
      "execution_count": null,
      "outputs": []
    },
    {
      "metadata": {
        "trusted": true
      },
      "cell_type": "code",
      "source": "",
      "execution_count": null,
      "outputs": []
    },
    {
      "metadata": {
        "trusted": true
      },
      "cell_type": "code",
      "source": "",
      "execution_count": null,
      "outputs": []
    },
    {
      "metadata": {
        "trusted": true
      },
      "cell_type": "code",
      "source": "",
      "execution_count": null,
      "outputs": []
    },
    {
      "metadata": {
        "trusted": true
      },
      "cell_type": "code",
      "source": "",
      "execution_count": null,
      "outputs": []
    },
    {
      "metadata": {
        "trusted": true
      },
      "cell_type": "code",
      "source": "",
      "execution_count": null,
      "outputs": []
    },
    {
      "metadata": {
        "trusted": true
      },
      "cell_type": "code",
      "source": "",
      "execution_count": null,
      "outputs": []
    },
    {
      "metadata": {
        "trusted": true
      },
      "cell_type": "code",
      "source": "",
      "execution_count": null,
      "outputs": []
    },
    {
      "metadata": {
        "trusted": true
      },
      "cell_type": "code",
      "source": "",
      "execution_count": null,
      "outputs": []
    },
    {
      "metadata": {
        "trusted": true
      },
      "cell_type": "code",
      "source": "",
      "execution_count": null,
      "outputs": []
    },
    {
      "metadata": {
        "trusted": true
      },
      "cell_type": "code",
      "source": "",
      "execution_count": null,
      "outputs": []
    },
    {
      "metadata": {
        "trusted": true
      },
      "cell_type": "code",
      "source": "",
      "execution_count": null,
      "outputs": []
    },
    {
      "metadata": {
        "trusted": true
      },
      "cell_type": "code",
      "source": "",
      "execution_count": null,
      "outputs": []
    },
    {
      "metadata": {
        "trusted": true
      },
      "cell_type": "code",
      "source": "",
      "execution_count": null,
      "outputs": []
    },
    {
      "metadata": {
        "trusted": true
      },
      "cell_type": "code",
      "source": "",
      "execution_count": null,
      "outputs": []
    },
    {
      "metadata": {
        "trusted": true
      },
      "cell_type": "code",
      "source": "",
      "execution_count": null,
      "outputs": []
    },
    {
      "metadata": {
        "trusted": true
      },
      "cell_type": "code",
      "source": "",
      "execution_count": null,
      "outputs": []
    },
    {
      "metadata": {
        "trusted": true
      },
      "cell_type": "code",
      "source": "",
      "execution_count": null,
      "outputs": []
    },
    {
      "metadata": {
        "trusted": true
      },
      "cell_type": "code",
      "source": "",
      "execution_count": null,
      "outputs": []
    },
    {
      "metadata": {
        "trusted": true
      },
      "cell_type": "code",
      "source": "",
      "execution_count": null,
      "outputs": []
    },
    {
      "metadata": {
        "trusted": true
      },
      "cell_type": "code",
      "source": "",
      "execution_count": null,
      "outputs": []
    },
    {
      "metadata": {
        "trusted": true
      },
      "cell_type": "code",
      "source": "",
      "execution_count": null,
      "outputs": []
    },
    {
      "metadata": {
        "trusted": true
      },
      "cell_type": "code",
      "source": "",
      "execution_count": null,
      "outputs": []
    },
    {
      "metadata": {
        "trusted": true
      },
      "cell_type": "code",
      "source": "",
      "execution_count": null,
      "outputs": []
    },
    {
      "metadata": {
        "trusted": true
      },
      "cell_type": "code",
      "source": "",
      "execution_count": null,
      "outputs": []
    },
    {
      "metadata": {
        "trusted": true
      },
      "cell_type": "code",
      "source": "",
      "execution_count": null,
      "outputs": []
    },
    {
      "metadata": {
        "trusted": true
      },
      "cell_type": "code",
      "source": "",
      "execution_count": null,
      "outputs": []
    }
  ],
  "metadata": {
    "kernelspec": {
      "name": "python36",
      "display_name": "Python 3.6",
      "language": "python"
    },
    "language_info": {
      "mimetype": "text/x-python",
      "nbconvert_exporter": "python",
      "name": "python",
      "pygments_lexer": "ipython3",
      "version": "3.6.6",
      "file_extension": ".py",
      "codemirror_mode": {
        "version": 3,
        "name": "ipython"
      }
    }
  },
  "nbformat": 4,
  "nbformat_minor": 2
}