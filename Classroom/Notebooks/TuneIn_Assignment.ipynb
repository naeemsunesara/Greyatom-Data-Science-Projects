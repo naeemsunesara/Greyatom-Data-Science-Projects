{
 "cells": [
  {
   "cell_type": "code",
   "execution_count": 265,
   "metadata": {},
   "outputs": [],
   "source": [
    "#!/usr/bin/env python3\n",
    "# -*- coding: utf-8 -*-\n",
    "\"\"\"\n",
    "Created on Mon Jan 21 11:22:11 2019\n",
    "\n",
    "@author: naeemsunesara\n",
    "\"\"\"\n",
    "\n",
    "import pandas as pd\n",
    "import numpy as np\n",
    "import seaborn as sns\n",
    "import geopandas as gpd\n",
    "import matplotlib.pyplot as plt"
   ]
  },
  {
   "cell_type": "code",
   "execution_count": 266,
   "metadata": {},
   "outputs": [
    {
     "name": "stdout",
     "output_type": "stream",
     "text": [
      "Index(['Location Id', 'Business Account Number', 'Ownership Name', 'DBA Name',\n",
      "       'Street Address', 'City', 'State', 'Source Zipcode',\n",
      "       'Business Start Date', 'Business End Date', 'Location Start Date',\n",
      "       'Location End Date', 'Mail Address', 'Mail City', 'Mail Zipcode',\n",
      "       'Mail State', 'NAICS Code', 'NAICS Code Description', 'Parking Tax',\n",
      "       'Transient Occupancy Tax', 'LIC Code', 'LIC Code Description',\n",
      "       'Supervisor District', 'Neighborhoods - Analysis Boundaries',\n",
      "       'Business Corridor', 'Business Location'],\n",
      "      dtype='object')\n"
     ]
    }
   ],
   "source": [
    "df = pd.read_csv('sf_business_dataset.csv', encoding='LATIN-1')\n",
    "\n",
    "cols = df.columns\n",
    "print(cols)"
   ]
  },
  {
   "cell_type": "code",
   "execution_count": 267,
   "metadata": {},
   "outputs": [
    {
     "name": "stderr",
     "output_type": "stream",
     "text": [
      "/anaconda3/lib/python3.7/site-packages/ipykernel_launcher.py:4: SettingWithCopyWarning:\n",
      "\n",
      "\n",
      "A value is trying to be set on a copy of a slice from a DataFrame.\n",
      "Try using .loc[row_indexer,col_indexer] = value instead\n",
      "\n",
      "See the caveats in the documentation: http://pandas.pydata.org/pandas-docs/stable/indexing.html#indexing-view-versus-copy\n",
      "\n"
     ]
    }
   ],
   "source": [
    "### 1st Problem\n",
    "df['City'] = df['City'].str.replace('+',' ').str.lower()\n",
    "sf = df[(df['City'] == 'san francisco') & (df['Business End Date'].isna())]\n",
    "sf['Source Zipcode'] = sf['Source Zipcode'].fillna(sf['Source Zipcode'].mode()[0])\n",
    "sf_zipcode = sf.groupby(['Source Zipcode']).size().sort_values(ascending = False).reset_index(name='Count')"
   ]
  },
  {
   "cell_type": "code",
   "execution_count": 268,
   "metadata": {},
   "outputs": [
    {
     "data": {
      "text/html": [
       "<div>\n",
       "<style scoped>\n",
       "    .dataframe tbody tr th:only-of-type {\n",
       "        vertical-align: middle;\n",
       "    }\n",
       "\n",
       "    .dataframe tbody tr th {\n",
       "        vertical-align: top;\n",
       "    }\n",
       "\n",
       "    .dataframe thead th {\n",
       "        text-align: right;\n",
       "    }\n",
       "</style>\n",
       "<table border=\"1\" class=\"dataframe\">\n",
       "  <thead>\n",
       "    <tr style=\"text-align: right;\">\n",
       "      <th></th>\n",
       "      <th>Source Zipcode</th>\n",
       "      <th>Count</th>\n",
       "    </tr>\n",
       "  </thead>\n",
       "  <tbody>\n",
       "    <tr>\n",
       "      <th>0</th>\n",
       "      <td>94110.0</td>\n",
       "      <td>10426</td>\n",
       "    </tr>\n",
       "    <tr>\n",
       "      <th>1</th>\n",
       "      <td>94103.0</td>\n",
       "      <td>9690</td>\n",
       "    </tr>\n",
       "    <tr>\n",
       "      <th>2</th>\n",
       "      <td>94107.0</td>\n",
       "      <td>8337</td>\n",
       "    </tr>\n",
       "    <tr>\n",
       "      <th>3</th>\n",
       "      <td>94109.0</td>\n",
       "      <td>8099</td>\n",
       "    </tr>\n",
       "    <tr>\n",
       "      <th>4</th>\n",
       "      <td>94102.0</td>\n",
       "      <td>7087</td>\n",
       "    </tr>\n",
       "  </tbody>\n",
       "</table>\n",
       "</div>"
      ],
      "text/plain": [
       "   Source Zipcode  Count\n",
       "0         94110.0  10426\n",
       "1         94103.0   9690\n",
       "2         94107.0   8337\n",
       "3         94109.0   8099\n",
       "4         94102.0   7087"
      ]
     },
     "execution_count": 268,
     "metadata": {},
     "output_type": "execute_result"
    }
   ],
   "source": [
    "sf_zipcode.head()"
   ]
  },
  {
   "cell_type": "code",
   "execution_count": 269,
   "metadata": {},
   "outputs": [],
   "source": [
    "map_df = gpd.read_file('./San_Francisco_Zipcodes/geo_export_ae9cf2fa-1cc8-4a65-8e07-488c7cbc7539.shp')"
   ]
  },
  {
   "cell_type": "code",
   "execution_count": 270,
   "metadata": {},
   "outputs": [
    {
     "data": {
      "text/html": [
       "<div>\n",
       "<style scoped>\n",
       "    .dataframe tbody tr th:only-of-type {\n",
       "        vertical-align: middle;\n",
       "    }\n",
       "\n",
       "    .dataframe tbody tr th {\n",
       "        vertical-align: top;\n",
       "    }\n",
       "\n",
       "    .dataframe thead th {\n",
       "        text-align: right;\n",
       "    }\n",
       "</style>\n",
       "<table border=\"1\" class=\"dataframe\">\n",
       "  <thead>\n",
       "    <tr style=\"text-align: right;\">\n",
       "      <th></th>\n",
       "      <th>id</th>\n",
       "      <th>multigeom</th>\n",
       "      <th>objectid</th>\n",
       "      <th>po_name</th>\n",
       "      <th>pop10_sqmi</th>\n",
       "      <th>pop2010</th>\n",
       "      <th>sqmi</th>\n",
       "      <th>st_area_sh</th>\n",
       "      <th>st_length_</th>\n",
       "      <th>state</th>\n",
       "      <th>zip</th>\n",
       "      <th>zip_code</th>\n",
       "      <th>geometry</th>\n",
       "    </tr>\n",
       "  </thead>\n",
       "  <tbody>\n",
       "    <tr>\n",
       "      <th>0</th>\n",
       "      <td>94124.0</td>\n",
       "      <td>F</td>\n",
       "      <td>55.0</td>\n",
       "      <td>San Francisco</td>\n",
       "      <td>7645.4</td>\n",
       "      <td>37233.0</td>\n",
       "      <td>4.87</td>\n",
       "      <td>1.357258e+08</td>\n",
       "      <td>112600.382071</td>\n",
       "      <td>CA</td>\n",
       "      <td>94124</td>\n",
       "      <td>94124.0</td>\n",
       "      <td>POLYGON ((-122.3800890113633 37.75275898753988...</td>\n",
       "    </tr>\n",
       "    <tr>\n",
       "      <th>1</th>\n",
       "      <td>94127.0</td>\n",
       "      <td>F</td>\n",
       "      <td>56.0</td>\n",
       "      <td>San Francisco</td>\n",
       "      <td>11244.7</td>\n",
       "      <td>19116.0</td>\n",
       "      <td>1.70</td>\n",
       "      <td>4.732928e+07</td>\n",
       "      <td>37576.389714</td>\n",
       "      <td>CA</td>\n",
       "      <td>94127</td>\n",
       "      <td>94127.0</td>\n",
       "      <td>POLYGON ((-122.4442709852785 37.73159598046237...</td>\n",
       "    </tr>\n",
       "    <tr>\n",
       "      <th>2</th>\n",
       "      <td>94131.0</td>\n",
       "      <td>F</td>\n",
       "      <td>57.0</td>\n",
       "      <td>San Francisco</td>\n",
       "      <td>11153.0</td>\n",
       "      <td>24202.0</td>\n",
       "      <td>2.17</td>\n",
       "      <td>6.062910e+07</td>\n",
       "      <td>55831.469347</td>\n",
       "      <td>CA</td>\n",
       "      <td>94131</td>\n",
       "      <td>94131.0</td>\n",
       "      <td>POLYGON ((-122.4555040090645 37.76091139152248...</td>\n",
       "    </tr>\n",
       "    <tr>\n",
       "      <th>3</th>\n",
       "      <td>94133.0</td>\n",
       "      <td>T</td>\n",
       "      <td>59.0</td>\n",
       "      <td>San Francisco</td>\n",
       "      <td>34200.0</td>\n",
       "      <td>24966.0</td>\n",
       "      <td>0.73</td>\n",
       "      <td>2.040908e+07</td>\n",
       "      <td>39351.719600</td>\n",
       "      <td>CA</td>\n",
       "      <td>94133</td>\n",
       "      <td>94133.0</td>\n",
       "      <td>POLYGON ((-122.4190612997865 37.81154880328311...</td>\n",
       "    </tr>\n",
       "    <tr>\n",
       "      <th>4</th>\n",
       "      <td>94132.0</td>\n",
       "      <td>F</td>\n",
       "      <td>58.0</td>\n",
       "      <td>San Francisco</td>\n",
       "      <td>6440.6</td>\n",
       "      <td>26986.0</td>\n",
       "      <td>4.19</td>\n",
       "      <td>1.123208e+08</td>\n",
       "      <td>53343.402992</td>\n",
       "      <td>CA</td>\n",
       "      <td>94132</td>\n",
       "      <td>94132.0</td>\n",
       "      <td>POLYGON ((-122.486279012768 37.73682097594768,...</td>\n",
       "    </tr>\n",
       "  </tbody>\n",
       "</table>\n",
       "</div>"
      ],
      "text/plain": [
       "        id multigeom  objectid        po_name  pop10_sqmi  pop2010  sqmi  \\\n",
       "0  94124.0         F      55.0  San Francisco      7645.4  37233.0  4.87   \n",
       "1  94127.0         F      56.0  San Francisco     11244.7  19116.0  1.70   \n",
       "2  94131.0         F      57.0  San Francisco     11153.0  24202.0  2.17   \n",
       "3  94133.0         T      59.0  San Francisco     34200.0  24966.0  0.73   \n",
       "4  94132.0         F      58.0  San Francisco      6440.6  26986.0  4.19   \n",
       "\n",
       "     st_area_sh     st_length_ state    zip  zip_code  \\\n",
       "0  1.357258e+08  112600.382071    CA  94124   94124.0   \n",
       "1  4.732928e+07   37576.389714    CA  94127   94127.0   \n",
       "2  6.062910e+07   55831.469347    CA  94131   94131.0   \n",
       "3  2.040908e+07   39351.719600    CA  94133   94133.0   \n",
       "4  1.123208e+08   53343.402992    CA  94132   94132.0   \n",
       "\n",
       "                                            geometry  \n",
       "0  POLYGON ((-122.3800890113633 37.75275898753988...  \n",
       "1  POLYGON ((-122.4442709852785 37.73159598046237...  \n",
       "2  POLYGON ((-122.4555040090645 37.76091139152248...  \n",
       "3  POLYGON ((-122.4190612997865 37.81154880328311...  \n",
       "4  POLYGON ((-122.486279012768 37.73682097594768,...  "
      ]
     },
     "execution_count": 270,
     "metadata": {},
     "output_type": "execute_result"
    }
   ],
   "source": [
    "map_df.head()"
   ]
  },
  {
   "cell_type": "code",
   "execution_count": 271,
   "metadata": {},
   "outputs": [
    {
     "data": {
      "text/plain": [
       "<matplotlib.axes._subplots.AxesSubplot at 0x1c67f12c18>"
      ]
     },
     "execution_count": 271,
     "metadata": {},
     "output_type": "execute_result"
    },
    {
     "data": {
      "image/png": "[encoded data removed]",
      "text/plain": [
       "<Figure size 432x288 with 1 Axes>"
      ]
     },
     "metadata": {
      "needs_background": "light"
     },
     "output_type": "display_data"
    }
   ],
   "source": [
    "map_df.plot()"
   ]
  },
  {
   "cell_type": "code",
   "execution_count": 272,
   "metadata": {},
   "outputs": [],
   "source": [
    "merged = map_df.set_index('id').join(sf_zipcode.set_index('Source Zipcode'))"
   ]
  },
  {
   "cell_type": "code",
   "execution_count": 273,
   "metadata": {},
   "outputs": [
    {
     "data": {
      "image/png": "[encoded data removed]",
      "text/plain": [
       "<Figure size 720x432 with 2 Axes>"
      ]
     },
     "metadata": {
      "needs_background": "light"
     },
     "output_type": "display_data"
    }
   ],
   "source": [
    "# set a variable that will call whatever column we want to visualise on the map\n",
    "variable = 'Count'\n",
    "\n",
    "# set the range for the choropleth\n",
    "vmin, vmax = 1, 10426\n",
    "\n",
    "# create figure and axes for Matplotlib\n",
    "fig, ax = plt.subplots(1, figsize=(10, 6))\n",
    "\n",
    "# create map\n",
    "merged.plot(column=variable, cmap='Blues', linewidth=0.8, ax=ax, edgecolor='0.8')\n",
    "\n",
    "# Now we can customise and add annotations\n",
    "\n",
    "# remove the axis\n",
    "ax.axis('off')\n",
    "\n",
    "# add a title\n",
    "ax.set_title('Active Businesses in San Francisco',\n",
    "              fontdict={'fontsize': '25',\n",
    "                        'fontweight' : '3'})\n",
    "\n",
    "# create an annotation for the  data source\n",
    "ax.annotate('Source: San Francisco Datastore',\n",
    "           xy=(0.1, .08), xycoords='figure fraction',\n",
    "           horizontalalignment='left', verticalalignment='top',\n",
    "           fontsize=10, color='#555555')\n",
    "\n",
    "# Create colorbar as a legend\n",
    "sm = plt.cm.ScalarMappable(cmap='Blues', norm=plt.Normalize(vmin=vmin, vmax=vmax))\n",
    "sm._A = []\n",
    "cbar = fig.colorbar(sm)\n",
    "\n",
    "# this will save the figure as a high-res png. you can also save as svg\n",
    "fig.savefig('testmap.png', dpi=300)\n"
   ]
  },
  {
   "cell_type": "code",
   "execution_count": 274,
   "metadata": {},
   "outputs": [],
   "source": [
    "#### 2nd Problem #####"
   ]
  },
  {
   "cell_type": "code",
   "execution_count": 275,
   "metadata": {},
   "outputs": [
    {
     "name": "stderr",
     "output_type": "stream",
     "text": [
      "/anaconda3/lib/python3.7/site-packages/ipykernel_launcher.py:1: SettingWithCopyWarning:\n",
      "\n",
      "\n",
      "A value is trying to be set on a copy of a slice from a DataFrame.\n",
      "Try using .loc[row_indexer,col_indexer] = value instead\n",
      "\n",
      "See the caveats in the documentation: http://pandas.pydata.org/pandas-docs/stable/indexing.html#indexing-view-versus-copy\n",
      "\n",
      "/anaconda3/lib/python3.7/site-packages/ipykernel_launcher.py:4: SettingWithCopyWarning:\n",
      "\n",
      "\n",
      "A value is trying to be set on a copy of a slice from a DataFrame.\n",
      "Try using .loc[row_indexer,col_indexer] = value instead\n",
      "\n",
      "See the caveats in the documentation: http://pandas.pydata.org/pandas-docs/stable/indexing.html#indexing-view-versus-copy\n",
      "\n"
     ]
    },
    {
     "data": {
      "text/html": [
       "<div>\n",
       "<style scoped>\n",
       "    .dataframe tbody tr th:only-of-type {\n",
       "        vertical-align: middle;\n",
       "    }\n",
       "\n",
       "    .dataframe tbody tr th {\n",
       "        vertical-align: top;\n",
       "    }\n",
       "\n",
       "    .dataframe thead th {\n",
       "        text-align: right;\n",
       "    }\n",
       "</style>\n",
       "<table border=\"1\" class=\"dataframe\">\n",
       "  <thead>\n",
       "    <tr style=\"text-align: right;\">\n",
       "      <th></th>\n",
       "      <th>NAICS Code</th>\n",
       "      <th>NAICS Code Description</th>\n",
       "      <th>age</th>\n",
       "    </tr>\n",
       "  </thead>\n",
       "  <tbody>\n",
       "    <tr>\n",
       "      <th>130036</th>\n",
       "      <td>2300-2399</td>\n",
       "      <td>Construction</td>\n",
       "      <td>2</td>\n",
       "    </tr>\n",
       "    <tr>\n",
       "      <th>130104</th>\n",
       "      <td>5100-5199</td>\n",
       "      <td>Information</td>\n",
       "      <td>2</td>\n",
       "    </tr>\n",
       "    <tr>\n",
       "      <th>130120</th>\n",
       "      <td>7210-7219</td>\n",
       "      <td>Accommodations</td>\n",
       "      <td>2</td>\n",
       "    </tr>\n",
       "    <tr>\n",
       "      <th>130154</th>\n",
       "      <td>4800-4999</td>\n",
       "      <td>Transportation and Warehousing</td>\n",
       "      <td>2</td>\n",
       "    </tr>\n",
       "    <tr>\n",
       "      <th>130669</th>\n",
       "      <td>4800-4999</td>\n",
       "      <td>Transportation and Warehousing</td>\n",
       "      <td>2</td>\n",
       "    </tr>\n",
       "  </tbody>\n",
       "</table>\n",
       "</div>"
      ],
      "text/plain": [
       "       NAICS Code          NAICS Code Description  age\n",
       "130036  2300-2399                    Construction    2\n",
       "130104  5100-5199                     Information    2\n",
       "130120  7210-7219                 Accommodations     2\n",
       "130154  4800-4999  Transportation and Warehousing    2\n",
       "130669  4800-4999  Transportation and Warehousing    2"
      ]
     },
     "execution_count": 275,
     "metadata": {},
     "output_type": "execute_result"
    }
   ],
   "source": [
    "sf['Business Start Date'] = pd.to_datetime(sf['Business Start Date'])\n",
    "import datetime\n",
    "x = datetime.datetime.now()\n",
    "sf['age'] = x.year - sf['Business Start Date'].dt.year\n",
    "sf_2 = sf[(sf['NAICS Code'].notnull()) & (sf['age'] <= 2)][['NAICS Code','NAICS Code Description','age']]\n",
    "sf_2.head()"
   ]
  },
  {
   "cell_type": "code",
   "execution_count": 276,
   "metadata": {},
   "outputs": [],
   "source": [
    "##### 3rd Problem #####\n",
    "\n",
    "sf_3 = sf[sf['NAICS Code'].notnull()][['NAICS Code','NAICS Code Description','age']].sort_values(by= 'age', ascending=False)\n",
    "sf_3['year'] = 2019 - sf_3['age']\n",
    "ind = sf_3.groupby(['NAICS Code Description'])\n",
    "real_estate = ind.get_group('Real Estate and Rental and Leasing Services').groupby(['year']).size().reset_index(name='count')\n",
    "pst = ind.get_group('Professional, Scientific, and Technical Services').groupby(['year']).size().reset_index(name='count')\n",
    "rt = ind.get_group('Retail Trade').groupby(['year']).size().reset_index(name='count')\n",
    "fs = ind.get_group('Food Services').groupby(['year']).size().reset_index(name='count')\n",
    "tw = ind.get_group('Transportation and Warehousing').groupby(['year']).size().reset_index(name='count') \n",
    "peh = ind.get_group('Private Education and Health Services').groupby(['year']).size().reset_index(name='count')                \n",
    "const = ind.get_group('Construction').groupby(['year']).size().reset_index(name='count')                                         \n",
    "aer = ind.get_group('Arts, Entertainment, and Recreation').groupby(['year']).size().reset_index(name='count')                  \n",
    "acc = ind.get_group('Accommodations ').groupby(['year']).size().reset_index(name='count') \n",
    "finance = ind.get_group('Financial Services').groupby(['year']).size().reset_index(name='count')\n",
    "info = ind.get_group('Information').groupby(['year']).size().reset_index(name='count')\n",
    "wt = ind.get_group('Wholesale Trade').groupby(['year']).size().reset_index(name='count')\n",
    "admin = ind.get_group('Administrative and Support Services').groupby(['year']).size().reset_index(name='count')\n",
    "manu = ind.get_group('Manufacturing').groupby(['year']).size().reset_index(name='count')\n",
    "certain = ind.get_group('Certain Services').groupby(['year']).size().reset_index(name='count')\n",
    "insurance = ind.get_group('Insurance').groupby(['year']).size().reset_index(name='count')\n",
    "utilities = ind.get_group('Utilities').groupby(['year']).size().reset_index(name='count')     "
   ]
  },
  {
   "cell_type": "code",
   "execution_count": null,
   "metadata": {},
   "outputs": [],
   "source": []
  },
  {
   "cell_type": "code",
   "execution_count": 277,
   "metadata": {},
   "outputs": [],
   "source": [
    "import plotly.plotly as py\n",
    "from plotly.graph_objs import *"
   ]
  },
  {
   "cell_type": "code",
   "execution_count": 278,
   "metadata": {},
   "outputs": [
    {
     "name": "stderr",
     "output_type": "stream",
     "text": [
      "/anaconda3/lib/python3.7/site-packages/IPython/core/display.py:689: UserWarning:\n",
      "\n",
      "Consider using IPython.display.IFrame instead\n",
      "\n"
     ]
    }
   ],
   "source": [
    "py.sign_in('naeemsunesara', 'moRyYgwm86TQ64o4w9MD')\n",
    "trace1 = {\n",
    "  \"x\": [\"1945\", \"1946\", \"1950\", \"1954\", \"1959\", \"1962\", \"1963\", \"1965\", \"1966\", \"1967\", \"1968\", \"1969\", \"1970\", \"1971\", \"1972\", \"1973\", \"1974\", \"1975\", \"1976\", \"1977\", \"1978\", \"1979\", \"1980\", \"1981\", \"1982\", \"1983\", \"1984\", \"1985\", \"1986\", \"1987\", \"1988\", \"1989\", \"1990\", \"1991\", \"1992\", \"1993\", \"1994\", \"1995\", \"1996\", \"1997\", \"1998\", \"1999\", \"2000\", \"2001\", \"2002\", \"2003\", \"2004\", \"2005\", \"2006\", \"2007\", \"2008\", \"2009\", \"2010\", \"2011\", \"2012\", \"2013\", \"2014\", \"2015\", \"2016\", \"2017\"], \n",
    "  \"y\": [\"1\", \"2\", \"1\", \"2\", \"1\", \"2\", \"1\", \"2\", \"6\", \"1\", \"1817\", \"112\", \"132\", \"155\", \"187\", \"164\", \"196\", \"159\", \"242\", \"177\", \"189\", \"132\", \"133\", \"86\", \"67\", \"74\", \"118\", \"79\", \"200\", \"350\", \"320\", \"446\", \"163\", \"96\", \"113\", \"173\", \"142\", \"149\", \"227\", \"220\", \"324\", \"294\", \"324\", \"229\", \"338\", \"280\", \"304\", \"388\", \"324\", \"1492\", \"282\", \"310\", \"367\", \"604\", \"601\", \"615\", \"2896\", \"1018\", \"794\", \"301\"], \n",
    "  \"mode\": \"lines\", \n",
    "  \"name\": \"Real Estate and Rental\", \n",
    "  \"type\": \"scatter\", \n",
    "  \"visible\": True, \n",
    "  \"xsrc\": \"naeemsunesara:1:87417b\", \n",
    "  \"ysrc\": \"naeemsunesara:1:ec265c\"\n",
    "}\n",
    "trace2 = {\n",
    "  \"x\": [\"1953\", \"1957\", \"1963\", \"1968\", \"1969\", \"1970\", \"1971\", \"1972\", \"1973\", \"1974\", \"1975\", \"1976\", \"1977\", \"1978\", \"1979\", \"1980\", \"1981\", \"1982\", \"1983\", \"1984\", \"1985\", \"1986\", \"1987\", \"1988\", \"1989\", \"1990\", \"1991\", \"1992\", \"1993\", \"1994\", \"1995\", \"1996\", \"1997\", \"1998\", \"1999\", \"2000\", \"2001\", \"2002\", \"2003\", \"2004\", \"2005\", \"2006\", \"2007\", \"2008\", \"2009\", \"2010\", \"2011\", \"2012\", \"2013\", \"2014\", \"2015\", \"2016\", \"2017\", \"2029\"], \n",
    "  \"y\": [\"1\", \"1\", \"2\", \"168\", \"17\", \"17\", \"29\", \"20\", \"28\", \"18\", \"31\", \"35\", \"35\", \"25\", \"33\", \"35\", \"53\", \"45\", \"28\", \"63\", \"65\", \"64\", \"103\", \"103\", \"132\", \"97\", \"108\", \"149\", \"145\", \"179\", \"278\", \"272\", \"275\", \"291\", \"332\", \"340\", \"297\", \"385\", \"431\", \"494\", \"537\", \"531\", \"530\", \"547\", \"640\", \"686\", \"808\", \"929\", \"1076\", \"1102\", \"1103\", \"1374\", \"563\", \"1\"], \n",
    "  \"mode\": \"lines\", \n",
    "  \"name\": \"Professional Scientific\", \n",
    "  \"type\": \"scatter\", \n",
    "  \"visible\": True, \n",
    "  \"xsrc\": \"naeemsunesara:0:e873f6\", \n",
    "  \"ysrc\": \"naeemsunesara:0:e95bd0\"\n",
    "}\n",
    "trace3 = {\n",
    "  \"x\": [\"1958\", \"1959\", \"1968\", \"1969\", \"1970\", \"1971\", \"1972\", \"1973\", \"1974\", \"1975\", \"1976\", \"1977\", \"1978\", \"1979\", \"1980\", \"1981\", \"1982\", \"1983\", \"1984\", \"1985\", \"1986\", \"1987\", \"1988\", \"1989\", \"1990\", \"1991\", \"1992\", \"1993\", \"1994\", \"1995\", \"1996\", \"1997\", \"1998\", \"1999\", \"2000\", \"2001\", \"2002\", \"2003\", \"2004\", \"2005\", \"2006\", \"2007\", \"2008\", \"2009\", \"2010\", \"2011\", \"2012\", \"2013\", \"2014\", \"2015\", \"2016\", \"2017\"], \n",
    "  \"y\": [\"1\", \"1\", \"291\", \"7\", \"7\", \"26\", \"19\", \"15\", \"25\", \"29\", \"22\", \"32\", \"42\", \"25\", \"35\", \"36\", \"31\", \"49\", \"57\", \"51\", \"35\", \"66\", \"86\", \"82\", \"62\", \"78\", \"98\", \"74\", \"126\", \"112\", \"147\", \"213\", \"147\", \"303\", \"143\", \"158\", \"218\", \"229\", \"250\", \"226\", \"295\", \"263\", \"272\", \"324\", \"387\", \"400\", \"420\", \"519\", \"470\", \"638\", \"771\", \"352\"], \n",
    "  \"mode\": \"lines\", \n",
    "  \"name\": \"Retail Trade\", \n",
    "  \"type\": \"scatter\", \n",
    "  \"visible\": True, \n",
    "  \"xsrc\": \"naeemsunesara:3:71dc8d\", \n",
    "  \"ysrc\": \"naeemsunesara:3:e4d268\"\n",
    "}\n",
    "trace4 = {\n",
    "  \"x\": [\"1960\", \"1968\", \"1969\", \"1970\", \"1971\", \"1972\", \"1973\", \"1974\", \"1975\", \"1976\", \"1977\", \"1978\", \"1979\", \"1980\", \"1981\", \"1982\", \"1983\", \"1984\", \"1985\", \"1986\", \"1987\", \"1988\", \"1989\", \"1990\", \"1991\", \"1992\", \"1993\", \"1994\", \"1995\", \"1996\", \"1997\", \"1998\", \"1999\", \"2000\", \"2001\", \"2002\", \"2003\", \"2004\", \"2005\", \"2006\", \"2007\", \"2008\", \"2009\", \"2010\", \"2011\", \"2012\", \"2013\", \"2014\", \"2015\", \"2016\", \"2017\"], \n",
    "  \"y\": [\"1\", \"91\", \"7\", \"4\", \"3\", \"3\", \"8\", \"10\", \"8\", \"5\", \"6\", \"15\", \"7\", \"10\", \"30\", \"11\", \"24\", \"29\", \"17\", \"22\", \"43\", \"41\", \"37\", \"19\", \"31\", \"137\", \"208\", \"76\", \"94\", \"105\", \"71\", \"85\", \"116\", \"59\", \"110\", \"155\", \"135\", \"167\", \"171\", \"230\", \"174\", \"241\", \"274\", \"339\", \"423\", \"443\", \"557\", \"613\", \"659\", \"716\", \"361\"], \n",
    "  \"mode\": \"lines\", \n",
    "  \"name\": \"Food Services\", \n",
    "  \"type\": \"scatter\", \n",
    "  \"visible\": True, \n",
    "  \"xsrc\": \"naeemsunesara:2:911bf5\", \n",
    "  \"ysrc\": \"naeemsunesara:2:7c4716\"\n",
    "}\n",
    "trace5 = {\n",
    "  \"x\": [\"1949\", \"1968\", \"1969\", \"1970\", \"1971\", \"1972\", \"1973\", \"1974\", \"1975\", \"1976\", \"1978\", \"1979\", \"1980\", \"1981\", \"1984\", \"1985\", \"1986\", \"1987\", \"1988\", \"1989\", \"1990\", \"1991\", \"1992\", \"1993\", \"1994\", \"1995\", \"1996\", \"1997\", \"1998\", \"1999\", \"2000\", \"2001\", \"2002\", \"2003\", \"2004\", \"2005\", \"2006\", \"2007\", \"2008\", \"2009\", \"2010\", \"2011\", \"2012\", \"2013\", \"2014\", \"2015\", \"2016\", \"2017\"], \n",
    "  \"y\": [\"2\", \"14\", \"2\", \"5\", \"1\", \"2\", \"2\", \"1\", \"1\", \"4\", \"5\", \"1\", \"1\", \"1\", \"2\", \"1\", \"3\", \"8\", \"4\", \"8\", \"8\", \"1\", \"14\", \"10\", \"9\", \"11\", \"21\", \"10\", \"19\", \"25\", \"29\", \"16\", \"30\", \"34\", \"28\", \"35\", \"44\", \"974\", \"41\", \"72\", \"60\", \"54\", \"96\", \"191\", \"446\", \"1056\", \"3300\", \"187\"], \n",
    "  \"mode\": \"lines\", \n",
    "  \"name\": \"Transportation\", \n",
    "  \"type\": \"scatter\", \n",
    "  \"visible\": True, \n",
    "  \"xsrc\": \"naeemsunesara:7:efc7a3\", \n",
    "  \"ysrc\": \"naeemsunesara:7:a53a7a\"\n",
    "}\n",
    "trace6 = {\n",
    "  \"x\": [\"1948\", \"1952\", \"1955\", \"1958\", \"1959\", \"1962\", \"1963\", \"1964\", \"1965\", \"1966\", \"1967\", \"1968\", \"1969\", \"1970\", \"1971\", \"1972\", \"1973\", \"1974\", \"1975\", \"1976\", \"1977\", \"1978\", \"1979\", \"1980\", \"1981\", \"1982\", \"1983\", \"1984\", \"1985\", \"1986\", \"1987\", \"1988\", \"1989\", \"1990\", \"1991\", \"1992\", \"1993\", \"1994\", \"1995\", \"1996\", \"1997\", \"1998\", \"1999\", \"2000\", \"2001\", \"2002\", \"2003\", \"2004\", \"2005\", \"2006\", \"2007\", \"2008\", \"2009\", \"2010\", \"2011\", \"2012\", \"2013\", \"2014\", \"2015\", \"2016\", \"2017\", \"2024\"], \n",
    "  \"y\": [\"3\", \"1\", \"1\", \"7\", \"3\", \"1\", \"1\", \"3\", \"48\", \"1\", \"2\", \"86\", \"7\", \"12\", \"54\", \"7\", \"11\", \"17\", \"15\", \"18\", \"18\", \"15\", \"12\", \"13\", \"14\", \"29\", \"16\", \"35\", \"22\", \"20\", \"49\", \"39\", \"53\", \"39\", \"53\", \"49\", \"52\", \"55\", \"131\", \"60\", \"110\", \"134\", \"89\", \"109\", \"113\", \"121\", \"129\", \"203\", \"152\", \"146\", \"197\", \"195\", \"198\", \"239\", \"263\", \"305\", \"287\", \"355\", \"378\", \"445\", \"213\", \"1\"], \n",
    "  \"mode\": \"lines\", \n",
    "  \"name\": \"Private Education and Health\", \n",
    "  \"type\": \"scatter\", \n",
    "  \"xsrc\": \"naeemsunesara:4:d136a1\", \n",
    "  \"ysrc\": \"naeemsunesara:4:9a63d4\"\n",
    "}\n",
    "trace7 = {\n",
    "  \"x\": [\"1968\", \"1969\", \"1970\", \"1971\", \"1972\", \"1973\", \"1975\", \"1976\", \"1977\", \"1978\", \"1979\", \"1980\", \"1981\", \"1982\", \"1983\", \"1984\", \"1985\", \"1986\", \"1987\", \"1988\", \"1989\", \"1990\", \"1991\", \"1992\", \"1993\", \"1994\", \"1995\", \"1996\", \"1997\", \"1998\", \"1999\", \"2000\", \"2001\", \"2002\", \"2003\", \"2004\", \"2005\", \"2006\", \"2007\", \"2008\", \"2009\", \"2010\", \"2011\", \"2012\", \"2013\", \"2014\", \"2015\", \"2016\", \"2017\"], \n",
    "  \"y\": [\"49\", \"6\", \"3\", \"13\", \"6\", \"2\", \"9\", \"9\", \"12\", \"7\", \"9\", \"8\", \"13\", \"18\", \"28\", \"11\", \"24\", \"21\", \"22\", \"85\", \"69\", \"57\", \"59\", \"59\", \"48\", \"61\", \"73\", \"116\", \"72\", \"107\", \"121\", \"112\", \"137\", \"136\", \"169\", \"169\", \"192\", \"161\", \"177\", \"192\", \"202\", \"217\", \"249\", \"211\", \"248\", \"326\", \"284\", \"448\", \"207\"], \n",
    "  \"mode\": \"lines\", \n",
    "  \"name\": \"Construction\", \n",
    "  \"type\": \"scatter\", \n",
    "  \"xsrc\": \"naeemsunesara:6:e7b432\", \n",
    "  \"ysrc\": \"naeemsunesara:6:220e40\"\n",
    "}\n",
    "trace8 = {\n",
    "  \"x\": [\"1947\", \"1951\", \"1952\", \"1954\", \"1957\", \"1964\", \"1965\", \"1966\", \"1967\", \"1968\", \"1969\", \"1970\", \"1971\", \"1972\", \"1973\", \"1974\", \"1975\", \"1976\", \"1977\", \"1978\", \"1979\", \"1980\", \"1981\", \"1982\", \"1983\", \"1984\", \"1985\", \"1986\", \"1987\", \"1988\", \"1989\", \"1990\", \"1991\", \"1992\", \"1993\", \"1994\", \"1995\", \"1996\", \"1997\", \"1998\", \"1999\", \"2000\", \"2001\", \"2002\", \"2003\", \"2004\", \"2005\", \"2006\", \"2007\", \"2008\", \"2009\", \"2010\", \"2011\", \"2012\", \"2013\", \"2014\", \"2015\", \"2016\", \"2017\"], \n",
    "  \"y\": [\"1\", \"1\", \"1\", \"1\", \"4\", \"1\", \"4\", \"5\", \"2\", \"12\", \"6\", \"5\", \"6\", \"7\", \"2\", \"7\", \"2\", \"17\", \"17\", \"5\", \"5\", \"11\", \"6\", \"5\", \"14\", \"14\", \"14\", \"18\", \"19\", \"34\", \"44\", \"21\", \"14\", \"31\", \"40\", \"51\", \"63\", \"81\", \"103\", \"105\", \"129\", \"92\", \"92\", \"137\", \"138\", \"151\", \"159\", \"154\", \"188\", \"173\", \"161\", \"190\", \"248\", \"268\", \"307\", \"388\", \"385\", \"505\", \"257\"], \n",
    "  \"mode\": \"lines\", \n",
    "  \"name\": \"Arts , Entertainment\", \n",
    "  \"type\": \"scatter\", \n",
    "  \"xsrc\": \"naeemsunesara:5:c1a06a\", \n",
    "  \"ysrc\": \"naeemsunesara:5:9ab76c\"\n",
    "}\n",
    "trace9 = {\n",
    "  \"x\": [\"1932\", \"1968\", \"1969\", \"1970\", \"1971\", \"1972\", \"1973\", \"1974\", \"1975\", \"1976\", \"1977\", \"1978\", \"1979\", \"1980\", \"1981\", \"1982\", \"1983\", \"1984\", \"1985\", \"1986\", \"1987\", \"1988\", \"1989\", \"1990\", \"1991\", \"1992\", \"1993\", \"1994\", \"1995\", \"1996\", \"1997\", \"1998\", \"1999\", \"2000\", \"2001\", \"2002\", \"2003\", \"2004\", \"2005\", \"2006\", \"2007\", \"2008\", \"2009\", \"2010\", \"2011\", \"2012\", \"2013\", \"2014\", \"2015\", \"2016\", \"2017\", \"2021\"], \n",
    "  \"y\": [\"1\", \"91\", \"4\", \"10\", \"5\", \"13\", \"10\", \"6\", \"13\", \"10\", \"14\", \"8\", \"21\", \"1\", \"14\", \"4\", \"8\", \"5\", \"10\", \"10\", \"19\", \"16\", \"50\", \"5\", \"9\", \"5\", \"3\", \"20\", \"10\", \"13\", \"12\", \"17\", \"33\", \"2\", \"23\", \"30\", \"58\", \"25\", \"20\", \"51\", \"122\", \"23\", \"39\", \"44\", \"40\", \"78\", \"85\", \"178\", \"916\", \"763\", \"373\", \"3\"], \n",
    "  \"mode\": \"lines\", \n",
    "  \"name\": \"Accomodations\", \n",
    "  \"type\": \"scatter\", \n",
    "  \"xsrc\": \"naeemsunesara:13:9d3148\", \n",
    "  \"ysrc\": \"naeemsunesara:13:378116\"\n",
    "}\n",
    "trace10 = {\n",
    "  \"x\": [\"1956\", \"1968\", \"1970\", \"1971\", \"1972\", \"1975\", \"1976\", \"1977\", \"1978\", \"1979\", \"1980\", \"1981\", \"1982\", \"1983\", \"1984\", \"1985\", \"1986\", \"1987\", \"1988\", \"1989\", \"1990\", \"1991\", \"1992\", \"1993\", \"1994\", \"1995\", \"1996\", \"1997\", \"1998\", \"1999\", \"2000\", \"2001\", \"2002\", \"2003\", \"2004\", \"2005\", \"2006\", \"2007\", \"2008\", \"2009\", \"2010\", \"2011\", \"2012\", \"2013\", \"2014\", \"2015\", \"2016\", \"2017\"], \n",
    "  \"y\": [\"1\", \"27\", \"5\", \"22\", \"2\", \"3\", \"6\", \"6\", \"2\", \"2\", \"1\", \"3\", \"8\", \"27\", \"16\", \"16\", \"12\", \"33\", \"18\", \"28\", \"16\", \"13\", \"13\", \"18\", \"32\", \"27\", \"36\", \"58\", \"44\", \"55\", \"53\", \"55\", \"61\", \"85\", \"72\", \"142\", \"143\", \"134\", \"99\", \"101\", \"177\", \"145\", \"164\", \"217\", \"234\", \"207\", \"230\", \"66\"], \n",
    "  \"mode\": \"lines\", \n",
    "  \"name\": \"Financial Services\", \n",
    "  \"type\": \"scatter\", \n",
    "  \"xsrc\": \"naeemsunesara:11:d4f0cb\", \n",
    "  \"ysrc\": \"naeemsunesara:11:901b31\"\n",
    "}\n",
    "trace11 = {\n",
    "  \"x\": [\"1849\", \"1947\", \"1950\", \"1968\", \"1971\", \"1975\", \"1976\", \"1977\", \"1978\", \"1979\", \"1980\", \"1981\", \"1982\", \"1983\", \"1984\", \"1985\", \"1986\", \"1987\", \"1988\", \"1989\", \"1990\", \"1991\", \"1992\", \"1993\", \"1994\", \"1995\", \"1996\", \"1997\", \"1998\", \"1999\", \"2000\", \"2001\", \"2002\", \"2003\", \"2004\", \"2005\", \"2006\", \"2007\", \"2008\", \"2009\", \"2010\", \"2011\", \"2012\", \"2013\", \"2014\", \"2015\", \"2016\", \"2017\"], \n",
    "  \"y\": [\"1\", \"1\", \"1\", \"51\", \"1\", \"4\", \"6\", \"1\", \"2\", \"3\", \"1\", \"3\", \"4\", \"1\", \"1\", \"4\", \"3\", \"6\", \"3\", \"4\", \"3\", \"6\", \"29\", \"9\", \"6\", \"24\", \"17\", \"25\", \"37\", \"52\", \"40\", \"23\", \"23\", \"45\", \"55\", \"58\", \"68\", \"142\", \"61\", \"78\", \"99\", \"159\", \"258\", \"229\", \"237\", \"251\", \"255\", \"111\"], \n",
    "  \"line\": {\n",
    "    \"color\": \"rgb(21, 106, 46)\", \n",
    "    \"dash\": \"solid\", \n",
    "    \"shape\": \"linear\"\n",
    "  }, \n",
    "  \"mode\": \"lines\", \n",
    "  \"name\": \"Information\", \n",
    "  \"type\": \"scatter\", \n",
    "  \"xsrc\": \"naeemsunesara:9:7a103e\", \n",
    "  \"ysrc\": \"naeemsunesara:9:154dbf\"\n",
    "}\n",
    "trace12 = {\n",
    "  \"x\": [\"1968\", \"1970\", \"1971\", \"1972\", \"1973\", \"1974\", \"1975\", \"1976\", \"1977\", \"1978\", \"1979\", \"1980\", \"1981\", \"1982\", \"1983\", \"1984\", \"1985\", \"1986\", \"1987\", \"1988\", \"1989\", \"1990\", \"1991\", \"1992\", \"1993\", \"1994\", \"1995\", \"1996\", \"1997\", \"1998\", \"1999\", \"2000\", \"2001\", \"2002\", \"2003\", \"2004\", \"2005\", \"2006\", \"2007\", \"2008\", \"2009\", \"2010\", \"2011\", \"2012\", \"2013\", \"2014\", \"2015\", \"2016\", \"2017\"], \n",
    "  \"y\": [\"71\", \"5\", \"4\", \"6\", \"3\", \"7\", \"5\", \"8\", \"7\", \"14\", \"8\", \"8\", \"29\", \"8\", \"11\", \"13\", \"14\", \"18\", \"29\", \"29\", \"27\", \"29\", \"34\", \"34\", \"33\", \"41\", \"42\", \"59\", \"51\", \"46\", \"77\", \"61\", \"57\", \"51\", \"67\", \"75\", \"67\", \"94\", \"56\", \"89\", \"91\", \"88\", \"116\", \"108\", \"126\", \"150\", \"146\", \"193\", \"78\"], \n",
    "  \"line\": {\"color\": \"rgb(132, 82, 73)\"}, \n",
    "  \"mode\": \"lines\", \n",
    "  \"name\": \"Wholesale Trade\", \n",
    "  \"type\": \"scatter\", \n",
    "  \"xsrc\": \"naeemsunesara:14:d20b3b\", \n",
    "  \"ysrc\": \"naeemsunesara:14:ddf745\"\n",
    "}\n",
    "trace13 = {\n",
    "  \"x\": [\"1897\", \"1945\", \"1951\", \"1953\", \"1955\", \"1958\", \"1963\", \"1966\", \"1968\", \"1969\", \"1970\", \"1971\", \"1972\", \"1973\", \"1975\", \"1976\", \"1977\", \"1978\", \"1980\", \"1981\", \"1982\", \"1983\", \"1984\", \"1985\", \"1986\", \"1987\", \"1988\", \"1989\", \"1990\", \"1991\", \"1992\", \"1993\", \"1994\", \"1995\", \"1996\", \"1997\", \"1998\", \"1999\", \"2000\", \"2001\", \"2002\", \"2003\", \"2004\", \"2005\", \"2006\", \"2007\", \"2008\", \"2009\", \"2010\", \"2011\", \"2012\", \"2013\", \"2014\", \"2015\", \"2016\", \"2017\"], \n",
    "  \"y\": [\"1\", \"1\", \"1\", \"1\", \"2\", \"2\", \"1\", \"1\", \"56\", \"4\", \"259\", \"5\", \"5\", \"9\", \"2\", \"3\", \"2\", \"2\", \"3\", \"3\", \"2\", \"1\", \"2\", \"8\", \"18\", \"19\", \"11\", \"13\", \"7\", \"6\", \"19\", \"5\", \"34\", \"28\", \"16\", \"93\", \"36\", \"25\", \"32\", \"53\", \"21\", \"39\", \"44\", \"86\", \"76\", \"65\", \"64\", \"62\", \"78\", \"90\", \"115\", \"109\", \"122\", \"139\", \"257\", \"168\"], \n",
    "  \"line\": {\"color\": \"rgb(64, 57, 114)\"}, \n",
    "  \"mode\": \"lines\", \n",
    "  \"name\": \"Administrative\", \n",
    "  \"type\": \"scatter\", \n",
    "  \"xsrc\": \"naeemsunesara:15:7d457a\", \n",
    "  \"ysrc\": \"naeemsunesara:15:7f6a59\"\n",
    "}\n",
    "trace14 = {\n",
    "  \"x\": [\"1968\", \"1969\", \"1970\", \"1971\", \"1972\", \"1973\", \"1975\", \"1976\", \"1977\", \"1978\", \"1980\", \"1981\", \"1982\", \"1983\", \"1984\", \"1985\", \"1986\", \"1987\", \"1988\", \"1989\", \"1990\", \"1991\", \"1992\", \"1993\", \"1994\", \"1995\", \"1996\", \"1997\", \"1998\", \"1999\", \"2000\", \"2001\", \"2002\", \"2003\", \"2004\", \"2005\", \"2006\", \"2007\", \"2008\", \"2009\", \"2010\", \"2011\", \"2012\", \"2013\", \"2014\", \"2015\", \"2016\", \"2017\"], \n",
    "  \"y\": [\"45\", \"18\", \"5\", \"2\", \"3\", \"3\", \"4\", \"5\", \"2\", \"6\", \"2\", \"6\", \"6\", \"2\", \"6\", \"9\", \"4\", \"6\", \"8\", \"18\", \"4\", \"7\", \"15\", \"14\", \"16\", \"11\", \"22\", \"19\", \"24\", \"18\", \"22\", \"16\", \"17\", \"20\", \"35\", \"27\", \"37\", \"53\", \"47\", \"43\", \"66\", \"60\", \"52\", \"98\", \"90\", \"123\", \"128\", \"49\"], \n",
    "  \"line\": {\"color\": \"rgb(158, 161, 14)\"}, \n",
    "  \"mode\": \"lines\", \n",
    "  \"name\": \"Manufacturing\", \n",
    "  \"type\": \"scatter\", \n",
    "  \"xsrc\": \"naeemsunesara:12:270061\", \n",
    "  \"ysrc\": \"naeemsunesara:12:88cdd3\"\n",
    "}\n",
    "trace15 = {\n",
    "  \"x\": [\"1947\", \"1968\", \"1974\", \"1978\", \"1979\", \"1982\", \"1983\", \"1984\", \"1987\", \"1989\", \"1990\", \"1991\", \"1992\", \"1993\", \"1994\", \"1996\", \"1997\", \"1998\", \"1999\", \"2000\", \"2001\", \"2002\", \"2003\", \"2004\", \"2005\", \"2006\", \"2007\", \"2008\", \"2009\", \"2010\", \"2011\", \"2012\", \"2013\", \"2014\", \"2015\", \"2016\", \"2017\", \"2020\"], \n",
    "  \"y\": [\"2\", \"1\", \"1\", \"1\", \"1\", \"1\", \"1\", \"1\", \"1\", \"2\", \"3\", \"3\", \"4\", \"1\", \"6\", \"7\", \"6\", \"7\", \"7\", \"3\", \"7\", \"16\", \"16\", \"7\", \"14\", \"13\", \"14\", \"13\", \"11\", \"12\", \"23\", \"28\", \"40\", \"35\", \"47\", \"101\", \"84\", \"1\"], \n",
    "  \"line\": {\"color\": \"rgb(102, 204, 221)\"}, \n",
    "  \"mode\": \"lines\", \n",
    "  \"name\": \"Certain Services\", \n",
    "  \"type\": \"scatter\", \n",
    "  \"xsrc\": \"naeemsunesara:10:35188a\", \n",
    "  \"ysrc\": \"naeemsunesara:10:edfb0e\"\n",
    "}\n",
    "trace16 = {\n",
    "  \"x\": [\"1955\", \"1956\", \"1965\", \"1968\", \"1969\", \"1971\", \"1972\", \"1973\", \"1974\", \"1975\", \"1976\", \"1979\", \"1982\", \"1984\", \"1985\", \"1986\", \"1987\", \"1989\", \"1990\", \"1991\", \"1992\", \"1993\", \"1994\", \"1995\", \"1996\", \"1997\", \"1998\", \"1999\", \"2000\", \"2001\", \"2002\", \"2003\", \"2004\", \"2005\", \"2006\", \"2007\", \"2008\", \"2009\", \"2010\", \"2011\", \"2012\", \"2013\", \"2014\", \"2015\", \"2016\", \"2017\"], \n",
    "  \"y\": [\"3\", \"2\", \"1\", \"15\", \"2\", \"1\", \"4\", \"2\", \"1\", \"1\", \"2\", \"3\", \"3\", \"6\", \"1\", \"1\", \"9\", \"17\", \"4\", \"4\", \"8\", \"1\", \"5\", \"2\", \"10\", \"9\", \"10\", \"9\", \"11\", \"20\", \"17\", \"14\", \"14\", \"9\", \"9\", \"20\", \"17\", \"16\", \"24\", \"16\", \"16\", \"40\", \"33\", \"25\", \"40\", \"7\"], \n",
    "  \"line\": {\"color\": \"rgb(176, 131, 182)\"}, \n",
    "  \"mode\": \"lines\", \n",
    "  \"name\": \"Insurance\", \n",
    "  \"type\": \"scatter\", \n",
    "  \"xsrc\": \"naeemsunesara:16:a7a9e0\", \n",
    "  \"ysrc\": \"naeemsunesara:16:f48c9f\"\n",
    "}\n",
    "trace17 = {\n",
    "  \"x\": [\"1965\", \"1984\", \"1987\", \"1988\", \"1993\", \"1994\", \"1996\", \"1998\", \"1999\", \"2000\", \"2001\", \"2002\", \"2004\", \"2007\", \"2008\", \"2009\", \"2010\", \"2011\", \"2012\", \"2013\", \"2014\", \"2015\", \"2016\", \"2017\"], \n",
    "  \"y\": [\"2\", \"2\", \"1\", \"1\", \"13\", \"1\", \"1\", \"4\", \"3\", \"2\", \"7\", \"1\", \"1\", \"2\", \"3\", \"4\", \"11\", \"1\", \"7\", \"4\", \"8\", \"7\", \"12\", \"2\"], \n",
    "  \"line\": {\"color\": \"rgb(163, 155, 135)\"}, \n",
    "  \"mode\": \"lines\", \n",
    "  \"name\": \"Utilities\", \n",
    "  \"type\": \"scatter\", \n",
    "  \"xsrc\": \"naeemsunesara:17:152434\", \n",
    "  \"ysrc\": \"naeemsunesara:17:bf059e\"\n",
    "}\n",
    "data = Data([trace1, trace2, trace3, trace4, trace5, trace6, trace7, trace8, trace9, trace10, trace11, trace12, trace13, trace14, trace15, trace16, trace17])\n",
    "layout = {\n",
    "  \"autosize\": True, \n",
    "  \"xaxis\": {\n",
    "    \"autorange\": True, \n",
    "    \"domain\": [0, 1], \n",
    "    \"range\": [1849, 2029], \n",
    "    \"title\": {\"text\": \"Years\"}, \n",
    "    \"type\": \"linear\"\n",
    "  }, \n",
    "  \"yaxis\": {\n",
    "    \"autorange\": True, \n",
    "    \"domain\": [0, 1], \n",
    "    \"range\": [-182.277777778, 3483.27777778], \n",
    "    \"title\": {\"text\": \"Number of Businesses\"}, \n",
    "    \"type\": \"linear\"\n",
    "  }\n",
    "}\n",
    "fig = Figure(data=data, layout=layout)\n",
    "plot_url = py.iplot(fig)"
   ]
  },
  {
   "cell_type": "code",
   "execution_count": 279,
   "metadata": {},
   "outputs": [
    {
     "data": {
      "text/html": [
       "<iframe id=\"igraph\" scrolling=\"no\" style=\"border:none;\" seamless=\"seamless\" src=\"https://plot.ly/~naeemsunesara/26.embed\" height=\"525px\" width=\"100%\"></iframe>"
      ],
      "text/plain": [
       "<plotly.tools.PlotlyDisplay object>"
      ]
     },
     "execution_count": 279,
     "metadata": {},
     "output_type": "execute_result"
    }
   ],
   "source": [
    "plot_url"
   ]
  },
  {
   "cell_type": "code",
   "execution_count": null,
   "metadata": {},
   "outputs": [],
   "source": []
  },
  {
   "cell_type": "code",
   "execution_count": null,
   "metadata": {},
   "outputs": [],
   "source": []
  },
  {
   "cell_type": "code",
   "execution_count": null,
   "metadata": {},
   "outputs": [],
   "source": []
  },
  {
   "cell_type": "code",
   "execution_count": null,
   "metadata": {},
   "outputs": [],
   "source": []
  },
  {
   "cell_type": "code",
   "execution_count": null,
   "metadata": {},
   "outputs": [],
   "source": []
  },
  {
   "cell_type": "code",
   "execution_count": null,
   "metadata": {},
   "outputs": [],
   "source": []
  },
  {
   "cell_type": "code",
   "execution_count": null,
   "metadata": {},
   "outputs": [],
   "source": []
  },
  {
   "cell_type": "code",
   "execution_count": null,
   "metadata": {},
   "outputs": [],
   "source": []
  },
  {
   "cell_type": "code",
   "execution_count": null,
   "metadata": {},
   "outputs": [],
   "source": []
  },
  {
   "cell_type": "code",
   "execution_count": null,
   "metadata": {},
   "outputs": [],
   "source": []
  },
  {
   "cell_type": "code",
   "execution_count": null,
   "metadata": {},
   "outputs": [],
   "source": []
  },
  {
   "cell_type": "code",
   "execution_count": null,
   "metadata": {},
   "outputs": [],
   "source": []
  },
  {
   "cell_type": "code",
   "execution_count": null,
   "metadata": {},
   "outputs": [],
   "source": []
  },
  {
   "cell_type": "code",
   "execution_count": null,
   "metadata": {},
   "outputs": [],
   "source": []
  },
  {
   "cell_type": "code",
   "execution_count": null,
   "metadata": {},
   "outputs": [],
   "source": []
  },
  {
   "cell_type": "code",
   "execution_count": null,
   "metadata": {},
   "outputs": [],
   "source": []
  },
  {
   "cell_type": "code",
   "execution_count": null,
   "metadata": {},
   "outputs": [],
   "source": []
  },
  {
   "cell_type": "code",
   "execution_count": null,
   "metadata": {},
   "outputs": [],
   "source": []
  },
  {
   "cell_type": "code",
   "execution_count": null,
   "metadata": {},
   "outputs": [],
   "source": []
  },
  {
   "cell_type": "code",
   "execution_count": null,
   "metadata": {},
   "outputs": [],
   "source": []
  }
 ],
 "metadata": {
  "kernelspec": {
   "display_name": "Python 3",
   "language": "python",
   "name": "python3"
  },
  "language_info": {
   "codemirror_mode": {
    "name": "ipython",
    "version": 3
   },
   "file_extension": ".py",
   "mimetype": "text/x-python",
   "name": "python",
   "nbconvert_exporter": "python",
   "pygments_lexer": "ipython3",
   "version": "3.7.1"
  }
 },
 "nbformat": 4,
 "nbformat_minor": 2
}
